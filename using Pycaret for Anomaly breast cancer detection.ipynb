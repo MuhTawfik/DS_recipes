{
 "cells": [
  {
   "cell_type": "markdown",
   "metadata": {},
   "source": [
    "#### installing libraries"
   ]
  },
  {
   "cell_type": "code",
   "execution_count": null,
   "metadata": {},
   "outputs": [
    {
     "name": "stdout",
     "output_type": "stream",
     "text": [
      "Defaulting to user installation because normal site-packages is not writeable\n",
      "Requirement already satisfied: pycaret==2.3.5 in /home/cvmuser1/.local/lib/python3.7/site-packages (2.3.5)\n",
      "Requirement already satisfied: scikit-plot in /home/cvmuser1/.local/lib/python3.7/site-packages (from pycaret==2.3.5) (0.3.7)\n",
      "Requirement already satisfied: lightgbm>=2.3.1 in /home/cvmuser1/.local/lib/python3.7/site-packages (from pycaret==2.3.5) (3.3.2)\n",
      "Requirement already satisfied: numpy==1.19.5 in /usr/local/lib64/python3.7/site-packages (from pycaret==2.3.5) (1.19.5)\n",
      "Requirement already satisfied: spacy<2.4.0 in /home/cvmuser1/.local/lib/python3.7/site-packages (from pycaret==2.3.5) (2.3.7)\n",
      "Requirement already satisfied: cufflinks>=0.17.0 in /home/cvmuser1/.local/lib/python3.7/site-packages (from pycaret==2.3.5) (0.17.3)\n",
      "Requirement already satisfied: kmodes>=0.10.1 in /home/cvmuser1/.local/lib/python3.7/site-packages (from pycaret==2.3.5) (0.11.1)\n",
      "Requirement already satisfied: pyod in /home/cvmuser1/.local/lib/python3.7/site-packages (from pycaret==2.3.5) (0.9.7)\n",
      "Requirement already satisfied: textblob in /home/cvmuser1/.local/lib/python3.7/site-packages (from pycaret==2.3.5) (0.17.1)\n",
      "Requirement already satisfied: seaborn in /usr/local/lib/python3.7/site-packages (from pycaret==2.3.5) (0.10.1)\n",
      "Requirement already satisfied: pyLDAvis in /home/cvmuser1/.local/lib/python3.7/site-packages (from pycaret==2.3.5) (3.2.2)\n",
      "Requirement already satisfied: gensim<4.0.0 in /home/cvmuser1/.local/lib/python3.7/site-packages (from pycaret==2.3.5) (3.8.3)\n",
      "Requirement already satisfied: matplotlib in /usr/local/lib64/python3.7/site-packages (from pycaret==2.3.5) (3.2.2)\n",
      "Requirement already satisfied: Boruta in /home/cvmuser1/.local/lib/python3.7/site-packages (from pycaret==2.3.5) (0.3)\n",
      "Requirement already satisfied: scipy<=1.5.4 in /home/cvmuser1/.local/lib/python3.7/site-packages (from pycaret==2.3.5) (1.4.1)\n",
      "Requirement already satisfied: joblib in /home/cvmuser1/.local/lib/python3.7/site-packages (from pycaret==2.3.5) (1.0.1)\n",
      "Requirement already satisfied: nltk in /home/cvmuser1/.local/lib/python3.7/site-packages (from pycaret==2.3.5) (3.6.7)\n",
      "Requirement already satisfied: plotly>=4.4.1 in /usr/local/lib/python3.7/site-packages (from pycaret==2.3.5) (4.11.0)\n",
      "Requirement already satisfied: scikit-learn==0.23.2 in /usr/local/lib64/python3.7/site-packages (from pycaret==2.3.5) (0.23.2)\n",
      "Requirement already satisfied: pandas in /usr/local/lib64/python3.7/site-packages (from pycaret==2.3.5) (1.0.5)\n",
      "Requirement already satisfied: imbalanced-learn==0.7.0 in /home/cvmuser1/.local/lib/python3.7/site-packages (from pycaret==2.3.5) (0.7.0)\n",
      "Requirement already satisfied: ipywidgets in /usr/local/lib/python3.7/site-packages (from pycaret==2.3.5) (7.6.3)\n",
      "Requirement already satisfied: mlflow in /home/cvmuser1/.local/lib/python3.7/site-packages (from pycaret==2.3.5) (1.23.1)\n",
      "Requirement already satisfied: yellowbrick>=1.0.1 in /home/cvmuser1/.local/lib/python3.7/site-packages (from pycaret==2.3.5) (1.3.post1)\n",
      "Requirement already satisfied: umap-learn in /home/cvmuser1/.local/lib/python3.7/site-packages (from pycaret==2.3.5) (0.5.2)\n",
      "Requirement already satisfied: IPython in /usr/local/lib/python3.7/site-packages (from pycaret==2.3.5) (7.16.1)\n",
      "Requirement already satisfied: mlxtend>=0.17.0 in /home/cvmuser1/.local/lib/python3.7/site-packages (from pycaret==2.3.5) (0.19.0)\n",
      "Requirement already satisfied: pandas-profiling>=2.8.0 in /home/cvmuser1/.local/lib/python3.7/site-packages (from pycaret==2.3.5) (3.1.0)\n",
      "Requirement already satisfied: wordcloud in /home/cvmuser1/.local/lib/python3.7/site-packages (from pycaret==2.3.5) (1.8.1)\n",
      "Requirement already satisfied: threadpoolctl>=2.0.0 in /usr/local/lib/python3.7/site-packages (from scikit-learn==0.23.2->pycaret==2.3.5) (2.1.0)\n",
      "Requirement already satisfied: six>=1.9.0 in /usr/local/lib/python3.7/site-packages (from cufflinks>=0.17.0->pycaret==2.3.5) (1.15.0)\n",
      "Requirement already satisfied: colorlover>=0.2.1 in /home/cvmuser1/.local/lib/python3.7/site-packages (from cufflinks>=0.17.0->pycaret==2.3.5) (0.3.0)\n",
      "Requirement already satisfied: setuptools>=34.4.1 in /home/cvmuser1/.local/lib/python3.7/site-packages (from cufflinks>=0.17.0->pycaret==2.3.5) (60.2.0)\n",
      "Requirement already satisfied: smart-open>=1.8.1 in /home/cvmuser1/.local/lib/python3.7/site-packages (from gensim<4.0.0->pycaret==2.3.5) (5.2.1)\n",
      "Requirement already satisfied: pexpect in /usr/local/lib/python3.7/site-packages (from IPython->pycaret==2.3.5) (4.8.0)\n",
      "Requirement already satisfied: prompt-toolkit!=3.0.0,!=3.0.1,<3.1.0,>=2.0.0 in /usr/local/lib/python3.7/site-packages (from IPython->pycaret==2.3.5) (3.0.5)\n",
      "Requirement already satisfied: pickleshare in /usr/local/lib/python3.7/site-packages (from IPython->pycaret==2.3.5) (0.7.5)\n",
      "Requirement already satisfied: pygments in /usr/local/lib64/python3.7/site-packages (from IPython->pycaret==2.3.5) (2.6.1)\n",
      "Requirement already satisfied: jedi>=0.10 in /usr/local/lib/python3.7/site-packages (from IPython->pycaret==2.3.5) (0.17.1)\n",
      "Requirement already satisfied: traitlets>=4.2 in /usr/local/lib/python3.7/site-packages (from IPython->pycaret==2.3.5) (4.3.3)\n",
      "Requirement already satisfied: backcall in /usr/local/lib/python3.7/site-packages (from IPython->pycaret==2.3.5) (0.2.0)\n",
      "Requirement already satisfied: decorator in /usr/local/lib/python3.7/site-packages (from IPython->pycaret==2.3.5) (4.4.2)\n",
      "Requirement already satisfied: ipykernel>=4.5.1 in /usr/local/lib/python3.7/site-packages (from ipywidgets->pycaret==2.3.5) (5.3.2)\n",
      "Requirement already satisfied: jupyterlab-widgets>=1.0.0 in /usr/local/lib/python3.7/site-packages (from ipywidgets->pycaret==2.3.5) (1.0.0)\n",
      "Requirement already satisfied: nbformat>=4.2.0 in /home/cvmuser1/.local/lib/python3.7/site-packages (from ipywidgets->pycaret==2.3.5) (5.1.3)\n",
      "Requirement already satisfied: widgetsnbextension~=3.5.0 in /usr/local/lib/python3.7/site-packages (from ipywidgets->pycaret==2.3.5) (3.5.1)\n",
      "Requirement already satisfied: tornado>=4.2 in /usr/local/lib64/python3.7/site-packages (from ipykernel>=4.5.1->ipywidgets->pycaret==2.3.5) (6.0.4)\n",
      "Requirement already satisfied: jupyter-client in /usr/local/lib/python3.7/site-packages (from ipykernel>=4.5.1->ipywidgets->pycaret==2.3.5) (6.1.5)\n",
      "Requirement already satisfied: parso<0.8.0,>=0.7.0 in /usr/local/lib/python3.7/site-packages (from jedi>=0.10->IPython->pycaret==2.3.5) (0.7.0)\n",
      "Requirement already satisfied: wheel in /home/cvmuser1/.local/lib/python3.7/site-packages (from lightgbm>=2.3.1->pycaret==2.3.5) (0.37.0)\n",
      "Requirement already satisfied: pyparsing!=2.0.4,!=2.1.2,!=2.1.6,>=2.0.1 in /usr/local/lib/python3.7/site-packages (from matplotlib->pycaret==2.3.5) (2.4.7)\n",
      "Requirement already satisfied: cycler>=0.10 in /usr/local/lib/python3.7/site-packages (from matplotlib->pycaret==2.3.5) (0.10.0)\n",
      "Requirement already satisfied: python-dateutil>=2.1 in /usr/local/lib/python3.7/site-packages (from matplotlib->pycaret==2.3.5) (2.8.1)\n",
      "Requirement already satisfied: kiwisolver>=1.0.1 in /usr/local/lib64/python3.7/site-packages (from matplotlib->pycaret==2.3.5) (1.2.0)\n",
      "Requirement already satisfied: jsonschema!=2.5.0,>=2.4 in /usr/local/lib/python3.7/site-packages (from nbformat>=4.2.0->ipywidgets->pycaret==2.3.5) (3.2.0)\n",
      "Requirement already satisfied: ipython-genutils in /usr/local/lib/python3.7/site-packages (from nbformat>=4.2.0->ipywidgets->pycaret==2.3.5) (0.2.0)\n",
      "Requirement already satisfied: jupyter-core in /usr/local/lib/python3.7/site-packages (from nbformat>=4.2.0->ipywidgets->pycaret==2.3.5) (4.6.3)\n",
      "Requirement already satisfied: attrs>=17.4.0 in /usr/local/lib/python3.7/site-packages (from jsonschema!=2.5.0,>=2.4->nbformat>=4.2.0->ipywidgets->pycaret==2.3.5) (19.3.0)\n",
      "Requirement already satisfied: pyrsistent>=0.14.0 in /usr/local/lib64/python3.7/site-packages (from jsonschema!=2.5.0,>=2.4->nbformat>=4.2.0->ipywidgets->pycaret==2.3.5) (0.16.0)\n",
      "Requirement already satisfied: importlib-metadata in /home/cvmuser1/.local/lib/python3.7/site-packages (from jsonschema!=2.5.0,>=2.4->nbformat>=4.2.0->ipywidgets->pycaret==2.3.5) (4.10.1)\n",
      "Requirement already satisfied: pytz>=2017.2 in /usr/local/lib/python3.7/site-packages (from pandas->pycaret==2.3.5) (2020.1)\n",
      "Requirement already satisfied: phik>=0.11.1 in /home/cvmuser1/.local/lib/python3.7/site-packages (from pandas-profiling>=2.8.0->pycaret==2.3.5) (0.12.0)\n",
      "Requirement already satisfied: PyYAML>=5.0.0 in /usr/local/lib64/python3.7/site-packages (from pandas-profiling>=2.8.0->pycaret==2.3.5) (5.4.1)\n",
      "Requirement already satisfied: jinja2>=2.11.1 in /usr/local/lib64/python3.7/site-packages (from pandas-profiling>=2.8.0->pycaret==2.3.5) (2.11.2)\n",
      "Requirement already satisfied: missingno>=0.4.2 in /home/cvmuser1/.local/lib/python3.7/site-packages (from pandas-profiling>=2.8.0->pycaret==2.3.5) (0.5.0)\n",
      "Requirement already satisfied: multimethod>=1.4 in /home/cvmuser1/.local/lib/python3.7/site-packages (from pandas-profiling>=2.8.0->pycaret==2.3.5) (1.7)\n",
      "Requirement already satisfied: visions[type_image_path]==0.7.4 in /home/cvmuser1/.local/lib/python3.7/site-packages (from pandas-profiling>=2.8.0->pycaret==2.3.5) (0.7.4)\n",
      "Requirement already satisfied: tangled-up-in-unicode==0.1.0 in /home/cvmuser1/.local/lib/python3.7/site-packages (from pandas-profiling>=2.8.0->pycaret==2.3.5) (0.1.0)\n",
      "Requirement already satisfied: markupsafe~=2.0.1 in /home/cvmuser1/.local/lib/python3.7/site-packages (from pandas-profiling>=2.8.0->pycaret==2.3.5) (2.0.1)\n",
      "Requirement already satisfied: tqdm>=4.48.2 in /usr/local/lib/python3.7/site-packages (from pandas-profiling>=2.8.0->pycaret==2.3.5) (4.56.2)\n",
      "Requirement already satisfied: pydantic>=1.8.1 in /home/cvmuser1/.local/lib/python3.7/site-packages (from pandas-profiling>=2.8.0->pycaret==2.3.5) (1.9.0)\n",
      "Requirement already satisfied: htmlmin>=0.1.12 in /home/cvmuser1/.local/lib/python3.7/site-packages (from pandas-profiling>=2.8.0->pycaret==2.3.5) (0.1.12)\n",
      "Requirement already satisfied: requests>=2.24.0 in /usr/local/lib/python3.7/site-packages (from pandas-profiling>=2.8.0->pycaret==2.3.5) (2.24.0)\n",
      "Requirement already satisfied: networkx>=2.4 in /home/cvmuser1/.local/lib/python3.7/site-packages (from visions[type_image_path]==0.7.4->pandas-profiling>=2.8.0->pycaret==2.3.5) (2.6.3)\n",
      "Requirement already satisfied: Pillow in /usr/local/lib64/python3.7/site-packages (from visions[type_image_path]==0.7.4->pandas-profiling>=2.8.0->pycaret==2.3.5) (8.1.0)\n",
      "Requirement already satisfied: imagehash in /home/cvmuser1/.local/lib/python3.7/site-packages (from visions[type_image_path]==0.7.4->pandas-profiling>=2.8.0->pycaret==2.3.5) (4.2.1)\n",
      "Collecting scipy<=1.5.4\n",
      "  Downloading scipy-1.5.4-cp37-cp37m-manylinux1_x86_64.whl (25.9 MB)\n",
      "\u001b[K     |████████████████████████████████| 25.9 MB 24.5 MB/s eta 0:00:01\n",
      "\u001b[?25hRequirement already satisfied: retrying>=1.3.3 in /usr/local/lib/python3.7/site-packages (from plotly>=4.4.1->pycaret==2.3.5) (1.3.3)\n",
      "Requirement already satisfied: wcwidth in /usr/local/lib/python3.7/site-packages (from prompt-toolkit!=3.0.0,!=3.0.1,<3.1.0,>=2.0.0->IPython->pycaret==2.3.5) (0.2.5)\n",
      "Requirement already satisfied: typing-extensions>=3.7.4.3 in /usr/local/lib/python3.7/site-packages (from pydantic>=1.8.1->pandas-profiling>=2.8.0->pycaret==2.3.5) (3.7.4.3)\n",
      "Requirement already satisfied: idna<3,>=2.5 in /usr/local/lib/python3.7/site-packages (from requests>=2.24.0->pandas-profiling>=2.8.0->pycaret==2.3.5) (2.10)\n",
      "Requirement already satisfied: urllib3!=1.25.0,!=1.25.1,<1.26,>=1.21.1 in /usr/local/lib/python3.7/site-packages (from requests>=2.24.0->pandas-profiling>=2.8.0->pycaret==2.3.5) (1.25.10)\n",
      "Requirement already satisfied: chardet<4,>=3.0.2 in /usr/local/lib/python3.7/site-packages (from requests>=2.24.0->pandas-profiling>=2.8.0->pycaret==2.3.5) (3.0.4)\n",
      "Requirement already satisfied: certifi>=2017.4.17 in /usr/local/lib/python3.7/site-packages (from requests>=2.24.0->pandas-profiling>=2.8.0->pycaret==2.3.5) (2020.6.20)\n",
      "Requirement already satisfied: blis<0.8.0,>=0.4.0 in /home/cvmuser1/.local/lib/python3.7/site-packages (from spacy<2.4.0->pycaret==2.3.5) (0.7.5)\n",
      "Requirement already satisfied: preshed<3.1.0,>=3.0.2 in /home/cvmuser1/.local/lib/python3.7/site-packages (from spacy<2.4.0->pycaret==2.3.5) (3.0.6)\n",
      "Requirement already satisfied: plac<1.2.0,>=0.9.6 in /home/cvmuser1/.local/lib/python3.7/site-packages (from spacy<2.4.0->pycaret==2.3.5) (1.1.3)\n",
      "Requirement already satisfied: murmurhash<1.1.0,>=0.28.0 in /home/cvmuser1/.local/lib/python3.7/site-packages (from spacy<2.4.0->pycaret==2.3.5) (1.0.6)\n",
      "Requirement already satisfied: srsly<1.1.0,>=1.0.2 in /home/cvmuser1/.local/lib/python3.7/site-packages (from spacy<2.4.0->pycaret==2.3.5) (1.0.5)\n",
      "Requirement already satisfied: wasabi<1.1.0,>=0.4.0 in /home/cvmuser1/.local/lib/python3.7/site-packages (from spacy<2.4.0->pycaret==2.3.5) (0.9.0)\n",
      "Requirement already satisfied: catalogue<1.1.0,>=0.0.7 in /home/cvmuser1/.local/lib/python3.7/site-packages (from spacy<2.4.0->pycaret==2.3.5) (1.0.0)\n",
      "Requirement already satisfied: thinc<7.5.0,>=7.4.1 in /home/cvmuser1/.local/lib/python3.7/site-packages (from spacy<2.4.0->pycaret==2.3.5) (7.4.5)\n",
      "Requirement already satisfied: cymem<2.1.0,>=2.0.2 in /home/cvmuser1/.local/lib/python3.7/site-packages (from spacy<2.4.0->pycaret==2.3.5) (2.0.6)\n",
      "Requirement already satisfied: zipp>=0.5 in /usr/local/lib/python3.7/site-packages (from importlib-metadata->jsonschema!=2.5.0,>=2.4->nbformat>=4.2.0->ipywidgets->pycaret==2.3.5) (3.1.0)\n",
      "Requirement already satisfied: notebook>=4.4.1 in /usr/local/lib/python3.7/site-packages (from widgetsnbextension~=3.5.0->ipywidgets->pycaret==2.3.5) (6.0.3)\n",
      "Requirement already satisfied: terminado>=0.8.1 in /usr/local/lib/python3.7/site-packages (from notebook>=4.4.1->widgetsnbextension~=3.5.0->ipywidgets->pycaret==2.3.5) (0.8.3)\n",
      "Requirement already satisfied: prometheus-client in /usr/local/lib/python3.7/site-packages (from notebook>=4.4.1->widgetsnbextension~=3.5.0->ipywidgets->pycaret==2.3.5) (0.8.0)\n",
      "Requirement already satisfied: pyzmq>=17 in /usr/local/lib64/python3.7/site-packages (from notebook>=4.4.1->widgetsnbextension~=3.5.0->ipywidgets->pycaret==2.3.5) (19.0.1)\n",
      "Requirement already satisfied: Send2Trash in /usr/local/lib/python3.7/site-packages (from notebook>=4.4.1->widgetsnbextension~=3.5.0->ipywidgets->pycaret==2.3.5) (1.5.0)\n",
      "Requirement already satisfied: nbconvert in /usr/local/lib/python3.7/site-packages (from notebook>=4.4.1->widgetsnbextension~=3.5.0->ipywidgets->pycaret==2.3.5) (6.0.7)\n",
      "Requirement already satisfied: ptyprocess in /usr/local/lib/python3.7/site-packages (from terminado>=0.8.1->notebook>=4.4.1->widgetsnbextension~=3.5.0->ipywidgets->pycaret==2.3.5) (0.6.0)\n",
      "Requirement already satisfied: PyWavelets in /home/cvmuser1/.local/lib/python3.7/site-packages (from imagehash->visions[type_image_path]==0.7.4->pandas-profiling>=2.8.0->pycaret==2.3.5) (1.2.0)\n",
      "Requirement already satisfied: entrypoints in /usr/local/lib/python3.7/site-packages (from mlflow->pycaret==2.3.5) (0.3)\n",
      "Requirement already satisfied: sqlalchemy in /usr/local/lib64/python3.7/site-packages (from mlflow->pycaret==2.3.5) (1.3.18)\n",
      "Requirement already satisfied: gunicorn in /home/cvmuser1/.local/lib/python3.7/site-packages (from mlflow->pycaret==2.3.5) (20.1.0)\n",
      "Requirement already satisfied: querystring-parser in /home/cvmuser1/.local/lib/python3.7/site-packages (from mlflow->pycaret==2.3.5) (1.2.4)\n",
      "Requirement already satisfied: click>=7.0 in /usr/local/lib/python3.7/site-packages (from mlflow->pycaret==2.3.5) (7.1.2)\n",
      "Requirement already satisfied: docker>=4.0.0 in /home/cvmuser1/.local/lib/python3.7/site-packages (from mlflow->pycaret==2.3.5) (5.0.3)\n",
      "Requirement already satisfied: protobuf>=3.7.0 in /home/cvmuser1/.local/lib/python3.7/site-packages (from mlflow->pycaret==2.3.5) (3.19.1)\n",
      "Requirement already satisfied: alembic in /home/cvmuser1/.local/lib/python3.7/site-packages (from mlflow->pycaret==2.3.5) (1.7.6)\n",
      "Requirement already satisfied: sqlparse>=0.3.1 in /home/cvmuser1/.local/lib/python3.7/site-packages (from mlflow->pycaret==2.3.5) (0.4.2)\n",
      "Requirement already satisfied: databricks-cli>=0.8.7 in /home/cvmuser1/.local/lib/python3.7/site-packages (from mlflow->pycaret==2.3.5) (0.16.4)\n",
      "Requirement already satisfied: Flask in /usr/local/lib64/python3.7/site-packages (from mlflow->pycaret==2.3.5) (1.1.2)\n",
      "Requirement already satisfied: cloudpickle in /home/cvmuser1/.local/lib/python3.7/site-packages (from mlflow->pycaret==2.3.5) (2.0.0)\n",
      "Requirement already satisfied: packaging in /usr/local/lib/python3.7/site-packages (from mlflow->pycaret==2.3.5) (20.4)\n",
      "Requirement already satisfied: prometheus-flask-exporter in /home/cvmuser1/.local/lib/python3.7/site-packages (from mlflow->pycaret==2.3.5) (0.18.7)\n",
      "Requirement already satisfied: gitpython>=2.1.0 in /home/cvmuser1/.local/lib/python3.7/site-packages (from mlflow->pycaret==2.3.5) (3.1.26)\n",
      "Requirement already satisfied: tabulate>=0.7.7 in /home/cvmuser1/.local/lib/python3.7/site-packages (from databricks-cli>=0.8.7->mlflow->pycaret==2.3.5) (0.8.9)\n",
      "Requirement already satisfied: websocket-client>=0.32.0 in /home/cvmuser1/.local/lib/python3.7/site-packages (from docker>=4.0.0->mlflow->pycaret==2.3.5) (1.2.3)\n",
      "Requirement already satisfied: gitdb<5,>=4.0.1 in /home/cvmuser1/.local/lib/python3.7/site-packages (from gitpython>=2.1.0->mlflow->pycaret==2.3.5) (4.0.9)\n",
      "Requirement already satisfied: smmap<6,>=3.0.1 in /home/cvmuser1/.local/lib/python3.7/site-packages (from gitdb<5,>=4.0.1->gitpython>=2.1.0->mlflow->pycaret==2.3.5) (5.0.0)\n",
      "Requirement already satisfied: importlib-resources in /home/cvmuser1/.local/lib/python3.7/site-packages (from alembic->mlflow->pycaret==2.3.5) (5.4.0)\n",
      "Requirement already satisfied: Mako in /home/cvmuser1/.local/lib/python3.7/site-packages (from alembic->mlflow->pycaret==2.3.5) (1.1.6)\n",
      "Requirement already satisfied: itsdangerous>=0.24 in /usr/local/lib/python3.7/site-packages (from Flask->mlflow->pycaret==2.3.5) (1.1.0)\n",
      "Requirement already satisfied: Werkzeug>=0.15 in /usr/local/lib/python3.7/site-packages (from Flask->mlflow->pycaret==2.3.5) (1.0.1)\n",
      "Requirement already satisfied: defusedxml in /usr/local/lib/python3.7/site-packages (from nbconvert->notebook>=4.4.1->widgetsnbextension~=3.5.0->ipywidgets->pycaret==2.3.5) (0.6.0)\n",
      "Requirement already satisfied: nbclient<0.6.0,>=0.5.0 in /usr/local/lib/python3.7/site-packages (from nbconvert->notebook>=4.4.1->widgetsnbextension~=3.5.0->ipywidgets->pycaret==2.3.5) (0.5.3)\n",
      "Requirement already satisfied: testpath in /usr/local/lib/python3.7/site-packages (from nbconvert->notebook>=4.4.1->widgetsnbextension~=3.5.0->ipywidgets->pycaret==2.3.5) (0.4.4)\n",
      "Requirement already satisfied: mistune<2,>=0.8.1 in /usr/local/lib/python3.7/site-packages (from nbconvert->notebook>=4.4.1->widgetsnbextension~=3.5.0->ipywidgets->pycaret==2.3.5) (0.8.4)\n",
      "Requirement already satisfied: jupyterlab-pygments in /usr/local/lib/python3.7/site-packages (from nbconvert->notebook>=4.4.1->widgetsnbextension~=3.5.0->ipywidgets->pycaret==2.3.5) (0.1.2)\n",
      "Requirement already satisfied: pandocfilters>=1.4.1 in /usr/local/lib/python3.7/site-packages (from nbconvert->notebook>=4.4.1->widgetsnbextension~=3.5.0->ipywidgets->pycaret==2.3.5) (1.4.2)\n",
      "Requirement already satisfied: bleach in /usr/local/lib/python3.7/site-packages (from nbconvert->notebook>=4.4.1->widgetsnbextension~=3.5.0->ipywidgets->pycaret==2.3.5) (3.1.5)\n",
      "Requirement already satisfied: nest-asyncio in /usr/local/lib/python3.7/site-packages (from nbclient<0.6.0,>=0.5.0->nbconvert->notebook>=4.4.1->widgetsnbextension~=3.5.0->ipywidgets->pycaret==2.3.5) (1.5.1)\n",
      "Requirement already satisfied: async-generator in /usr/local/lib/python3.7/site-packages (from nbclient<0.6.0,>=0.5.0->nbconvert->notebook>=4.4.1->widgetsnbextension~=3.5.0->ipywidgets->pycaret==2.3.5) (1.10)\n",
      "Requirement already satisfied: webencodings in /usr/local/lib/python3.7/site-packages (from bleach->nbconvert->notebook>=4.4.1->widgetsnbextension~=3.5.0->ipywidgets->pycaret==2.3.5) (0.5.1)\n",
      "Requirement already satisfied: regex>=2021.8.3 in /home/cvmuser1/.local/lib/python3.7/site-packages (from nltk->pycaret==2.3.5) (2022.1.18)\n",
      "Requirement already satisfied: funcy in /home/cvmuser1/.local/lib/python3.7/site-packages (from pyLDAvis->pycaret==2.3.5) (1.17)\n",
      "Requirement already satisfied: numexpr in /home/cvmuser1/.local/lib/python3.7/site-packages (from pyLDAvis->pycaret==2.3.5) (2.8.1)\n",
      "Requirement already satisfied: future in /home/cvmuser1/.local/lib/python3.7/site-packages (from pyLDAvis->pycaret==2.3.5) (0.18.2)\n",
      "Requirement already satisfied: numba>=0.35 in /home/cvmuser1/.local/lib/python3.7/site-packages (from pyod->pycaret==2.3.5) (0.55.1)\n",
      "Requirement already satisfied: statsmodels in /home/cvmuser1/.local/lib/python3.7/site-packages (from pyod->pycaret==2.3.5) (0.12.2)\n",
      "Requirement already satisfied: llvmlite<0.39,>=0.38.0rc1 in /home/cvmuser1/.local/lib/python3.7/site-packages (from numba>=0.35->pyod->pycaret==2.3.5) (0.38.0)\n",
      "Requirement already satisfied: patsy>=0.5 in /home/cvmuser1/.local/lib/python3.7/site-packages (from statsmodels->pyod->pycaret==2.3.5) (0.5.1)\n",
      "Requirement already satisfied: pynndescent>=0.5 in /home/cvmuser1/.local/lib/python3.7/site-packages (from umap-learn->pycaret==2.3.5) (0.5.6)\n",
      "Installing collected packages: scipy\n",
      "  Attempting uninstall: scipy\n",
      "    Found existing installation: scipy 1.4.1\n",
      "    Uninstalling scipy-1.4.1:\n",
      "      Successfully uninstalled scipy-1.4.1\n",
      "Successfully installed scipy-1.5.4\n",
      "Defaulting to user installation because normal site-packages is not writeable\n",
      "Collecting scipy==1.4.1\n",
      "  Using cached scipy-1.4.1-cp37-cp37m-manylinux1_x86_64.whl (26.1 MB)\n",
      "Requirement already satisfied: numpy>=1.13.3 in /usr/local/lib64/python3.7/site-packages (from scipy==1.4.1) (1.19.5)\n",
      "Installing collected packages: scipy\n",
      "  Attempting uninstall: scipy\n",
      "    Found existing installation: scipy 1.5.4\n",
      "    Uninstalling scipy-1.5.4:\n",
      "      Successfully uninstalled scipy-1.5.4\n"
     ]
    }
   ],
   "source": [
    "!pip install pycaret==2.3.5\n",
    "!pip install scipy==1.4.1"
   ]
  },
  {
   "cell_type": "markdown",
   "metadata": {},
   "source": [
    "#### import the library and data and read data"
   ]
  },
  {
   "cell_type": "code",
   "execution_count": 4,
   "metadata": {},
   "outputs": [],
   "source": [
    "from pycaret.anomaly import *\n",
    "from sklearn.datasets import load_breast_cancer"
   ]
  },
  {
   "cell_type": "markdown",
   "metadata": {},
   "source": [
    "#### split data to train and test"
   ]
  },
  {
   "cell_type": "code",
   "execution_count": 5,
   "metadata": {},
   "outputs": [],
   "source": [
    "df = load_breast_cancer(as_frame=True)['data']\n",
    "df_train = df.iloc[:-10]\n",
    "df_unseen = df.tail(10)"
   ]
  },
  {
   "cell_type": "code",
   "execution_count": 11,
   "metadata": {},
   "outputs": [
    {
     "data": {
      "text/html": [
       "<div>\n",
       "<style scoped>\n",
       "    .dataframe tbody tr th:only-of-type {\n",
       "        vertical-align: middle;\n",
       "    }\n",
       "\n",
       "    .dataframe tbody tr th {\n",
       "        vertical-align: top;\n",
       "    }\n",
       "\n",
       "    .dataframe thead th {\n",
       "        text-align: right;\n",
       "    }\n",
       "</style>\n",
       "<table border=\"1\" class=\"dataframe\">\n",
       "  <thead>\n",
       "    <tr style=\"text-align: right;\">\n",
       "      <th></th>\n",
       "      <th>mean radius</th>\n",
       "      <th>mean texture</th>\n",
       "      <th>mean perimeter</th>\n",
       "      <th>mean area</th>\n",
       "      <th>mean smoothness</th>\n",
       "      <th>mean compactness</th>\n",
       "      <th>mean concavity</th>\n",
       "      <th>mean concave points</th>\n",
       "      <th>mean symmetry</th>\n",
       "      <th>mean fractal dimension</th>\n",
       "      <th>...</th>\n",
       "      <th>worst radius</th>\n",
       "      <th>worst texture</th>\n",
       "      <th>worst perimeter</th>\n",
       "      <th>worst area</th>\n",
       "      <th>worst smoothness</th>\n",
       "      <th>worst compactness</th>\n",
       "      <th>worst concavity</th>\n",
       "      <th>worst concave points</th>\n",
       "      <th>worst symmetry</th>\n",
       "      <th>worst fractal dimension</th>\n",
       "    </tr>\n",
       "  </thead>\n",
       "  <tbody>\n",
       "    <tr>\n",
       "      <th>count</th>\n",
       "      <td>559.000000</td>\n",
       "      <td>559.000000</td>\n",
       "      <td>559.000000</td>\n",
       "      <td>559.000000</td>\n",
       "      <td>559.000000</td>\n",
       "      <td>559.000000</td>\n",
       "      <td>559.000000</td>\n",
       "      <td>559.000000</td>\n",
       "      <td>559.000000</td>\n",
       "      <td>559.000000</td>\n",
       "      <td>...</td>\n",
       "      <td>559.000000</td>\n",
       "      <td>559.000000</td>\n",
       "      <td>559.000000</td>\n",
       "      <td>559.000000</td>\n",
       "      <td>559.000000</td>\n",
       "      <td>559.000000</td>\n",
       "      <td>559.000000</td>\n",
       "      <td>559.000000</td>\n",
       "      <td>559.000000</td>\n",
       "      <td>559.000000</td>\n",
       "    </tr>\n",
       "    <tr>\n",
       "      <th>mean</th>\n",
       "      <td>14.094596</td>\n",
       "      <td>19.153953</td>\n",
       "      <td>91.731467</td>\n",
       "      <td>651.402504</td>\n",
       "      <td>0.096394</td>\n",
       "      <td>0.103838</td>\n",
       "      <td>0.087597</td>\n",
       "      <td>0.048421</td>\n",
       "      <td>0.181305</td>\n",
       "      <td>0.062812</td>\n",
       "      <td>...</td>\n",
       "      <td>16.229594</td>\n",
       "      <td>25.511538</td>\n",
       "      <td>106.931306</td>\n",
       "      <td>876.074597</td>\n",
       "      <td>0.132491</td>\n",
       "      <td>0.252751</td>\n",
       "      <td>0.269300</td>\n",
       "      <td>0.114005</td>\n",
       "      <td>0.290479</td>\n",
       "      <td>0.083875</td>\n",
       "    </tr>\n",
       "    <tr>\n",
       "      <th>std</th>\n",
       "      <td>3.493660</td>\n",
       "      <td>4.202446</td>\n",
       "      <td>24.069775</td>\n",
       "      <td>349.167940</td>\n",
       "      <td>0.013968</td>\n",
       "      <td>0.052202</td>\n",
       "      <td>0.078228</td>\n",
       "      <td>0.038271</td>\n",
       "      <td>0.027172</td>\n",
       "      <td>0.007074</td>\n",
       "      <td>...</td>\n",
       "      <td>4.805314</td>\n",
       "      <td>6.038530</td>\n",
       "      <td>33.321199</td>\n",
       "      <td>567.154144</td>\n",
       "      <td>0.022827</td>\n",
       "      <td>0.154279</td>\n",
       "      <td>0.203527</td>\n",
       "      <td>0.064979</td>\n",
       "      <td>0.061415</td>\n",
       "      <td>0.017905</td>\n",
       "    </tr>\n",
       "    <tr>\n",
       "      <th>min</th>\n",
       "      <td>6.981000</td>\n",
       "      <td>9.710000</td>\n",
       "      <td>43.790000</td>\n",
       "      <td>143.500000</td>\n",
       "      <td>0.062510</td>\n",
       "      <td>0.019380</td>\n",
       "      <td>0.000000</td>\n",
       "      <td>0.000000</td>\n",
       "      <td>0.116700</td>\n",
       "      <td>0.049960</td>\n",
       "      <td>...</td>\n",
       "      <td>7.930000</td>\n",
       "      <td>12.020000</td>\n",
       "      <td>50.410000</td>\n",
       "      <td>185.200000</td>\n",
       "      <td>0.071170</td>\n",
       "      <td>0.027290</td>\n",
       "      <td>0.000000</td>\n",
       "      <td>0.000000</td>\n",
       "      <td>0.156500</td>\n",
       "      <td>0.055040</td>\n",
       "    </tr>\n",
       "    <tr>\n",
       "      <th>25%</th>\n",
       "      <td>11.705000</td>\n",
       "      <td>16.155000</td>\n",
       "      <td>75.190000</td>\n",
       "      <td>420.300000</td>\n",
       "      <td>0.086390</td>\n",
       "      <td>0.064710</td>\n",
       "      <td>0.029520</td>\n",
       "      <td>0.020310</td>\n",
       "      <td>0.162050</td>\n",
       "      <td>0.057800</td>\n",
       "      <td>...</td>\n",
       "      <td>13.020000</td>\n",
       "      <td>21.005000</td>\n",
       "      <td>84.135000</td>\n",
       "      <td>515.550000</td>\n",
       "      <td>0.116700</td>\n",
       "      <td>0.146600</td>\n",
       "      <td>0.114450</td>\n",
       "      <td>0.064530</td>\n",
       "      <td>0.250800</td>\n",
       "      <td>0.071645</td>\n",
       "    </tr>\n",
       "    <tr>\n",
       "      <th>50%</th>\n",
       "      <td>13.300000</td>\n",
       "      <td>18.770000</td>\n",
       "      <td>86.100000</td>\n",
       "      <td>546.300000</td>\n",
       "      <td>0.095860</td>\n",
       "      <td>0.092180</td>\n",
       "      <td>0.060150</td>\n",
       "      <td>0.033260</td>\n",
       "      <td>0.179400</td>\n",
       "      <td>0.061540</td>\n",
       "      <td>...</td>\n",
       "      <td>14.920000</td>\n",
       "      <td>25.230000</td>\n",
       "      <td>97.590000</td>\n",
       "      <td>684.500000</td>\n",
       "      <td>0.131400</td>\n",
       "      <td>0.211800</td>\n",
       "      <td>0.226000</td>\n",
       "      <td>0.099100</td>\n",
       "      <td>0.282300</td>\n",
       "      <td>0.080040</td>\n",
       "    </tr>\n",
       "    <tr>\n",
       "      <th>75%</th>\n",
       "      <td>15.750000</td>\n",
       "      <td>21.595000</td>\n",
       "      <td>103.700000</td>\n",
       "      <td>777.250000</td>\n",
       "      <td>0.105300</td>\n",
       "      <td>0.130400</td>\n",
       "      <td>0.126950</td>\n",
       "      <td>0.072020</td>\n",
       "      <td>0.195650</td>\n",
       "      <td>0.066120</td>\n",
       "      <td>...</td>\n",
       "      <td>18.550000</td>\n",
       "      <td>29.370000</td>\n",
       "      <td>124.600000</td>\n",
       "      <td>1047.000000</td>\n",
       "      <td>0.146200</td>\n",
       "      <td>0.338100</td>\n",
       "      <td>0.380250</td>\n",
       "      <td>0.161100</td>\n",
       "      <td>0.318150</td>\n",
       "      <td>0.092070</td>\n",
       "    </tr>\n",
       "    <tr>\n",
       "      <th>max</th>\n",
       "      <td>28.110000</td>\n",
       "      <td>39.280000</td>\n",
       "      <td>188.500000</td>\n",
       "      <td>2501.000000</td>\n",
       "      <td>0.163400</td>\n",
       "      <td>0.345400</td>\n",
       "      <td>0.426800</td>\n",
       "      <td>0.201200</td>\n",
       "      <td>0.304000</td>\n",
       "      <td>0.097440</td>\n",
       "      <td>...</td>\n",
       "      <td>36.040000</td>\n",
       "      <td>49.540000</td>\n",
       "      <td>251.200000</td>\n",
       "      <td>4254.000000</td>\n",
       "      <td>0.222600</td>\n",
       "      <td>1.058000</td>\n",
       "      <td>1.252000</td>\n",
       "      <td>0.291000</td>\n",
       "      <td>0.663800</td>\n",
       "      <td>0.207500</td>\n",
       "    </tr>\n",
       "  </tbody>\n",
       "</table>\n",
       "<p>8 rows × 30 columns</p>\n",
       "</div>"
      ],
      "text/plain": [
       "       mean radius  mean texture  mean perimeter    mean area  \\\n",
       "count   559.000000    559.000000      559.000000   559.000000   \n",
       "mean     14.094596     19.153953       91.731467   651.402504   \n",
       "std       3.493660      4.202446       24.069775   349.167940   \n",
       "min       6.981000      9.710000       43.790000   143.500000   \n",
       "25%      11.705000     16.155000       75.190000   420.300000   \n",
       "50%      13.300000     18.770000       86.100000   546.300000   \n",
       "75%      15.750000     21.595000      103.700000   777.250000   \n",
       "max      28.110000     39.280000      188.500000  2501.000000   \n",
       "\n",
       "       mean smoothness  mean compactness  mean concavity  mean concave points  \\\n",
       "count       559.000000        559.000000      559.000000           559.000000   \n",
       "mean          0.096394          0.103838        0.087597             0.048421   \n",
       "std           0.013968          0.052202        0.078228             0.038271   \n",
       "min           0.062510          0.019380        0.000000             0.000000   \n",
       "25%           0.086390          0.064710        0.029520             0.020310   \n",
       "50%           0.095860          0.092180        0.060150             0.033260   \n",
       "75%           0.105300          0.130400        0.126950             0.072020   \n",
       "max           0.163400          0.345400        0.426800             0.201200   \n",
       "\n",
       "       mean symmetry  mean fractal dimension  ...  worst radius  \\\n",
       "count     559.000000              559.000000  ...    559.000000   \n",
       "mean        0.181305                0.062812  ...     16.229594   \n",
       "std         0.027172                0.007074  ...      4.805314   \n",
       "min         0.116700                0.049960  ...      7.930000   \n",
       "25%         0.162050                0.057800  ...     13.020000   \n",
       "50%         0.179400                0.061540  ...     14.920000   \n",
       "75%         0.195650                0.066120  ...     18.550000   \n",
       "max         0.304000                0.097440  ...     36.040000   \n",
       "\n",
       "       worst texture  worst perimeter   worst area  worst smoothness  \\\n",
       "count     559.000000       559.000000   559.000000        559.000000   \n",
       "mean       25.511538       106.931306   876.074597          0.132491   \n",
       "std         6.038530        33.321199   567.154144          0.022827   \n",
       "min        12.020000        50.410000   185.200000          0.071170   \n",
       "25%        21.005000        84.135000   515.550000          0.116700   \n",
       "50%        25.230000        97.590000   684.500000          0.131400   \n",
       "75%        29.370000       124.600000  1047.000000          0.146200   \n",
       "max        49.540000       251.200000  4254.000000          0.222600   \n",
       "\n",
       "       worst compactness  worst concavity  worst concave points  \\\n",
       "count         559.000000       559.000000            559.000000   \n",
       "mean            0.252751         0.269300              0.114005   \n",
       "std             0.154279         0.203527              0.064979   \n",
       "min             0.027290         0.000000              0.000000   \n",
       "25%             0.146600         0.114450              0.064530   \n",
       "50%             0.211800         0.226000              0.099100   \n",
       "75%             0.338100         0.380250              0.161100   \n",
       "max             1.058000         1.252000              0.291000   \n",
       "\n",
       "       worst symmetry  worst fractal dimension  \n",
       "count      559.000000               559.000000  \n",
       "mean         0.290479                 0.083875  \n",
       "std          0.061415                 0.017905  \n",
       "min          0.156500                 0.055040  \n",
       "25%          0.250800                 0.071645  \n",
       "50%          0.282300                 0.080040  \n",
       "75%          0.318150                 0.092070  \n",
       "max          0.663800                 0.207500  \n",
       "\n",
       "[8 rows x 30 columns]"
      ]
     },
     "execution_count": 11,
     "metadata": {},
     "output_type": "execute_result"
    }
   ],
   "source": [
    "df_train.describe()"
   ]
  },
  {
   "cell_type": "markdown",
   "metadata": {},
   "source": [
    "#### Set up Pycaret"
   ]
  },
  {
   "cell_type": "markdown",
   "metadata": {},
   "source": [
    "- assign the training data on setup"
   ]
  },
  {
   "cell_type": "code",
   "execution_count": 7,
   "metadata": {
    "scrolled": true
   },
   "outputs": [
    {
     "data": {
      "text/html": [
       "<style  type=\"text/css\" >\n",
       "</style><table id=\"T_4f2c726e_88aa_11ec_85cb_029f02e9cd60\" ><thead>    <tr>        <th class=\"blank level0\" ></th>        <th class=\"col_heading level0 col0\" >Description</th>        <th class=\"col_heading level0 col1\" >Value</th>    </tr></thead><tbody>\n",
       "                <tr>\n",
       "                        <th id=\"T_4f2c726e_88aa_11ec_85cb_029f02e9cd60level0_row0\" class=\"row_heading level0 row0\" >0</th>\n",
       "                        <td id=\"T_4f2c726e_88aa_11ec_85cb_029f02e9cd60row0_col0\" class=\"data row0 col0\" >session_id</td>\n",
       "                        <td id=\"T_4f2c726e_88aa_11ec_85cb_029f02e9cd60row0_col1\" class=\"data row0 col1\" >3840</td>\n",
       "            </tr>\n",
       "            <tr>\n",
       "                        <th id=\"T_4f2c726e_88aa_11ec_85cb_029f02e9cd60level0_row1\" class=\"row_heading level0 row1\" >1</th>\n",
       "                        <td id=\"T_4f2c726e_88aa_11ec_85cb_029f02e9cd60row1_col0\" class=\"data row1 col0\" >Original Data</td>\n",
       "                        <td id=\"T_4f2c726e_88aa_11ec_85cb_029f02e9cd60row1_col1\" class=\"data row1 col1\" >(559, 30)</td>\n",
       "            </tr>\n",
       "            <tr>\n",
       "                        <th id=\"T_4f2c726e_88aa_11ec_85cb_029f02e9cd60level0_row2\" class=\"row_heading level0 row2\" >2</th>\n",
       "                        <td id=\"T_4f2c726e_88aa_11ec_85cb_029f02e9cd60row2_col0\" class=\"data row2 col0\" >Missing Values</td>\n",
       "                        <td id=\"T_4f2c726e_88aa_11ec_85cb_029f02e9cd60row2_col1\" class=\"data row2 col1\" >False</td>\n",
       "            </tr>\n",
       "            <tr>\n",
       "                        <th id=\"T_4f2c726e_88aa_11ec_85cb_029f02e9cd60level0_row3\" class=\"row_heading level0 row3\" >3</th>\n",
       "                        <td id=\"T_4f2c726e_88aa_11ec_85cb_029f02e9cd60row3_col0\" class=\"data row3 col0\" >Numeric Features</td>\n",
       "                        <td id=\"T_4f2c726e_88aa_11ec_85cb_029f02e9cd60row3_col1\" class=\"data row3 col1\" >30</td>\n",
       "            </tr>\n",
       "            <tr>\n",
       "                        <th id=\"T_4f2c726e_88aa_11ec_85cb_029f02e9cd60level0_row4\" class=\"row_heading level0 row4\" >4</th>\n",
       "                        <td id=\"T_4f2c726e_88aa_11ec_85cb_029f02e9cd60row4_col0\" class=\"data row4 col0\" >Categorical Features</td>\n",
       "                        <td id=\"T_4f2c726e_88aa_11ec_85cb_029f02e9cd60row4_col1\" class=\"data row4 col1\" >0</td>\n",
       "            </tr>\n",
       "            <tr>\n",
       "                        <th id=\"T_4f2c726e_88aa_11ec_85cb_029f02e9cd60level0_row5\" class=\"row_heading level0 row5\" >5</th>\n",
       "                        <td id=\"T_4f2c726e_88aa_11ec_85cb_029f02e9cd60row5_col0\" class=\"data row5 col0\" >Ordinal Features</td>\n",
       "                        <td id=\"T_4f2c726e_88aa_11ec_85cb_029f02e9cd60row5_col1\" class=\"data row5 col1\" >False</td>\n",
       "            </tr>\n",
       "            <tr>\n",
       "                        <th id=\"T_4f2c726e_88aa_11ec_85cb_029f02e9cd60level0_row6\" class=\"row_heading level0 row6\" >6</th>\n",
       "                        <td id=\"T_4f2c726e_88aa_11ec_85cb_029f02e9cd60row6_col0\" class=\"data row6 col0\" >High Cardinality Features</td>\n",
       "                        <td id=\"T_4f2c726e_88aa_11ec_85cb_029f02e9cd60row6_col1\" class=\"data row6 col1\" >False</td>\n",
       "            </tr>\n",
       "            <tr>\n",
       "                        <th id=\"T_4f2c726e_88aa_11ec_85cb_029f02e9cd60level0_row7\" class=\"row_heading level0 row7\" >7</th>\n",
       "                        <td id=\"T_4f2c726e_88aa_11ec_85cb_029f02e9cd60row7_col0\" class=\"data row7 col0\" >High Cardinality Method</td>\n",
       "                        <td id=\"T_4f2c726e_88aa_11ec_85cb_029f02e9cd60row7_col1\" class=\"data row7 col1\" >None</td>\n",
       "            </tr>\n",
       "            <tr>\n",
       "                        <th id=\"T_4f2c726e_88aa_11ec_85cb_029f02e9cd60level0_row8\" class=\"row_heading level0 row8\" >8</th>\n",
       "                        <td id=\"T_4f2c726e_88aa_11ec_85cb_029f02e9cd60row8_col0\" class=\"data row8 col0\" >Transformed Data</td>\n",
       "                        <td id=\"T_4f2c726e_88aa_11ec_85cb_029f02e9cd60row8_col1\" class=\"data row8 col1\" >(559, 30)</td>\n",
       "            </tr>\n",
       "            <tr>\n",
       "                        <th id=\"T_4f2c726e_88aa_11ec_85cb_029f02e9cd60level0_row9\" class=\"row_heading level0 row9\" >9</th>\n",
       "                        <td id=\"T_4f2c726e_88aa_11ec_85cb_029f02e9cd60row9_col0\" class=\"data row9 col0\" >CPU Jobs</td>\n",
       "                        <td id=\"T_4f2c726e_88aa_11ec_85cb_029f02e9cd60row9_col1\" class=\"data row9 col1\" >-1</td>\n",
       "            </tr>\n",
       "            <tr>\n",
       "                        <th id=\"T_4f2c726e_88aa_11ec_85cb_029f02e9cd60level0_row10\" class=\"row_heading level0 row10\" >10</th>\n",
       "                        <td id=\"T_4f2c726e_88aa_11ec_85cb_029f02e9cd60row10_col0\" class=\"data row10 col0\" >Use GPU</td>\n",
       "                        <td id=\"T_4f2c726e_88aa_11ec_85cb_029f02e9cd60row10_col1\" class=\"data row10 col1\" >False</td>\n",
       "            </tr>\n",
       "            <tr>\n",
       "                        <th id=\"T_4f2c726e_88aa_11ec_85cb_029f02e9cd60level0_row11\" class=\"row_heading level0 row11\" >11</th>\n",
       "                        <td id=\"T_4f2c726e_88aa_11ec_85cb_029f02e9cd60row11_col0\" class=\"data row11 col0\" >Log Experiment</td>\n",
       "                        <td id=\"T_4f2c726e_88aa_11ec_85cb_029f02e9cd60row11_col1\" class=\"data row11 col1\" >False</td>\n",
       "            </tr>\n",
       "            <tr>\n",
       "                        <th id=\"T_4f2c726e_88aa_11ec_85cb_029f02e9cd60level0_row12\" class=\"row_heading level0 row12\" >12</th>\n",
       "                        <td id=\"T_4f2c726e_88aa_11ec_85cb_029f02e9cd60row12_col0\" class=\"data row12 col0\" >Experiment Name</td>\n",
       "                        <td id=\"T_4f2c726e_88aa_11ec_85cb_029f02e9cd60row12_col1\" class=\"data row12 col1\" >anomaly-default-name</td>\n",
       "            </tr>\n",
       "            <tr>\n",
       "                        <th id=\"T_4f2c726e_88aa_11ec_85cb_029f02e9cd60level0_row13\" class=\"row_heading level0 row13\" >13</th>\n",
       "                        <td id=\"T_4f2c726e_88aa_11ec_85cb_029f02e9cd60row13_col0\" class=\"data row13 col0\" >USI</td>\n",
       "                        <td id=\"T_4f2c726e_88aa_11ec_85cb_029f02e9cd60row13_col1\" class=\"data row13 col1\" >a905</td>\n",
       "            </tr>\n",
       "            <tr>\n",
       "                        <th id=\"T_4f2c726e_88aa_11ec_85cb_029f02e9cd60level0_row14\" class=\"row_heading level0 row14\" >14</th>\n",
       "                        <td id=\"T_4f2c726e_88aa_11ec_85cb_029f02e9cd60row14_col0\" class=\"data row14 col0\" >Imputation Type</td>\n",
       "                        <td id=\"T_4f2c726e_88aa_11ec_85cb_029f02e9cd60row14_col1\" class=\"data row14 col1\" >simple</td>\n",
       "            </tr>\n",
       "            <tr>\n",
       "                        <th id=\"T_4f2c726e_88aa_11ec_85cb_029f02e9cd60level0_row15\" class=\"row_heading level0 row15\" >15</th>\n",
       "                        <td id=\"T_4f2c726e_88aa_11ec_85cb_029f02e9cd60row15_col0\" class=\"data row15 col0\" >Iterative Imputation Iteration</td>\n",
       "                        <td id=\"T_4f2c726e_88aa_11ec_85cb_029f02e9cd60row15_col1\" class=\"data row15 col1\" >None</td>\n",
       "            </tr>\n",
       "            <tr>\n",
       "                        <th id=\"T_4f2c726e_88aa_11ec_85cb_029f02e9cd60level0_row16\" class=\"row_heading level0 row16\" >16</th>\n",
       "                        <td id=\"T_4f2c726e_88aa_11ec_85cb_029f02e9cd60row16_col0\" class=\"data row16 col0\" >Numeric Imputer</td>\n",
       "                        <td id=\"T_4f2c726e_88aa_11ec_85cb_029f02e9cd60row16_col1\" class=\"data row16 col1\" >mean</td>\n",
       "            </tr>\n",
       "            <tr>\n",
       "                        <th id=\"T_4f2c726e_88aa_11ec_85cb_029f02e9cd60level0_row17\" class=\"row_heading level0 row17\" >17</th>\n",
       "                        <td id=\"T_4f2c726e_88aa_11ec_85cb_029f02e9cd60row17_col0\" class=\"data row17 col0\" >Iterative Imputation Numeric Model</td>\n",
       "                        <td id=\"T_4f2c726e_88aa_11ec_85cb_029f02e9cd60row17_col1\" class=\"data row17 col1\" >None</td>\n",
       "            </tr>\n",
       "            <tr>\n",
       "                        <th id=\"T_4f2c726e_88aa_11ec_85cb_029f02e9cd60level0_row18\" class=\"row_heading level0 row18\" >18</th>\n",
       "                        <td id=\"T_4f2c726e_88aa_11ec_85cb_029f02e9cd60row18_col0\" class=\"data row18 col0\" >Categorical Imputer</td>\n",
       "                        <td id=\"T_4f2c726e_88aa_11ec_85cb_029f02e9cd60row18_col1\" class=\"data row18 col1\" >mode</td>\n",
       "            </tr>\n",
       "            <tr>\n",
       "                        <th id=\"T_4f2c726e_88aa_11ec_85cb_029f02e9cd60level0_row19\" class=\"row_heading level0 row19\" >19</th>\n",
       "                        <td id=\"T_4f2c726e_88aa_11ec_85cb_029f02e9cd60row19_col0\" class=\"data row19 col0\" >Iterative Imputation Categorical Model</td>\n",
       "                        <td id=\"T_4f2c726e_88aa_11ec_85cb_029f02e9cd60row19_col1\" class=\"data row19 col1\" >None</td>\n",
       "            </tr>\n",
       "            <tr>\n",
       "                        <th id=\"T_4f2c726e_88aa_11ec_85cb_029f02e9cd60level0_row20\" class=\"row_heading level0 row20\" >20</th>\n",
       "                        <td id=\"T_4f2c726e_88aa_11ec_85cb_029f02e9cd60row20_col0\" class=\"data row20 col0\" >Unknown Categoricals Handling</td>\n",
       "                        <td id=\"T_4f2c726e_88aa_11ec_85cb_029f02e9cd60row20_col1\" class=\"data row20 col1\" >least_frequent</td>\n",
       "            </tr>\n",
       "            <tr>\n",
       "                        <th id=\"T_4f2c726e_88aa_11ec_85cb_029f02e9cd60level0_row21\" class=\"row_heading level0 row21\" >21</th>\n",
       "                        <td id=\"T_4f2c726e_88aa_11ec_85cb_029f02e9cd60row21_col0\" class=\"data row21 col0\" >Normalize</td>\n",
       "                        <td id=\"T_4f2c726e_88aa_11ec_85cb_029f02e9cd60row21_col1\" class=\"data row21 col1\" >False</td>\n",
       "            </tr>\n",
       "            <tr>\n",
       "                        <th id=\"T_4f2c726e_88aa_11ec_85cb_029f02e9cd60level0_row22\" class=\"row_heading level0 row22\" >22</th>\n",
       "                        <td id=\"T_4f2c726e_88aa_11ec_85cb_029f02e9cd60row22_col0\" class=\"data row22 col0\" >Normalize Method</td>\n",
       "                        <td id=\"T_4f2c726e_88aa_11ec_85cb_029f02e9cd60row22_col1\" class=\"data row22 col1\" >None</td>\n",
       "            </tr>\n",
       "            <tr>\n",
       "                        <th id=\"T_4f2c726e_88aa_11ec_85cb_029f02e9cd60level0_row23\" class=\"row_heading level0 row23\" >23</th>\n",
       "                        <td id=\"T_4f2c726e_88aa_11ec_85cb_029f02e9cd60row23_col0\" class=\"data row23 col0\" >Transformation</td>\n",
       "                        <td id=\"T_4f2c726e_88aa_11ec_85cb_029f02e9cd60row23_col1\" class=\"data row23 col1\" >False</td>\n",
       "            </tr>\n",
       "            <tr>\n",
       "                        <th id=\"T_4f2c726e_88aa_11ec_85cb_029f02e9cd60level0_row24\" class=\"row_heading level0 row24\" >24</th>\n",
       "                        <td id=\"T_4f2c726e_88aa_11ec_85cb_029f02e9cd60row24_col0\" class=\"data row24 col0\" >Transformation Method</td>\n",
       "                        <td id=\"T_4f2c726e_88aa_11ec_85cb_029f02e9cd60row24_col1\" class=\"data row24 col1\" >None</td>\n",
       "            </tr>\n",
       "            <tr>\n",
       "                        <th id=\"T_4f2c726e_88aa_11ec_85cb_029f02e9cd60level0_row25\" class=\"row_heading level0 row25\" >25</th>\n",
       "                        <td id=\"T_4f2c726e_88aa_11ec_85cb_029f02e9cd60row25_col0\" class=\"data row25 col0\" >PCA</td>\n",
       "                        <td id=\"T_4f2c726e_88aa_11ec_85cb_029f02e9cd60row25_col1\" class=\"data row25 col1\" >False</td>\n",
       "            </tr>\n",
       "            <tr>\n",
       "                        <th id=\"T_4f2c726e_88aa_11ec_85cb_029f02e9cd60level0_row26\" class=\"row_heading level0 row26\" >26</th>\n",
       "                        <td id=\"T_4f2c726e_88aa_11ec_85cb_029f02e9cd60row26_col0\" class=\"data row26 col0\" >PCA Method</td>\n",
       "                        <td id=\"T_4f2c726e_88aa_11ec_85cb_029f02e9cd60row26_col1\" class=\"data row26 col1\" >None</td>\n",
       "            </tr>\n",
       "            <tr>\n",
       "                        <th id=\"T_4f2c726e_88aa_11ec_85cb_029f02e9cd60level0_row27\" class=\"row_heading level0 row27\" >27</th>\n",
       "                        <td id=\"T_4f2c726e_88aa_11ec_85cb_029f02e9cd60row27_col0\" class=\"data row27 col0\" >PCA Components</td>\n",
       "                        <td id=\"T_4f2c726e_88aa_11ec_85cb_029f02e9cd60row27_col1\" class=\"data row27 col1\" >None</td>\n",
       "            </tr>\n",
       "            <tr>\n",
       "                        <th id=\"T_4f2c726e_88aa_11ec_85cb_029f02e9cd60level0_row28\" class=\"row_heading level0 row28\" >28</th>\n",
       "                        <td id=\"T_4f2c726e_88aa_11ec_85cb_029f02e9cd60row28_col0\" class=\"data row28 col0\" >Ignore Low Variance</td>\n",
       "                        <td id=\"T_4f2c726e_88aa_11ec_85cb_029f02e9cd60row28_col1\" class=\"data row28 col1\" >False</td>\n",
       "            </tr>\n",
       "            <tr>\n",
       "                        <th id=\"T_4f2c726e_88aa_11ec_85cb_029f02e9cd60level0_row29\" class=\"row_heading level0 row29\" >29</th>\n",
       "                        <td id=\"T_4f2c726e_88aa_11ec_85cb_029f02e9cd60row29_col0\" class=\"data row29 col0\" >Combine Rare Levels</td>\n",
       "                        <td id=\"T_4f2c726e_88aa_11ec_85cb_029f02e9cd60row29_col1\" class=\"data row29 col1\" >False</td>\n",
       "            </tr>\n",
       "            <tr>\n",
       "                        <th id=\"T_4f2c726e_88aa_11ec_85cb_029f02e9cd60level0_row30\" class=\"row_heading level0 row30\" >30</th>\n",
       "                        <td id=\"T_4f2c726e_88aa_11ec_85cb_029f02e9cd60row30_col0\" class=\"data row30 col0\" >Rare Level Threshold</td>\n",
       "                        <td id=\"T_4f2c726e_88aa_11ec_85cb_029f02e9cd60row30_col1\" class=\"data row30 col1\" >None</td>\n",
       "            </tr>\n",
       "            <tr>\n",
       "                        <th id=\"T_4f2c726e_88aa_11ec_85cb_029f02e9cd60level0_row31\" class=\"row_heading level0 row31\" >31</th>\n",
       "                        <td id=\"T_4f2c726e_88aa_11ec_85cb_029f02e9cd60row31_col0\" class=\"data row31 col0\" >Numeric Binning</td>\n",
       "                        <td id=\"T_4f2c726e_88aa_11ec_85cb_029f02e9cd60row31_col1\" class=\"data row31 col1\" >False</td>\n",
       "            </tr>\n",
       "            <tr>\n",
       "                        <th id=\"T_4f2c726e_88aa_11ec_85cb_029f02e9cd60level0_row32\" class=\"row_heading level0 row32\" >32</th>\n",
       "                        <td id=\"T_4f2c726e_88aa_11ec_85cb_029f02e9cd60row32_col0\" class=\"data row32 col0\" >Remove Outliers</td>\n",
       "                        <td id=\"T_4f2c726e_88aa_11ec_85cb_029f02e9cd60row32_col1\" class=\"data row32 col1\" >False</td>\n",
       "            </tr>\n",
       "            <tr>\n",
       "                        <th id=\"T_4f2c726e_88aa_11ec_85cb_029f02e9cd60level0_row33\" class=\"row_heading level0 row33\" >33</th>\n",
       "                        <td id=\"T_4f2c726e_88aa_11ec_85cb_029f02e9cd60row33_col0\" class=\"data row33 col0\" >Outliers Threshold</td>\n",
       "                        <td id=\"T_4f2c726e_88aa_11ec_85cb_029f02e9cd60row33_col1\" class=\"data row33 col1\" >None</td>\n",
       "            </tr>\n",
       "            <tr>\n",
       "                        <th id=\"T_4f2c726e_88aa_11ec_85cb_029f02e9cd60level0_row34\" class=\"row_heading level0 row34\" >34</th>\n",
       "                        <td id=\"T_4f2c726e_88aa_11ec_85cb_029f02e9cd60row34_col0\" class=\"data row34 col0\" >Remove Multicollinearity</td>\n",
       "                        <td id=\"T_4f2c726e_88aa_11ec_85cb_029f02e9cd60row34_col1\" class=\"data row34 col1\" >False</td>\n",
       "            </tr>\n",
       "            <tr>\n",
       "                        <th id=\"T_4f2c726e_88aa_11ec_85cb_029f02e9cd60level0_row35\" class=\"row_heading level0 row35\" >35</th>\n",
       "                        <td id=\"T_4f2c726e_88aa_11ec_85cb_029f02e9cd60row35_col0\" class=\"data row35 col0\" >Multicollinearity Threshold</td>\n",
       "                        <td id=\"T_4f2c726e_88aa_11ec_85cb_029f02e9cd60row35_col1\" class=\"data row35 col1\" >None</td>\n",
       "            </tr>\n",
       "            <tr>\n",
       "                        <th id=\"T_4f2c726e_88aa_11ec_85cb_029f02e9cd60level0_row36\" class=\"row_heading level0 row36\" >36</th>\n",
       "                        <td id=\"T_4f2c726e_88aa_11ec_85cb_029f02e9cd60row36_col0\" class=\"data row36 col0\" >Remove Perfect Collinearity</td>\n",
       "                        <td id=\"T_4f2c726e_88aa_11ec_85cb_029f02e9cd60row36_col1\" class=\"data row36 col1\" >False</td>\n",
       "            </tr>\n",
       "            <tr>\n",
       "                        <th id=\"T_4f2c726e_88aa_11ec_85cb_029f02e9cd60level0_row37\" class=\"row_heading level0 row37\" >37</th>\n",
       "                        <td id=\"T_4f2c726e_88aa_11ec_85cb_029f02e9cd60row37_col0\" class=\"data row37 col0\" >Clustering</td>\n",
       "                        <td id=\"T_4f2c726e_88aa_11ec_85cb_029f02e9cd60row37_col1\" class=\"data row37 col1\" >False</td>\n",
       "            </tr>\n",
       "            <tr>\n",
       "                        <th id=\"T_4f2c726e_88aa_11ec_85cb_029f02e9cd60level0_row38\" class=\"row_heading level0 row38\" >38</th>\n",
       "                        <td id=\"T_4f2c726e_88aa_11ec_85cb_029f02e9cd60row38_col0\" class=\"data row38 col0\" >Clustering Iteration</td>\n",
       "                        <td id=\"T_4f2c726e_88aa_11ec_85cb_029f02e9cd60row38_col1\" class=\"data row38 col1\" >None</td>\n",
       "            </tr>\n",
       "            <tr>\n",
       "                        <th id=\"T_4f2c726e_88aa_11ec_85cb_029f02e9cd60level0_row39\" class=\"row_heading level0 row39\" >39</th>\n",
       "                        <td id=\"T_4f2c726e_88aa_11ec_85cb_029f02e9cd60row39_col0\" class=\"data row39 col0\" >Polynomial Features</td>\n",
       "                        <td id=\"T_4f2c726e_88aa_11ec_85cb_029f02e9cd60row39_col1\" class=\"data row39 col1\" >False</td>\n",
       "            </tr>\n",
       "            <tr>\n",
       "                        <th id=\"T_4f2c726e_88aa_11ec_85cb_029f02e9cd60level0_row40\" class=\"row_heading level0 row40\" >40</th>\n",
       "                        <td id=\"T_4f2c726e_88aa_11ec_85cb_029f02e9cd60row40_col0\" class=\"data row40 col0\" >Polynomial Degree</td>\n",
       "                        <td id=\"T_4f2c726e_88aa_11ec_85cb_029f02e9cd60row40_col1\" class=\"data row40 col1\" >None</td>\n",
       "            </tr>\n",
       "            <tr>\n",
       "                        <th id=\"T_4f2c726e_88aa_11ec_85cb_029f02e9cd60level0_row41\" class=\"row_heading level0 row41\" >41</th>\n",
       "                        <td id=\"T_4f2c726e_88aa_11ec_85cb_029f02e9cd60row41_col0\" class=\"data row41 col0\" >Trignometry Features</td>\n",
       "                        <td id=\"T_4f2c726e_88aa_11ec_85cb_029f02e9cd60row41_col1\" class=\"data row41 col1\" >False</td>\n",
       "            </tr>\n",
       "            <tr>\n",
       "                        <th id=\"T_4f2c726e_88aa_11ec_85cb_029f02e9cd60level0_row42\" class=\"row_heading level0 row42\" >42</th>\n",
       "                        <td id=\"T_4f2c726e_88aa_11ec_85cb_029f02e9cd60row42_col0\" class=\"data row42 col0\" >Polynomial Threshold</td>\n",
       "                        <td id=\"T_4f2c726e_88aa_11ec_85cb_029f02e9cd60row42_col1\" class=\"data row42 col1\" >None</td>\n",
       "            </tr>\n",
       "            <tr>\n",
       "                        <th id=\"T_4f2c726e_88aa_11ec_85cb_029f02e9cd60level0_row43\" class=\"row_heading level0 row43\" >43</th>\n",
       "                        <td id=\"T_4f2c726e_88aa_11ec_85cb_029f02e9cd60row43_col0\" class=\"data row43 col0\" >Group Features</td>\n",
       "                        <td id=\"T_4f2c726e_88aa_11ec_85cb_029f02e9cd60row43_col1\" class=\"data row43 col1\" >False</td>\n",
       "            </tr>\n",
       "            <tr>\n",
       "                        <th id=\"T_4f2c726e_88aa_11ec_85cb_029f02e9cd60level0_row44\" class=\"row_heading level0 row44\" >44</th>\n",
       "                        <td id=\"T_4f2c726e_88aa_11ec_85cb_029f02e9cd60row44_col0\" class=\"data row44 col0\" >Feature Selection</td>\n",
       "                        <td id=\"T_4f2c726e_88aa_11ec_85cb_029f02e9cd60row44_col1\" class=\"data row44 col1\" >False</td>\n",
       "            </tr>\n",
       "            <tr>\n",
       "                        <th id=\"T_4f2c726e_88aa_11ec_85cb_029f02e9cd60level0_row45\" class=\"row_heading level0 row45\" >45</th>\n",
       "                        <td id=\"T_4f2c726e_88aa_11ec_85cb_029f02e9cd60row45_col0\" class=\"data row45 col0\" >Feature Selection Method</td>\n",
       "                        <td id=\"T_4f2c726e_88aa_11ec_85cb_029f02e9cd60row45_col1\" class=\"data row45 col1\" >classic</td>\n",
       "            </tr>\n",
       "            <tr>\n",
       "                        <th id=\"T_4f2c726e_88aa_11ec_85cb_029f02e9cd60level0_row46\" class=\"row_heading level0 row46\" >46</th>\n",
       "                        <td id=\"T_4f2c726e_88aa_11ec_85cb_029f02e9cd60row46_col0\" class=\"data row46 col0\" >Features Selection Threshold</td>\n",
       "                        <td id=\"T_4f2c726e_88aa_11ec_85cb_029f02e9cd60row46_col1\" class=\"data row46 col1\" >None</td>\n",
       "            </tr>\n",
       "            <tr>\n",
       "                        <th id=\"T_4f2c726e_88aa_11ec_85cb_029f02e9cd60level0_row47\" class=\"row_heading level0 row47\" >47</th>\n",
       "                        <td id=\"T_4f2c726e_88aa_11ec_85cb_029f02e9cd60row47_col0\" class=\"data row47 col0\" >Feature Interaction</td>\n",
       "                        <td id=\"T_4f2c726e_88aa_11ec_85cb_029f02e9cd60row47_col1\" class=\"data row47 col1\" >False</td>\n",
       "            </tr>\n",
       "            <tr>\n",
       "                        <th id=\"T_4f2c726e_88aa_11ec_85cb_029f02e9cd60level0_row48\" class=\"row_heading level0 row48\" >48</th>\n",
       "                        <td id=\"T_4f2c726e_88aa_11ec_85cb_029f02e9cd60row48_col0\" class=\"data row48 col0\" >Feature Ratio</td>\n",
       "                        <td id=\"T_4f2c726e_88aa_11ec_85cb_029f02e9cd60row48_col1\" class=\"data row48 col1\" >False</td>\n",
       "            </tr>\n",
       "            <tr>\n",
       "                        <th id=\"T_4f2c726e_88aa_11ec_85cb_029f02e9cd60level0_row49\" class=\"row_heading level0 row49\" >49</th>\n",
       "                        <td id=\"T_4f2c726e_88aa_11ec_85cb_029f02e9cd60row49_col0\" class=\"data row49 col0\" >Interaction Threshold</td>\n",
       "                        <td id=\"T_4f2c726e_88aa_11ec_85cb_029f02e9cd60row49_col1\" class=\"data row49 col1\" >None</td>\n",
       "            </tr>\n",
       "    </tbody></table>"
      ],
      "text/plain": [
       "<pandas.io.formats.style.Styler at 0x7f306fbbf810>"
      ]
     },
     "metadata": {},
     "output_type": "display_data"
    }
   ],
   "source": [
    "anom = setup(data = df_train, silent = True)"
   ]
  },
  {
   "cell_type": "markdown",
   "metadata": {},
   "source": [
    "#### check avilable model on pycaret"
   ]
  },
  {
   "cell_type": "code",
   "execution_count": 12,
   "metadata": {},
   "outputs": [
    {
     "data": {
      "text/html": [
       "<div>\n",
       "<style scoped>\n",
       "    .dataframe tbody tr th:only-of-type {\n",
       "        vertical-align: middle;\n",
       "    }\n",
       "\n",
       "    .dataframe tbody tr th {\n",
       "        vertical-align: top;\n",
       "    }\n",
       "\n",
       "    .dataframe thead th {\n",
       "        text-align: right;\n",
       "    }\n",
       "</style>\n",
       "<table border=\"1\" class=\"dataframe\">\n",
       "  <thead>\n",
       "    <tr style=\"text-align: right;\">\n",
       "      <th></th>\n",
       "      <th>Name</th>\n",
       "      <th>Reference</th>\n",
       "    </tr>\n",
       "    <tr>\n",
       "      <th>ID</th>\n",
       "      <th></th>\n",
       "      <th></th>\n",
       "    </tr>\n",
       "  </thead>\n",
       "  <tbody>\n",
       "    <tr>\n",
       "      <th>abod</th>\n",
       "      <td>Angle-base Outlier Detection</td>\n",
       "      <td>pyod.models.abod.ABOD</td>\n",
       "    </tr>\n",
       "    <tr>\n",
       "      <th>cluster</th>\n",
       "      <td>Clustering-Based Local Outlier</td>\n",
       "      <td>pyod.models.cblof.CBLOF</td>\n",
       "    </tr>\n",
       "    <tr>\n",
       "      <th>cof</th>\n",
       "      <td>Connectivity-Based Local Outlier</td>\n",
       "      <td>pyod.models.cof.COF</td>\n",
       "    </tr>\n",
       "    <tr>\n",
       "      <th>iforest</th>\n",
       "      <td>Isolation Forest</td>\n",
       "      <td>pyod.models.iforest.IForest</td>\n",
       "    </tr>\n",
       "    <tr>\n",
       "      <th>histogram</th>\n",
       "      <td>Histogram-based Outlier Detection</td>\n",
       "      <td>pyod.models.hbos.HBOS</td>\n",
       "    </tr>\n",
       "    <tr>\n",
       "      <th>knn</th>\n",
       "      <td>K-Nearest Neighbors Detector</td>\n",
       "      <td>pyod.models.knn.KNN</td>\n",
       "    </tr>\n",
       "    <tr>\n",
       "      <th>lof</th>\n",
       "      <td>Local Outlier Factor</td>\n",
       "      <td>pyod.models.lof.LOF</td>\n",
       "    </tr>\n",
       "    <tr>\n",
       "      <th>svm</th>\n",
       "      <td>One-class SVM detector</td>\n",
       "      <td>pyod.models.ocsvm.OCSVM</td>\n",
       "    </tr>\n",
       "    <tr>\n",
       "      <th>pca</th>\n",
       "      <td>Principal Component Analysis</td>\n",
       "      <td>pyod.models.pca.PCA</td>\n",
       "    </tr>\n",
       "    <tr>\n",
       "      <th>mcd</th>\n",
       "      <td>Minimum Covariance Determinant</td>\n",
       "      <td>pyod.models.mcd.MCD</td>\n",
       "    </tr>\n",
       "    <tr>\n",
       "      <th>sod</th>\n",
       "      <td>Subspace Outlier Detection</td>\n",
       "      <td>pyod.models.sod.SOD</td>\n",
       "    </tr>\n",
       "    <tr>\n",
       "      <th>sos</th>\n",
       "      <td>Stochastic Outlier Selection</td>\n",
       "      <td>pyod.models.sos.SOS</td>\n",
       "    </tr>\n",
       "  </tbody>\n",
       "</table>\n",
       "</div>"
      ],
      "text/plain": [
       "                                        Name                    Reference\n",
       "ID                                                                       \n",
       "abod            Angle-base Outlier Detection        pyod.models.abod.ABOD\n",
       "cluster       Clustering-Based Local Outlier      pyod.models.cblof.CBLOF\n",
       "cof         Connectivity-Based Local Outlier          pyod.models.cof.COF\n",
       "iforest                     Isolation Forest  pyod.models.iforest.IForest\n",
       "histogram  Histogram-based Outlier Detection        pyod.models.hbos.HBOS\n",
       "knn             K-Nearest Neighbors Detector          pyod.models.knn.KNN\n",
       "lof                     Local Outlier Factor          pyod.models.lof.LOF\n",
       "svm                   One-class SVM detector      pyod.models.ocsvm.OCSVM\n",
       "pca             Principal Component Analysis          pyod.models.pca.PCA\n",
       "mcd           Minimum Covariance Determinant          pyod.models.mcd.MCD\n",
       "sod               Subspace Outlier Detection          pyod.models.sod.SOD\n",
       "sos             Stochastic Outlier Selection          pyod.models.sos.SOS"
      ]
     },
     "execution_count": 12,
     "metadata": {},
     "output_type": "execute_result"
    }
   ],
   "source": [
    "models()"
   ]
  },
  {
   "cell_type": "markdown",
   "metadata": {},
   "source": [
    "#### train the model with require 5% anomaly detection "
   ]
  },
  {
   "cell_type": "code",
   "execution_count": 33,
   "metadata": {},
   "outputs": [],
   "source": [
    "anom_model = create_model(model = 'iforest', fraction = 0.05)"
   ]
  },
  {
   "cell_type": "markdown",
   "metadata": {},
   "source": [
    "#### scoring the training data and return anomaly column (1) is anomaly and (0) mean normal,  Anomaly_Score  indicate negative is normal"
   ]
  },
  {
   "cell_type": "code",
   "execution_count": 35,
   "metadata": {},
   "outputs": [],
   "source": [
    "results = assign_model(anom_model)"
   ]
  },
  {
   "cell_type": "markdown",
   "metadata": {},
   "source": [
    "#### visualize high dimintion data using tsne"
   ]
  },
  {
   "cell_type": "code",
   "execution_count": 38,
   "metadata": {},
   "outputs": [
    {
     "data": {
      "application/vnd.plotly.v1+json": {
       "config": {
        "plotlyServerURL": "https://plot.ly"
       },
       "data": [
        {
         "customdata": [
          [
           17.99
          ],
          [
           20.57
          ],
          [
           19.69
          ],
          [
           11.42
          ],
          [
           20.29
          ],
          [
           12.45
          ],
          [
           18.25
          ],
          [
           13.71
          ],
          [
           13
          ],
          [
           12.46
          ],
          [
           16.02
          ],
          [
           15.78
          ],
          [
           19.17
          ],
          [
           15.85
          ],
          [
           13.73
          ],
          [
           14.54
          ],
          [
           14.68
          ],
          [
           16.13
          ],
          [
           19.81
          ],
          [
           13.54
          ],
          [
           13.08
          ],
          [
           9.504
          ],
          [
           15.34
          ],
          [
           21.16
          ],
          [
           16.65
          ],
          [
           17.14
          ],
          [
           14.58
          ],
          [
           18.61
          ],
          [
           15.3
          ],
          [
           17.57
          ],
          [
           18.63
          ],
          [
           11.84
          ],
          [
           17.02
          ],
          [
           19.27
          ],
          [
           16.13
          ],
          [
           16.74
          ],
          [
           14.25
          ],
          [
           13.03
          ],
          [
           14.99
          ],
          [
           13.48
          ],
          [
           13.44
          ],
          [
           10.95
          ],
          [
           19.07
          ],
          [
           13.28
          ],
          [
           13.17
          ],
          [
           18.65
          ],
          [
           8.196
          ],
          [
           13.17
          ],
          [
           12.05
          ],
          [
           13.49
          ],
          [
           11.76
          ],
          [
           13.64
          ],
          [
           11.94
          ],
          [
           18.22
          ],
          [
           15.1
          ],
          [
           11.52
          ],
          [
           19.21
          ],
          [
           14.71
          ],
          [
           13.05
          ],
          [
           8.618
          ],
          [
           10.17
          ],
          [
           8.598
          ],
          [
           14.25
          ],
          [
           9.173
          ],
          [
           12.68
          ],
          [
           14.78
          ],
          [
           9.465
          ],
          [
           11.31
          ],
          [
           9.029
          ],
          [
           12.78
          ],
          [
           18.94
          ],
          [
           8.888
          ],
          [
           17.2
          ],
          [
           13.8
          ],
          [
           12.31
          ],
          [
           16.07
          ],
          [
           13.53
          ],
          [
           18.05
          ],
          [
           20.18
          ],
          [
           12.86
          ],
          [
           11.45
          ],
          [
           13.34
          ],
          [
           25.22
          ],
          [
           19.1
          ],
          [
           12
          ],
          [
           18.46
          ],
          [
           14.48
          ],
          [
           19.02
          ],
          [
           12.36
          ],
          [
           14.64
          ],
          [
           14.62
          ],
          [
           15.37
          ],
          [
           13.27
          ],
          [
           13.45
          ],
          [
           15.06
          ],
          [
           20.26
          ],
          [
           12.18
          ],
          [
           9.787
          ],
          [
           11.6
          ],
          [
           14.42
          ],
          [
           13.61
          ],
          [
           6.981
          ],
          [
           12.18
          ],
          [
           9.876
          ],
          [
           10.49
          ],
          [
           13.11
          ],
          [
           11.64
          ],
          [
           12.36
          ],
          [
           22.27
          ],
          [
           11.34
          ],
          [
           9.777
          ],
          [
           12.63
          ],
          [
           14.26
          ],
          [
           10.51
          ],
          [
           8.726
          ],
          [
           11.93
          ],
          [
           8.95
          ],
          [
           14.87
          ],
          [
           15.78
          ],
          [
           17.95
          ],
          [
           11.41
          ],
          [
           18.66
          ],
          [
           24.25
          ],
          [
           14.5
          ],
          [
           13.37
          ],
          [
           13.85
          ],
          [
           13.61
          ],
          [
           19
          ],
          [
           15.1
          ],
          [
           19.79
          ],
          [
           12.19
          ],
          [
           15.46
          ],
          [
           16.16
          ],
          [
           15.71
          ],
          [
           18.45
          ],
          [
           12.77
          ],
          [
           11.71
          ],
          [
           11.43
          ],
          [
           14.95
          ],
          [
           11.28
          ],
          [
           9.738
          ],
          [
           16.11
          ],
          [
           11.43
          ],
          [
           12.9
          ],
          [
           10.75
          ],
          [
           11.9
          ],
          [
           11.8
          ],
          [
           14.95
          ],
          [
           14.44
          ],
          [
           13.74
          ],
          [
           13
          ],
          [
           8.219
          ],
          [
           9.731
          ],
          [
           11.15
          ],
          [
           13.15
          ],
          [
           12.25
          ],
          [
           17.68
          ],
          [
           16.84
          ],
          [
           12.06
          ],
          [
           10.9
          ],
          [
           11.75
          ],
          [
           19.19
          ],
          [
           19.59
          ],
          [
           12.34
          ],
          [
           23.27
          ],
          [
           14.97
          ],
          [
           10.8
          ],
          [
           16.78
          ],
          [
           17.47
          ],
          [
           14.97
          ],
          [
           12.32
          ],
          [
           13.43
          ],
          [
           15.46
          ],
          [
           11.08
          ],
          [
           10.66
          ],
          [
           8.671
          ],
          [
           9.904
          ],
          [
           16.46
          ],
          [
           13.01
          ],
          [
           12.81
          ],
          [
           27.22
          ],
          [
           21.09
          ],
          [
           15.7
          ],
          [
           11.41
          ],
          [
           15.28
          ],
          [
           10.08
          ],
          [
           18.31
          ],
          [
           11.71
          ],
          [
           11.81
          ],
          [
           12.3
          ],
          [
           14.22
          ],
          [
           12.77
          ],
          [
           9.72
          ],
          [
           12.34
          ],
          [
           14.86
          ],
          [
           12.91
          ],
          [
           13.77
          ],
          [
           18.08
          ],
          [
           19.18
          ],
          [
           14.45
          ],
          [
           12.23
          ],
          [
           17.54
          ],
          [
           23.29
          ],
          [
           13.81
          ],
          [
           12.47
          ],
          [
           15.12
          ],
          [
           9.876
          ],
          [
           17.01
          ],
          [
           13.11
          ],
          [
           15.27
          ],
          [
           20.58
          ],
          [
           11.84
          ],
          [
           28.11
          ],
          [
           17.42
          ],
          [
           14.19
          ],
          [
           13.86
          ],
          [
           11.89
          ],
          [
           10.2
          ],
          [
           19.8
          ],
          [
           19.53
          ],
          [
           13.65
          ],
          [
           13.56
          ],
          [
           10.18
          ],
          [
           15.75
          ],
          [
           13.27
          ],
          [
           14.34
          ],
          [
           10.44
          ],
          [
           15
          ],
          [
           12.62
          ],
          [
           12.83
          ],
          [
           17.05
          ],
          [
           11.32
          ],
          [
           11.22
          ],
          [
           20.51
          ],
          [
           9.567
          ],
          [
           14.03
          ],
          [
           23.21
          ],
          [
           20.48
          ],
          [
           14.22
          ],
          [
           17.46
          ],
          [
           13.64
          ],
          [
           12.42
          ],
          [
           11.3
          ],
          [
           13.75
          ],
          [
           19.4
          ],
          [
           10.48
          ],
          [
           13.2
          ],
          [
           12.89
          ],
          [
           10.65
          ],
          [
           11.52
          ],
          [
           20.94
          ],
          [
           11.5
          ],
          [
           19.73
          ],
          [
           17.3
          ],
          [
           19.45
          ],
          [
           13.96
          ],
          [
           19.55
          ],
          [
           15.32
          ],
          [
           15.66
          ],
          [
           15.53
          ],
          [
           20.31
          ],
          [
           17.35
          ],
          [
           17.29
          ],
          [
           15.61
          ],
          [
           17.19
          ],
          [
           20.73
          ],
          [
           10.6
          ],
          [
           13.59
          ],
          [
           12.87
          ],
          [
           10.71
          ],
          [
           14.29
          ],
          [
           11.29
          ],
          [
           21.75
          ],
          [
           9.742
          ],
          [
           17.93
          ],
          [
           11.89
          ],
          [
           11.33
          ],
          [
           18.81
          ],
          [
           13.59
          ],
          [
           13.85
          ],
          [
           19.16
          ],
          [
           11.74
          ],
          [
           19.4
          ],
          [
           16.24
          ],
          [
           12.89
          ],
          [
           12.58
          ],
          [
           11.94
          ],
          [
           12.89
          ],
          [
           11.26
          ],
          [
           11.37
          ],
          [
           14.41
          ],
          [
           14.96
          ],
          [
           12.95
          ],
          [
           11.85
          ],
          [
           12.72
          ],
          [
           13.77
          ],
          [
           10.91
          ],
          [
           11.76
          ],
          [
           14.26
          ],
          [
           10.51
          ],
          [
           19.53
          ],
          [
           12.46
          ],
          [
           20.09
          ],
          [
           10.49
          ],
          [
           11.46
          ],
          [
           11.6
          ],
          [
           13.2
          ],
          [
           9
          ],
          [
           13.5
          ],
          [
           13.05
          ],
          [
           11.7
          ],
          [
           14.61
          ],
          [
           12.76
          ],
          [
           11.54
          ],
          [
           8.597
          ],
          [
           12.49
          ],
          [
           12.18
          ],
          [
           18.22
          ],
          [
           9.042
          ],
          [
           12.43
          ],
          [
           10.25
          ],
          [
           20.16
          ],
          [
           12.86
          ],
          [
           20.34
          ],
          [
           12.2
          ],
          [
           12.67
          ],
          [
           14.11
          ],
          [
           12.03
          ],
          [
           16.27
          ],
          [
           16.26
          ],
          [
           16.03
          ],
          [
           12.98
          ],
          [
           11.22
          ],
          [
           11.25
          ],
          [
           12.3
          ],
          [
           17.06
          ],
          [
           12.99
          ],
          [
           18.77
          ],
          [
           10.05
          ],
          [
           23.51
          ],
          [
           14.42
          ],
          [
           9.606
          ],
          [
           11.06
          ],
          [
           19.68
          ],
          [
           11.71
          ],
          [
           10.26
          ],
          [
           12.06
          ],
          [
           14.76
          ],
          [
           11.47
          ],
          [
           11.95
          ],
          [
           11.66
          ],
          [
           15.75
          ],
          [
           25.73
          ],
          [
           15.08
          ],
          [
           11.14
          ],
          [
           12.56
          ],
          [
           13.05
          ],
          [
           13.87
          ],
          [
           8.878
          ],
          [
           9.436
          ],
          [
           12.54
          ],
          [
           13.3
          ],
          [
           12.76
          ],
          [
           16.5
          ],
          [
           13.4
          ],
          [
           20.44
          ],
          [
           20.2
          ],
          [
           12.21
          ],
          [
           21.71
          ],
          [
           22.01
          ],
          [
           16.35
          ],
          [
           15.19
          ],
          [
           21.37
          ],
          [
           20.64
          ],
          [
           13.69
          ],
          [
           16.17
          ],
          [
           10.57
          ],
          [
           13.46
          ],
          [
           13.66
          ],
          [
           11.08
          ],
          [
           11.27
          ],
          [
           11.04
          ],
          [
           12.05
          ],
          [
           12.39
          ],
          [
           13.28
          ],
          [
           14.6
          ],
          [
           12.21
          ],
          [
           13.88
          ],
          [
           11.27
          ],
          [
           19.55
          ],
          [
           10.26
          ],
          [
           8.734
          ],
          [
           15.49
          ],
          [
           21.61
          ],
          [
           12.1
          ],
          [
           14.06
          ],
          [
           13.51
          ],
          [
           12.8
          ],
          [
           11.06
          ],
          [
           11.8
          ],
          [
           17.91
          ],
          [
           11.93
          ],
          [
           12.96
          ],
          [
           12.94
          ],
          [
           12.34
          ],
          [
           10.94
          ],
          [
           16.14
          ],
          [
           12.85
          ],
          [
           17.99
          ],
          [
           12.27
          ],
          [
           11.36
          ],
          [
           11.04
          ],
          [
           9.397
          ],
          [
           14.99
          ],
          [
           15.13
          ],
          [
           11.89
          ],
          [
           9.405
          ],
          [
           15.5
          ],
          [
           12.7
          ],
          [
           11.16
          ],
          [
           11.57
          ],
          [
           14.69
          ],
          [
           11.61
          ],
          [
           13.66
          ],
          [
           9.742
          ],
          [
           10.03
          ],
          [
           10.48
          ],
          [
           10.8
          ],
          [
           11.13
          ],
          [
           12.72
          ],
          [
           14.9
          ],
          [
           12.4
          ],
          [
           20.18
          ],
          [
           18.82
          ],
          [
           14.86
          ],
          [
           13.98
          ],
          [
           12.87
          ],
          [
           14.04
          ],
          [
           13.85
          ],
          [
           14.02
          ],
          [
           10.97
          ],
          [
           17.27
          ],
          [
           13.78
          ],
          [
           10.57
          ],
          [
           18.03
          ],
          [
           11.99
          ],
          [
           17.75
          ],
          [
           14.8
          ],
          [
           14.53
          ],
          [
           21.1
          ],
          [
           11.87
          ],
          [
           19.59
          ],
          [
           12
          ],
          [
           14.53
          ],
          [
           12.62
          ],
          [
           13.38
          ],
          [
           11.63
          ],
          [
           13.21
          ],
          [
           13
          ],
          [
           9.755
          ],
          [
           17.08
          ],
          [
           27.42
          ],
          [
           14.4
          ],
          [
           11.6
          ],
          [
           13.17
          ],
          [
           13.24
          ],
          [
           13.14
          ],
          [
           9.668
          ],
          [
           17.6
          ],
          [
           11.62
          ],
          [
           9.667
          ],
          [
           12.04
          ],
          [
           14.92
          ],
          [
           12.27
          ],
          [
           10.88
          ],
          [
           12.83
          ],
          [
           14.2
          ],
          [
           13.9
          ],
          [
           11.49
          ],
          [
           16.25
          ],
          [
           12.16
          ],
          [
           13.9
          ],
          [
           13.47
          ],
          [
           13.7
          ],
          [
           15.73
          ],
          [
           12.45
          ],
          [
           14.64
          ],
          [
           19.44
          ],
          [
           11.68
          ],
          [
           16.69
          ],
          [
           12.25
          ],
          [
           17.85
          ],
          [
           18.01
          ],
          [
           12.46
          ],
          [
           13.16
          ],
          [
           14.87
          ],
          [
           12.65
          ],
          [
           12.47
          ],
          [
           18.49
          ],
          [
           20.59
          ],
          [
           15.04
          ],
          [
           13.82
          ],
          [
           12.54
          ],
          [
           23.09
          ],
          [
           9.268
          ],
          [
           9.676
          ],
          [
           12.22
          ],
          [
           11.06
          ],
          [
           16.3
          ],
          [
           15.46
          ],
          [
           11.74
          ],
          [
           14.81
          ],
          [
           13.4
          ],
          [
           14.58
          ],
          [
           15.05
          ],
          [
           11.34
          ],
          [
           18.31
          ],
          [
           19.89
          ],
          [
           12.88
          ],
          [
           12.75
          ],
          [
           9.295
          ],
          [
           24.63
          ],
          [
           11.26
          ],
          [
           13.71
          ],
          [
           9.847
          ],
          [
           8.571
          ],
          [
           13.46
          ],
          [
           12.34
          ],
          [
           13.94
          ],
          [
           12.07
          ],
          [
           11.75
          ],
          [
           11.67
          ],
          [
           13.68
          ],
          [
           20.47
          ],
          [
           10.96
          ],
          [
           20.55
          ],
          [
           14.27
          ],
          [
           11.69
          ],
          [
           7.729
          ],
          [
           7.691
          ],
          [
           11.54
          ],
          [
           14.47
          ],
          [
           14.74
          ],
          [
           13.21
          ],
          [
           13.87
          ],
          [
           13.62
          ],
          [
           10.32
          ],
          [
           10.26
          ],
          [
           9.683
          ],
          [
           10.82
          ],
          [
           10.86
          ],
          [
           11.13
          ],
          [
           12.77
          ],
          [
           9.333
          ],
          [
           12.88
          ],
          [
           10.29
          ],
          [
           10.16
          ],
          [
           9.423
          ],
          [
           14.59
          ]
         ],
         "hovertemplate": "0=%{x}<br>1=%{y}<br>2=%{z}<br>Feature=%{customdata[0]}<br>Anomaly=%{marker.color}<extra></extra>",
         "legendgroup": "",
         "marker": {
          "color": [
           1,
           0,
           0,
           1,
           0,
           0,
           0,
           0,
           0,
           1,
           0,
           0,
           1,
           0,
           0,
           0,
           0,
           0,
           0,
           0,
           0,
           0,
           0,
           0,
           0,
           0,
           0,
           0,
           0,
           0,
           0,
           0,
           0,
           0,
           0,
           0,
           0,
           0,
           0,
           0,
           0,
           0,
           1,
           0,
           0,
           0,
           0,
           0,
           0,
           0,
           0,
           0,
           0,
           0,
           0,
           0,
           0,
           0,
           0,
           0,
           0,
           0,
           0,
           0,
           0,
           0,
           0,
           0,
           1,
           0,
           0,
           0,
           0,
           0,
           0,
           0,
           0,
           0,
           1,
           0,
           0,
           0,
           1,
           1,
           0,
           0,
           0,
           0,
           0,
           0,
           0,
           0,
           0,
           0,
           0,
           0,
           0,
           0,
           0,
           0,
           0,
           0,
           0,
           0,
           0,
           0,
           0,
           0,
           1,
           0,
           0,
           0,
           0,
           0,
           0,
           0,
           0,
           0,
           0,
           0,
           0,
           0,
           1,
           0,
           0,
           0,
           0,
           0,
           0,
           0,
           0,
           0,
           0,
           0,
           0,
           0,
           0,
           0,
           0,
           0,
           0,
           0,
           0,
           0,
           0,
           0,
           0,
           0,
           0,
           0,
           0,
           1,
           1,
           0,
           0,
           0,
           0,
           0,
           0,
           0,
           0,
           0,
           0,
           0,
           0,
           0,
           0,
           0,
           0,
           0,
           0,
           0,
           0,
           0,
           0,
           0,
           0,
           0,
           0,
           0,
           1,
           1,
           0,
           0,
           0,
           0,
           0,
           0,
           0,
           0,
           1,
           0,
           0,
           0,
           0,
           0,
           0,
           0,
           0,
           0,
           0,
           0,
           1,
           0,
           0,
           0,
           0,
           0,
           0,
           0,
           0,
           0,
           1,
           1,
           0,
           0,
           0,
           0,
           0,
           0,
           0,
           0,
           0,
           0,
           0,
           0,
           0,
           0,
           0,
           0,
           0,
           0,
           0,
           0,
           0,
           0,
           0,
           0,
           0,
           0,
           0,
           0,
           0,
           0,
           0,
           0,
           0,
           0,
           0,
           0,
           0,
           0,
           0,
           0,
           0,
           0,
           0,
           0,
           1,
           0,
           0,
           0,
           0,
           0,
           0,
           1,
           0,
           0,
           0,
           0,
           0,
           0,
           0,
           0,
           0,
           0,
           0,
           0,
           0,
           0,
           0,
           0,
           0,
           0,
           0,
           0,
           0,
           0,
           0,
           0,
           0,
           0,
           0,
           0,
           0,
           0,
           0,
           0,
           0,
           0,
           0,
           0,
           0,
           0,
           0,
           0,
           0,
           0,
           0,
           0,
           0,
           0,
           0,
           0,
           0,
           0,
           0,
           0,
           0,
           0,
           0,
           0,
           0,
           0,
           0,
           0,
           0,
           0,
           0,
           0,
           0,
           0,
           0,
           0,
           0,
           0,
           0,
           0,
           0,
           1,
           0,
           0,
           0,
           0,
           0,
           0,
           0,
           0,
           0,
           0,
           0,
           0,
           1,
           0,
           0,
           0,
           0,
           0,
           0,
           0,
           0,
           0,
           0,
           0,
           0,
           0,
           0,
           0,
           1,
           0,
           0,
           0,
           0,
           0,
           0,
           0,
           0,
           0,
           0,
           0,
           0,
           0,
           0,
           0,
           0,
           0,
           0,
           0,
           0,
           0,
           0,
           0,
           0,
           0,
           0,
           0,
           0,
           0,
           0,
           0,
           0,
           0,
           0,
           0,
           0,
           0,
           0,
           0,
           0,
           0,
           0,
           0,
           0,
           0,
           0,
           0,
           0,
           0,
           0,
           0,
           0,
           0,
           0,
           0,
           0,
           0,
           0,
           0,
           0,
           0,
           0,
           0,
           0,
           0,
           0,
           0,
           0,
           0,
           0,
           0,
           0,
           0,
           0,
           0,
           0,
           0,
           0,
           0,
           0,
           0,
           0,
           0,
           0,
           0,
           0,
           0,
           0,
           0,
           0,
           0,
           0,
           1,
           0,
           0,
           0,
           0,
           0,
           0,
           0,
           0,
           0,
           0,
           0,
           0,
           0,
           0,
           0,
           0,
           0,
           0,
           0,
           0,
           0,
           0,
           0,
           0,
           0,
           0,
           0,
           0,
           0,
           0,
           0,
           0,
           0,
           0,
           0,
           0,
           0,
           0,
           0,
           0,
           0,
           1,
           1,
           0,
           0,
           0,
           0,
           0,
           0,
           0,
           0,
           0,
           0,
           0,
           0,
           0,
           0,
           0,
           0,
           1,
           0,
           0,
           0,
           0,
           0,
           0,
           0,
           0,
           0,
           0,
           0,
           0,
           0,
           0,
           0,
           0,
           0,
           0,
           0,
           0,
           0,
           0,
           0,
           0,
           0,
           0,
           0,
           0,
           0,
           0,
           0,
           0,
           0,
           0,
           0,
           0,
           0
          ],
          "coloraxis": "coloraxis",
          "opacity": 0.7,
          "symbol": "circle"
         },
         "mode": "markers",
         "name": "",
         "scene": "scene",
         "showlegend": false,
         "type": "scatter3d",
         "x": [
          11.682061195373535,
          11.513671875,
          9.417614936828613,
          -5.076379299163818,
          8.879204750061035,
          -7.61220645904541,
          7.599398136138916,
          -2.2250170707702637,
          -7.5021138191223145,
          -8.031253814697266,
          3.444469451904297,
          4.356400012969971,
          6.5651350021362305,
          0.37087807059288025,
          -9.643989562988281,
          0.12476135790348053,
          2.6471498012542725,
          4.489470958709717,
          13.379229545593262,
          -8.691597938537598,
          -10.62668228149414,
          10.273340225219727,
          1.1974190473556519,
          14.121131896972656,
          12.202020645141602,
          6.140614032745361,
          -0.9856300354003906,
          6.767402172088623,
          3.9714033603668213,
          4.9332404136657715,
          8.507129669189453,
          -3.043346881866455,
          5.390416145324707,
          10.088892936706543,
          4.163611888885498,
          4.483929634094238,
          -4.092751502990723,
          -10.284663200378418,
          -5.8763251304626465,
          -7.4054951667785645,
          -5.429797649383545,
          -1.8776698112487793,
          8.528395652770996,
          -2.4096977710723877,
          -7.460682392120361,
          7.655141830444336,
          13.128222465515137,
          -7.0569071769714355,
          -8.133539199829102,
          -9.536330223083496,
          -5.488286018371582,
          -10.60377025604248,
          -6.381076335906982,
          5.929682731628418,
          1.8492106199264526,
          -3.9685957431793213,
          12.23489761352539,
          0.7389602661132812,
          -10.249825477600098,
          12.423853874206543,
          6.664159774780273,
          12.262539863586426,
          0.35739266872406006,
          10.719630241394043,
          -2.9224648475646973,
          -0.06939377635717392,
          9.750995635986328,
          -1.2117723226547241,
          10.503682136535645,
          -9.952877044677734,
          22.33439064025879,
          11.781538009643555,
          7.79241418838501,
          -4.297449111938477,
          -8.991713523864746,
          4.222304821014404,
          -11.676225662231445,
          7.828857898712158,
          9.123727798461914,
          -10.075974464416504,
          -4.166666030883789,
          -10.849523544311523,
          14.529370307922363,
          6.438326358795166,
          -7.691451072692871,
          8.063149452209473,
          -3.6429193019866943,
          7.90299129486084,
          -8.53966999053955,
          -3.7806365489959717,
          -3.6206986904144287,
          -1.4868505001068115,
          -3.891392469406128,
          -9.300851821899414,
          1.7415343523025513,
          9.939743995666504,
          -5.760400295257568,
          7.496304988861084,
          -4.485994338989258,
          -3.102055549621582,
          -2.078214406967163,
          13.309096336364746,
          -7.66843318939209,
          7.6189656257629395,
          4.274662017822266,
          -3.93198561668396,
          -4.626350402832031,
          -8.096925735473633,
          13.567397117614746,
          -3.6698219776153564,
          7.551374435424805,
          -8.298419952392578,
          -7.7743635177612305,
          5.747048377990723,
          12.028802871704102,
          -7.7245635986328125,
          12.097822189331055,
          2.3200695514678955,
          4.267980575561523,
          5.346651077270508,
          -3.9431264400482178,
          7.58758020401001,
          13.096920013427734,
          -6.346533298492432,
          -11.238198280334473,
          -7.913112640380859,
          -3.342221736907959,
          7.822324752807617,
          -5.061681270599365,
          8.431440353393555,
          -8.035799980163574,
          3.23079252243042,
          3.7190463542938232,
          0.8630847930908203,
          7.706164360046387,
          -9.502930641174316,
          -6.237597465515137,
          -1.3628249168395996,
          1.0178592205047607,
          0.6995930075645447,
          8.81551742553711,
          4.239289283752441,
          -3.2509353160858154,
          -10.039091110229492,
          1.9169700145721436,
          -5.410645484924316,
          -7.7905097007751465,
          -2.9779889583587646,
          -5.740830421447754,
          -7.953269004821777,
          -10.091650009155273,
          13.012542724609375,
          6.543850421905518,
          0.6642235517501831,
          -9.878776550292969,
          -8.294153213500977,
          5.27771520614624,
          2.6523361206054688,
          -7.237596035003662,
          -0.16646666824817657,
          -6.0805816650390625,
          7.648801326751709,
          12.700665473937988,
          139.74256896972656,
          13.91321086883545,
          -4.02643346786499,
          2.876075029373169,
          4.781965255737305,
          7.9256391525268555,
          -3.631849765777588,
          -8.582380294799805,
          -0.6242036819458008,
          2.7037737369537354,
          3.0997393131256104,
          3.5320959091186523,
          12.621207237243652,
          6.120157718658447,
          2.031989574432373,
          -11.064278602600098,
          -10.456819534301758,
          15.547489166259766,
          12.152009010314941,
          4.0410003662109375,
          -1.7924624681472778,
          24.894804000854492,
          3.499567747116089,
          6.517958641052246,
          -5.169760704040527,
          -4.252516746520996,
          -8.359705924987793,
          -6.156925678253174,
          -11.489157676696777,
          10.367835998535156,
          -7.34635591506958,
          -4.1946635246276855,
          -10.735400199890137,
          -4.472476005554199,
          5.478519439697266,
          8.91922664642334,
          1.5060909986495972,
          -8.83568000793457,
          5.259219646453857,
          12.801658630371094,
          2.3678998947143555,
          -8.622699737548828,
          1.4137132167816162,
          9.079906463623047,
          4.625809669494629,
          -10.548784255981445,
          0.6961398720741272,
          9.485224723815918,
          -6.252230167388916,
          14.851859092712402,
          2.7802679538726807,
          -4.083643436431885,
          -6.927107810974121,
          5.954131126403809,
          4.75494384765625,
          11.575749397277832,
          13.546740531921387,
          -8.790789604187012,
          -9.630647659301758,
          6.363891124725342,
          2.714088201522827,
          -8.829936981201172,
          -1.626081943511963,
          4.879292011260986,
          -3.0292766094207764,
          -9.705812454223633,
          -8.27379035949707,
          4.422857284545898,
          -0.29942962527275085,
          -0.6185999512672424,
          10.977987289428711,
          9.315890312194824,
          -8.237082481384277,
          15.100887298583984,
          10.110367774963379,
          -6.00704288482666,
          5.894481658935547,
          -9.848814964294434,
          -8.8411283493042,
          -1.263688087463379,
          -9.051440238952637,
          7.139990329742432,
          4.218264102935791,
          -11.401543617248535,
          -10.287117958068848,
          1.6398460865020752,
          -3.2170138359069824,
          11.859634399414062,
          -3.997084140777588,
          11.108007431030273,
          4.885383605957031,
          11.309885025024414,
          -3.769151210784912,
          11.067838668823242,
          0.6118228435516357,
          4.407403469085693,
          2.1514334678649902,
          10.687993049621582,
          4.848969459533691,
          5.240350723266602,
          1.7052019834518433,
          6.064587116241455,
          15.552234649658203,
          3.0049595832824707,
          -10.549555778503418,
          -10.69155216217041,
          3.621821641921997,
          -8.880640983581543,
          -0.5732297897338867,
          13.612166404724121,
          8.165080070495605,
          5.842991352081299,
          -4.435866355895996,
          -1.0028103590011597,
          6.021310329437256,
          -7.413724422454834,
          -10.192687034606934,
          9.175084114074707,
          -6.164453983306885,
          8.399090766906738,
          2.3970437049865723,
          -10.649401664733887,
          -9.674713134765625,
          -7.051896095275879,
          -10.570656776428223,
          0.14088450372219086,
          -0.8873431086540222,
          -5.1625237464904785,
          -2.964470148086548,
          -10.66515827178955,
          -5.90659236907959,
          -9.611620903015137,
          -10.468058586120605,
          3.499819040298462,
          -6.723026752471924,
          -3.4248862266540527,
          6.284869194030762,
          11.832929611206055,
          -8.382532119750977,
          9.718066215515137,
          5.718598365783691,
          -2.9666519165039062,
          -3.1698474884033203,
          -10.9345703125,
          11.735039710998535,
          -9.135758399963379,
          -9.822609901428223,
          -3.465627670288086,
          -2.191457748413086,
          -10.027583122253418,
          -2.285210132598877,
          12.89284610748291,
          -8.98585319519043,
          -7.2442779541015625,
          6.851795673370361,
          11.388084411621094,
          -8.005538940429688,
          5.284021854400635,
          9.23045539855957,
          -10.432201385498047,
          11.154363632202148,
          -8.409683227539062,
          -9.923925399780273,
          -6.674463748931885,
          -6.70193338394165,
          3.276643753051758,
          1.967530369758606,
          2.718050241470337,
          -10.155205726623535,
          0.653643012046814,
          -2.299548864364624,
          -7.965133190155029,
          5.598083972930908,
          -10.563291549682617,
          10.717865943908691,
          6.072866439819336,
          15.076571464538574,
          -1.913277268409729,
          8.506749153137207,
          1.1278181076049805,
          8.127715110778809,
          -5.042370319366455,
          6.873453140258789,
          -7.593451499938965,
          -1.0863479375839233,
          -2.2169203758239746,
          -4.69570779800415,
          -5.913570880889893,
          0.765975296497345,
          15.526988983154297,
          2.1157124042510986,
          -0.22977879643440247,
          -9.103514671325684,
          -10.827777862548828,
          -9.303702354431152,
          11.372480392456055,
          4.38440465927124,
          -10.24726390838623,
          -11.146007537841797,
          -10.209318161010742,
          2.309176206588745,
          -10.4452543258667,
          10.286712646484375,
          9.328763008117676,
          -8.810494422912598,
          15.338885307312012,
          13.098922729492188,
          3.825263023376465,
          -2.159867525100708,
          8.802743911743164,
          11.475682258605957,
          -10.290831565856934,
          0.14859509468078613,
          6.5288472175598145,
          -10.36389446258545,
          -10.57352066040039,
          -1.5787208080291748,
          -1.364269495010376,
          0.8336228728294373,
          -5.4678168296813965,
          -8.74068546295166,
          -11.343951225280762,
          -5.439724922180176,
          -7.819718360900879,
          -7.039234161376953,
          -0.32088062167167664,
          6.667481422424316,
          5.179144859313965,
          11.116204261779785,
          4.419877529144287,
          12.33130931854248,
          -7.52343225479126,
          -9.322366714477539,
          -10.200468063354492,
          -10.932168006896973,
          -1.8526544570922852,
          -6.8767008781433105,
          5.8202033042907715,
          -8.047497749328613,
          -52.14167022705078,
          -10.414113998413086,
          -8.286240577697754,
          -0.40979066491127014,
          1.4667515754699707,
          -9.42244815826416,
          5.934188365936279,
          -8.858235359191895,
          -3.8154959678649902,
          -0.4703453779220581,
          10.848390579223633,
          -1.1170027256011963,
          0.6372079253196716,
          -6.065313339233398,
          8.457136154174805,
          7.7754106521606445,
          -9.975916862487793,
          -0.09281071275472641,
          -4.461930751800537,
          -3.5686075687408447,
          -2.5448720455169678,
          -8.886945724487305,
          6.80263090133667,
          6.621762275695801,
          2.8127102851867676,
          -0.9898454546928406,
          1.746108055114746,
          -10.514022827148438,
          -2.0880210399627686,
          -7.541321277618408,
          7.977368354797363,
          8.26589584350586,
          -4.529869556427002,
          -2.6111695766448975,
          -9.942981719970703,
          -6.662221431732178,
          -6.857573986053467,
          -9.266905784606934,
          -0.6767647862434387,
          5.214478015899658,
          -8.857157707214355,
          5.961876392364502,
          5.773143768310547,
          -6.223228454589844,
          6.34207820892334,
          -2.407602071762085,
          -2.66186785697937,
          12.010700225830078,
          -5.508823394775391,
          7.313433647155762,
          -6.7162628173828125,
          -6.150467395782471,
          -9.555295944213867,
          -9.428247451782227,
          -4.63251256942749,
          -10.666006088256836,
          -10.227011680603027,
          8.40118408203125,
          7.7509989738464355,
          15.973221778869629,
          -6.679060459136963,
          -3.663478374481201,
          -9.617364883422852,
          -7.647439479827881,
          -9.511405944824219,
          7.1338701248168945,
          6.320903778076172,
          -4.818282604217529,
          6.797606468200684,
          -6.9178690910339355,
          -0.2724939286708832,
          -7.290852069854736,
          2.009392261505127,
          -10.468146324157715,
          -3.471749782562256,
          -8.107513427734375,
          -1.9482492208480835,
          1.499352216720581,
          -7.759399890899658,
          -3.627056121826172,
          -10.466151237487793,
          -9.835841178894043,
          -0.5212829113006592,
          -9.348885536193848,
          -2.497076988220215,
          9.454530715942383,
          -6.072046279907227,
          3.025071620941162,
          -8.92419147491455,
          5.219218730926514,
          6.408075332641602,
          -8.519468307495117,
          -10.507744789123535,
          -4.119431972503662,
          -9.356249809265137,
          -9.258734703063965,
          -95.6754379272461,
          10.238317489624023,
          -1.4072154760360718,
          -5.079453945159912,
          -8.892809867858887,
          14.811028480529785,
          11.263758659362793,
          9.803780555725098,
          -6.840091228485107,
          2.6793301105499268,
          1.3603328466415405,
          0.43349283933639526,
          -3.428236961364746,
          -5.04571533203125,
          -3.5428717136383057,
          -1.6549991369247437,
          0.9442809224128723,
          -1.6914708614349365,
          7.057653903961182,
          8.899951934814453,
          -8.737281799316406,
          -9.637508392333984,
          10.260005950927734,
          14.653175354003906,
          0.7928996682167053,
          -9.27548599243164,
          7.062984466552734,
          12.422452926635742,
          -8.317099571228027,
          -8.888839721679688,
          -10.55833911895752,
          -7.5743184089660645,
          -6.240154266357422,
          -5.6477203369140625,
          -6.031922340393066,
          9.38330078125,
          2.846848726272583,
          10.540529251098633,
          -7.135142803192139,
          -3.0162456035614014,
          13.123799324035645,
          13.258477210998535,
          -1.3114962577819824,
          -3.46811580657959,
          -2.697463274002075,
          -10.634033203125,
          -9.666229248046875,
          -7.85301399230957,
          5.539444923400879,
          6.936524868011475,
          7.875671863555908,
          -1.429398775100708,
          2.975926160812378,
          1.046204924583435,
          -11.46274471282959,
          11.102333068847656,
          -11.428672790527344,
          6.962601184844971,
          7.6712470054626465,
          9.746790885925293,
          -6.451293468475342
         ],
         "y": [
          -2.284015417098999,
          -0.6131126880645752,
          0.5410231351852417,
          -4.538141250610352,
          2.140068292617798,
          4.985691547393799,
          0.8219888210296631,
          7.990984916687012,
          6.005180358886719,
          4.476306915283203,
          6.8353753089904785,
          4.911068439483643,
          4.308157920837402,
          10.73741340637207,
          8.019854545593262,
          8.800350189208984,
          6.661486625671387,
          4.75699520111084,
          -1.8888109922409058,
          7.44948148727417,
          2.119018077850342,
          -10.531417846679688,
          8.624115943908691,
          -1.6637004613876343,
          -2.4906182289123535,
          2.676150321960449,
          9.38243293762207,
          3.536191940307617,
          5.133203983306885,
          5.672276020050049,
          0.37409043312072754,
          6.845670700073242,
          4.064324378967285,
          -0.5144790410995483,
          5.318361759185791,
          5.8314361572265625,
          10.363724708557129,
          -3.073124408721924,
          11.095805168151855,
          7.406425476074219,
          8.120819091796875,
          -7.571404457092285,
          0.5947643518447876,
          7.620643138885498,
          6.377871513366699,
          1.4847078323364258,
          -9.893238067626953,
          6.567715644836426,
          -2.645752429962158,
          7.0214033126831055,
          -7.33000373840332,
          6.454770565032959,
          -6.711031913757324,
          4.463736534118652,
          7.9788079261779785,
          -7.900545597076416,
          -1.9761861562728882,
          8.139098167419434,
          1.9976630210876465,
          -10.153310775756836,
          -10.005054473876953,
          -9.672019004821777,
          8.40005111694336,
          -10.263197898864746,
          7.147693157196045,
          9.189023971557617,
          -9.950156211853027,
          -9.860987663269043,
          -9.721575736999512,
          -3.256767511367798,
          -47.00669479370117,
          -10.429981231689453,
          0.019323252141475677,
          8.675460815429688,
          -0.5534816980361938,
          5.924448490142822,
          2.3262782096862793,
          0.6864957213401794,
          1.644760251045227,
          1.1415576934814453,
          -6.67514181137085,
          1.1220473051071167,
          -0.8154687881469727,
          4.635422706604004,
          -3.6147656440734863,
          1.0836700201034546,
          10.699268341064453,
          0.720647394657135,
          -2.862504482269287,
          10.706513404846191,
          11.25512981414795,
          11.499153137207031,
          7.914968967437744,
          6.678747177124023,
          7.9789299964904785,
          0.4784620404243469,
          -8.273638725280762,
          -10.095773696899414,
          -7.847458839416504,
          10.427043914794922,
          8.003002166748047,
          -9.4345703125,
          -4.605944633483887,
          -10.538007736206055,
          -10.699597358703613,
          7.622084617614746,
          -6.914822101593018,
          -4.894962310791016,
          -1.2548422813415527,
          -7.1479620933532715,
          -9.802352905273438,
          -5.873042583465576,
          10.040627479553223,
          -11.193862915039062,
          -9.77826976776123,
          -2.7841930389404297,
          -10.529194831848145,
          7.032208442687988,
          5.2304182052612305,
          5.304044246673584,
          -8.036813735961914,
          1.6964432001113892,
          -0.15953300893306732,
          10.707748413085938,
          3.391587257385254,
          8.672599792480469,
          8.279516220092773,
          2.044099807739258,
          11.468489646911621,
          1.7044646739959717,
          -5.194308757781982,
          6.623802661895752,
          6.513923168182373,
          10.109824180603027,
          1.1541436910629272,
          2.6828222274780273,
          -5.166651725769043,
          -10.208263397216797,
          8.525979042053223,
          -11.31696891784668,
          -10.581857681274414,
          5.795639514923096,
          -8.012479782104492,
          2.419316291809082,
          -10.148539543151855,
          -7.863528251647949,
          -2.499897003173828,
          11.54206657409668,
          10.775826454162598,
          8.517714500427246,
          1.414831280708313,
          -9.712383270263672,
          -9.110786437988281,
          -10.833434104919434,
          5.367099761962891,
          -3.725038766860962,
          4.585407733917236,
          8.906166076660156,
          -6.144040107727051,
          -9.223480224609375,
          -5.3269500732421875,
          2.599674940109253,
          -1.8925769329071045,
          -11.578703880310059,
          -0.9350939393043518,
          12.048876762390137,
          -11.175352096557617,
          5.322148323059082,
          0.20817913115024567,
          11.849767684936523,
          -4.892993450164795,
          7.629908084869385,
          7.207155704498291,
          -11.627974510192871,
          -10.919535636901855,
          -10.325377464294434,
          -9.704936981201172,
          9.443800926208496,
          0.997925341129303,
          -2.260545015335083,
          -0.5966269373893738,
          -1.2817816734313965,
          5.183493614196777,
          -10.307430267333984,
          50.36164093017578,
          -9.576358795166016,
          3.3516392707824707,
          -7.138485431671143,
          -8.959355354309082,
          -4.957050323486328,
          9.657654762268066,
          -1.8658936023712158,
          -10.790751457214355,
          5.167336940765381,
          11.687780380249023,
          0.043230410665273666,
          8.8947114944458,
          5.577951431274414,
          0.43990761041641235,
          7.319796085357666,
          0.27507859468460083,
          5.667752265930176,
          -0.06701546907424927,
          6.417377948760986,
          3.573667287826538,
          8.622401237487793,
          -10.726046562194824,
          5.970393180847168,
          2.9988505840301514,
          9.70784854888916,
          1.4840012788772583,
          -5.004378318786621,
          -0.06497320532798767,
          9.051727294921875,
          9.510527610778809,
          8.386474609375,
          45.76856994628906,
          -10.263827323913574,
          -1.4231646060943604,
          -1.9653226137161255,
          7.413848876953125,
          6.679891586303711,
          -10.609886169433594,
          7.524307727813721,
          6.48140811920166,
          9.695786476135254,
          -10.826189994812012,
          11.824943542480469,
          0.9472479820251465,
          4.664979934692383,
          6.316071033477783,
          -9.961400985717773,
          -8.852585792541504,
          -0.18470430374145508,
          -10.339140892028809,
          9.161741256713867,
          -1.272653341293335,
          0.6872950792312622,
          10.070119857788086,
          3.2758429050445557,
          7.384198188781738,
          -4.956863880157471,
          -9.31930923461914,
          8.756999015808105,
          3.4891412258148193,
          -10.721076965332031,
          1.5008983612060547,
          2.251401662826538,
          -9.484112739562988,
          -8.7894868850708,
          -0.8585075736045837,
          -7.682824611663818,
          -1.1333614587783813,
          5.901005268096924,
          -1.4917712211608887,
          9.154738426208496,
          -1.1160067319869995,
          9.600058555603027,
          5.861519813537598,
          8.157206535339355,
          -0.15968003869056702,
          5.890841484069824,
          4.689162254333496,
          8.981633186340332,
          3.0151774883270264,
          -1.4221264123916626,
          -10.333261489868164,
          6.002069473266602,
          -0.3464435338973999,
          -10.71094799041748,
          9.386177062988281,
          -10.42997932434082,
          -1.3381571769714355,
          -10.306159973144531,
          4.535774230957031,
          -9.616031646728516,
          -10.542757034301758,
          5.2640886306762695,
          8.052963256835938,
          7.517490386962891,
          0.1359967589378357,
          -5.978311538696289,
          1.032529354095459,
          8.61684799194336,
          -0.3876442015171051,
          -3.1302645206451416,
          -4.885867118835449,
          -1.6975387334823608,
          -11.431539535522461,
          -10.129936218261719,
          10.7724027633667,
          11.73766040802002,
          -1.1344330310821533,
          -7.266359806060791,
          -3.713061571121216,
          7.068814754486084,
          -11.611218452453613,
          -4.855055809020996,
          10.212488174438477,
          -11.390249252319336,
          -1.5850168466567993,
          -4.199888229370117,
          1.0313316583633423,
          -11.352791786193848,
          -8.819666862487793,
          -9.46136474609375,
          3.1679558753967285,
          -10.241535186767578,
          7.145126819610596,
          4.866239547729492,
          -9.333660125732422,
          10.739049911499023,
          0.8435907959938049,
          -10.322867393493652,
          -10.199525833129883,
          -4.769283771514893,
          -6.970935821533203,
          2.421814203262329,
          -9.794487953186035,
          -6.495086193084717,
          -10.499836921691895,
          1.2993773221969604,
          -0.4022004306316376,
          -0.8862021565437317,
          -2.4970638751983643,
          -2.4673256874084473,
          9.887947082519531,
          -6.845767974853516,
          7.271390438079834,
          9.532455444335938,
          7.946294784545898,
          2.0948448181152344,
          -10.953483581542969,
          -8.59628677368164,
          -4.884232521057129,
          3.787510633468628,
          -1.7769200801849365,
          -2.3772215843200684,
          -10.343303680419922,
          -1.1530141830444336,
          9.852778434753418,
          -10.073974609375,
          -10.584648132324219,
          2.2304275035858154,
          -7.470866680145264,
          -11.048218727111816,
          -3.9136581420898438,
          10.036588668823242,
          -9.68387222290039,
          -8.543071746826172,
          -5.425555229187012,
          10.181564331054688,
          -0.8494914770126343,
          7.700321197509766,
          -10.801705360412598,
          -4.282835960388184,
          -0.768779993057251,
          8.444847106933594,
          -9.911616325378418,
          -9.1298246383667,
          -1.799578070640564,
          2.6553800106048584,
          -1.948269009590149,
          9.098858833312988,
          5.537562847137451,
          0.34399083256721497,
          1.0723943710327148,
          -0.20977318286895752,
          -1.3882911205291748,
          -1.0568909645080566,
          6.6807541847229,
          11.73595142364502,
          2.5650980472564697,
          -0.526854395866394,
          7.118561267852783,
          10.923816680908203,
          -11.7858304977417,
          6.611781120300293,
          6.842792510986328,
          -7.708590507507324,
          -9.346835136413574,
          -10.30549144744873,
          -8.531303405761719,
          -1.22976553440094,
          2.654515266418457,
          11.343339920043945,
          -6.067725658416748,
          9.08457088470459,
          -10.810967445373535,
          4.43035364151001,
          -10.608562469482422,
          -9.536460876464844,
          4.472421646118164,
          -0.8782989382743835,
          -4.083490371704102,
          8.811277389526367,
          6.219838619232178,
          -1.1055378913879395,
          -8.341546058654785,
          -4.176395893096924,
          4.8064727783203125,
          -2.4272894859313965,
          12.399857521057129,
          -1.5111900568008423,
          -5.901689529418945,
          -9.021080017089844,
          9.8682861328125,
          2.7309908866882324,
          4.108287811279297,
          -0.6632910966873169,
          -6.9030232429504395,
          -9.162697792053223,
          -10.371710777282715,
          10.667756080627441,
          9.63915729522705,
          -7.043596267700195,
          -9.491111755371094,
          -0.27310463786125183,
          -2.805652141571045,
          -9.791095733642578,
          -7.029547214508057,
          10.617897033691406,
          -9.745962142944336,
          7.915874004364014,
          -9.09211254119873,
          -10.570362091064453,
          -9.764633178710938,
          -8.184490203857422,
          -11.222234725952148,
          -1.422142505645752,
          11.412324905395508,
          -6.732748985290527,
          2.922642707824707,
          1.2624534368515015,
          11.700424194335938,
          8.671599388122559,
          1.5431643724441528,
          9.678518295288086,
          8.96153736114502,
          8.77601146697998,
          -8.8666410446167,
          4.964691638946533,
          8.368598937988281,
          -11.598326683044434,
          5.032454013824463,
          -7.505508899688721,
          2.9853134155273438,
          11.283489227294922,
          10.883313179016113,
          -0.7197553515434265,
          -7.824581146240234,
          3.455613136291504,
          -7.3616743087768555,
          10.820873260498047,
          1.229466199874878,
          7.009594917297363,
          -6.209097385406494,
          3.017045259475708,
          2.1357948780059814,
          -10.268207550048828,
          0.13531483709812164,
          -0.45623618364334106,
          10.743083953857422,
          -8.707744598388672,
          5.613291263580322,
          6.701505184173584,
          5.626099586486816,
          -9.594780921936035,
          2.8841755390167236,
          -6.517345428466797,
          -9.571526527404785,
          -3.1057331562042236,
          9.776182174682617,
          -3.2981529235839844,
          -10.503195762634277,
          0.07214032858610153,
          9.622430801391602,
          9.019083976745605,
          -10.039100646972656,
          9.95482063293457,
          -4.7886738777160645,
          9.139573097229004,
          5.131321430206299,
          7.222824573516846,
          11.134814262390137,
          -2.287111282348633,
          11.077978134155273,
          0.0930233895778656,
          -4.979552745819092,
          8.100184440612793,
          -0.12173491716384888,
          5.887381076812744,
          3.0684850215911865,
          -5.6426520347595215,
          3.8052725791931152,
          11.849658012390137,
          0.934837818145752,
          -0.5033636093139648,
          81.519775390625,
          0.6416568160057068,
          10.807439804077148,
          9.064668655395508,
          -4.340500354766846,
          -1.233398199081421,
          -10.289444923400879,
          -10.312821388244629,
          -7.15739631652832,
          -11.239333152770996,
          10.11823844909668,
          10.09424877166748,
          -9.792533874511719,
          11.822583198547363,
          7.985035419464111,
          10.211873054504395,
          8.85321044921875,
          -9.277701377868652,
          2.30783748626709,
          1.1594462394714355,
          3.555718183517456,
          0.8818337321281433,
          -9.945087432861328,
          -0.9184293746948242,
          -10.72662353515625,
          7.620455265045166,
          -10.044692993164062,
          -9.864686965942383,
          6.891721248626709,
          -3.808215618133545,
          7.551152229309082,
          -4.895206451416016,
          -4.813996315002441,
          -4.8233866691589355,
          8.30556869506836,
          1.5963900089263916,
          -11.291889190673828,
          0.20282182097434998,
          10.29371166229248,
          -8.845559120178223,
          -9.429733276367188,
          -9.520990371704102,
          -10.646777153015137,
          11.187421798706055,
          11.226290702819824,
          2.9188344478607178,
          7.978190898895264,
          8.069881439208984,
          -10.830831527709961,
          -11.312213897705078,
          -9.881649017333984,
          -7.742503643035889,
          -10.954290390014648,
          -10.71914005279541,
          -0.5209925174713135,
          -10.464911460876465,
          -0.2810715138912201,
          -11.417359352111816,
          -11.058533668518066,
          -9.71757984161377,
          11.021014213562012
         ],
         "z": [
          7.034523963928223,
          8.256756782531738,
          6.739200592041016,
          -4.651747703552246,
          7.179448127746582,
          -3.4699981212615967,
          4.758288383483887,
          -3.5996923446655273,
          -3.4435904026031494,
          -3.252908945083618,
          0.6669187545776367,
          0.7070834040641785,
          5.050308704376221,
          -0.17826257646083832,
          -1.9026029109954834,
          -2.254298686981201,
          -0.7649581432342529,
          0.9056012034416199,
          8.252809524536133,
          -2.319291114807129,
          -1.2645068168640137,
          -3.8460845947265625,
          -1.5238800048828125,
          8.549662590026855,
          7.151337146759033,
          2.946545124053955,
          -2.6337530612945557,
          4.828598976135254,
          0.277761310338974,
          3.132953405380249,
          5.270994186401367,
          -4.0760064125061035,
          2.4212350845336914,
          6.806698322296143,
          1.0812233686447144,
          1.8624944686889648,
          -2.689861536026001,
          0.8164580464363098,
          0.09406272321939468,
          -3.1399459838867188,
          -3.4892728328704834,
          -4.678360939025879,
          5.3868794441223145,
          -3.7417240142822266,
          -3.415079116821289,
          4.922041416168213,
          -3.686920404434204,
          -3.4986841678619385,
          -3.143040180206299,
          -2.327609062194824,
          -3.0291197299957275,
          -0.29314708709716797,
          -2.55635666847229,
          4.126574516296387,
          -1.0735371112823486,
          -3.4603307247161865,
          7.699557781219482,
          -2.0497350692749023,
          -0.33554646372795105,
          -4.2462897300720215,
          -2.9415524005889893,
          -3.739783525466919,
          -2.3640248775482178,
          -4.066458702087402,
          -3.9745774269104004,
          -2.2003092765808105,
          -3.7736780643463135,
          -2.7227611541748047,
          -4.135356903076172,
          0.18206781148910522,
          35.450927734375,
          -4.210771560668945,
          3.9299275875091553,
          -3.5745646953582764,
          -2.7641351222991943,
          1.0672428607940674,
          0.6067817211151123,
          4.204944610595703,
          6.889485836029053,
          -1.4127397537231445,
          -4.280910015106201,
          -0.6273991465568542,
          9.1389741897583,
          5.020289421081543,
          -3.1973013877868652,
          4.939047813415527,
          -2.280338764190674,
          5.2354326248168945,
          -2.168222665786743,
          -1.8900319337844849,
          -1.8929541110992432,
          -0.7308514714241028,
          -3.8546736240386963,
          -2.2949538230895996,
          -1.2573392391204834,
          7.396810531616211,
          -1.3986256122589111,
          -3.673396110534668,
          -3.7030677795410156,
          -2.7177398204803467,
          -3.550435781478882,
          -2.9473533630371094,
          -1.6331872940063477,
          -3.640207529067993,
          -3.2502901554107666,
          -3.929328203201294,
          -3.898797035217285,
          -1.1253741979599,
          8.84264850616455,
          -4.269404888153076,
          -3.736252784729004,
          -0.24119654297828674,
          -0.909624457359314,
          -2.820380449295044,
          -4.166766166687012,
          -3.4562437534332275,
          -3.7696917057037354,
          -0.9840913414955139,
          0.7001440525054932,
          3.4394521713256836,
          -4.09436559677124,
          4.86620569229126,
          9.26699161529541,
          -1.4665777683258057,
          -0.05831489339470863,
          -2.2035558223724365,
          -3.7503178119659424,
          5.553613185882568,
          -0.8979033827781677,
          6.287718772888184,
          -2.0245020389556885,
          0.09137525409460068,
          0.9218688011169434,
          -0.48962274193763733,
          5.073940277099609,
          -2.123084545135498,
          -4.324082374572754,
          -2.3362858295440674,
          -2.3378264904022217,
          -2.6878128051757812,
          -3.833393096923828,
          1.0260276794433594,
          -3.74438738822937,
          -1.8450450897216797,
          -3.453524112701416,
          -2.5477633476257324,
          -3.633563995361328,
          -1.0959829092025757,
          -1.7333831787109375,
          -2.3035151958465576,
          -0.39793217182159424,
          -3.866899251937866,
          -3.3559160232543945,
          -2.888495683670044,
          -1.7349120378494263,
          -2.204155445098877,
          3.2379510402679443,
          1.0724177360534668,
          -1.992914080619812,
          -3.937471866607666,
          -4.515888690948486,
          5.6432576179504395,
          8.011470794677734,
          90.9565658569336,
          9.065436363220215,
          -0.9553297162055969,
          -3.0849568843841553,
          2.0891358852386475,
          4.2174201011657715,
          -1.1182409524917603,
          -1.6017080545425415,
          -2.993877649307251,
          -0.32706817984580994,
          -2.514648199081421,
          -3.084645986557007,
          -3.852328300476074,
          -3.826639413833618,
          0.5692685842514038,
          -0.017845463007688522,
          0.19628840684890747,
          8.700013160705566,
          8.343475341796875,
          0.5755018591880798,
          -2.6250159740448,
          -79.90203857421875,
          -3.9537007808685303,
          4.130627155303955,
          -3.4971084594726562,
          -2.080106735229492,
          -1.4931285381317139,
          -2.4404489994049072,
          -0.8380090594291687,
          -3.4504354000091553,
          -3.5863277912139893,
          -1.466749668121338,
          -0.14888562262058258,
          -3.495069980621338,
          3.9681642055511475,
          6.0861968994140625,
          -1.6909040212631226,
          -3.109818458557129,
          2.9394114017486572,
          9.225567817687988,
          -1.2818002700805664,
          -2.8740487098693848,
          -1.2104181051254272,
          -3.479119062423706,
          2.3445982933044434,
          -0.9782826900482178,
          -1.1510365009307861,
          7.404911518096924,
          -3.529320478439331,
          9.294300079345703,
          1.4124881029129028,
          -3.240297794342041,
          -2.8863461017608643,
          92.97041320800781,
          -3.5548489093780518,
          7.951963424682617,
          8.22939682006836,
          -1.9481000900268555,
          -1.4910967350006104,
          -3.4872820377349854,
          -0.07106079906225204,
          -2.658541202545166,
          -2.8221805095672607,
          -3.3173859119415283,
          -1.381734848022461,
          -1.9734238386154175,
          -3.0930941104888916,
          2.213426113128662,
          -1.9451971054077148,
          -2.4810543060302734,
          8.083869934082031,
          -3.8497745990753174,
          -1.5553818941116333,
          8.695760726928711,
          7.730536937713623,
          -2.1911113262176514,
          2.851740837097168,
          -1.0574551820755005,
          -0.7205278277397156,
          -3.0735597610473633,
          -1.8172597885131836,
          5.434438705444336,
          -3.215534210205078,
          0.39149507880210876,
          -1.9029890298843384,
          -3.863346815109253,
          -3.128082752227783,
          8.603013038635254,
          -3.570155143737793,
          7.560356616973877,
          2.68989896774292,
          7.480321884155273,
          -3.4513590335845947,
          7.548140048980713,
          -1.5334362983703613,
          0.29371020197868347,
          -0.5597141981124878,
          7.8391571044921875,
          2.7715179920196533,
          2.959076404571533,
          -0.507948100566864,
          3.0023627281188965,
          8.287555694580078,
          -3.4183239936828613,
          -0.7239289879798889,
          -0.20387890934944153,
          -3.20135760307312,
          -0.30613937973976135,
          -2.9593398571014404,
          8.787052154541016,
          -3.7872800827026367,
          3.5841991901397705,
          -1.4676196575164795,
          -2.5576164722442627,
          4.682149887084961,
          -2.859259843826294,
          -0.33835047483444214,
          6.104585647583008,
          -4.271602630615234,
          5.9347639083862305,
          0.3364015221595764,
          0.03507199138402939,
          -0.4866238534450531,
          -3.011873483657837,
          0.5323013663291931,
          -2.379765510559082,
          -2.3832662105560303,
          -0.4501611888408661,
          -1.319225788116455,
          0.19035561382770538,
          -2.623964309692383,
          -0.15913636982440948,
          -0.15553633868694305,
          -2.600999355316162,
          -4.633082866668701,
          -2.911722421646118,
          -2.658219814300537,
          7.8869853019714355,
          -0.845059871673584,
          7.056166648864746,
          -2.96915602684021,
          -3.152973175048828,
          -2.1197152137756348,
          -0.6593554019927979,
          -3.6245973110198975,
          -1.735353708267212,
          -1.8143466711044312,
          -2.269636869430542,
          -2.2473490238189697,
          -1.3582037687301636,
          -2.1605024337768555,
          -3.502028465270996,
          -0.45107847452163696,
          -0.992590069770813,
          4.129417896270752,
          -3.8472864627838135,
          -0.34060508012771606,
          -3.3143603801727295,
          7.367463111877441,
          -0.5795937180519104,
          8.015348434448242,
          -2.826223850250244,
          -0.6131560206413269,
          -2.0178334712982178,
          -2.002246856689453,
          0.7326350808143616,
          0.5367465019226074,
          0.29542994499206543,
          -1.518538236618042,
          -2.381293773651123,
          -3.707423686981201,
          -1.2588294744491577,
          2.6971161365509033,
          0.4415426552295685,
          6.439059734344482,
          -3.7179219722747803,
          8.7920503616333,
          -2.796443223953247,
          -3.9485864639282227,
          -2.9953436851501465,
          6.159250259399414,
          -3.379420757293701,
          -2.760075569152832,
          -3.0048255920410156,
          -2.3033699989318848,
          -2.6428329944610596,
          -2.35783314704895,
          -4.043331623077393,
          -0.5933197736740112,
          8.618875503540039,
          -0.9450021982192993,
          -3.089769124984741,
          -0.20264236629009247,
          -0.10467145591974258,
          -1.047721028327942,
          -4.409481525421143,
          -4.239047050476074,
          -0.9210188388824463,
          0.11122814565896988,
          -0.44863995909690857,
          0.6688596606254578,
          -0.8931102156639099,
          7.691145420074463,
          6.925708770751953,
          -3.077385425567627,
          8.455678939819336,
          8.831497192382812,
          1.2927991151809692,
          -0.8332104682922363,
          7.44106388092041,
          8.302535057067871,
          -0.5187416076660156,
          -0.13494384288787842,
          -2.586440086364746,
          -1.643611192703247,
          -0.13043294847011566,
          -4.67851448059082,
          -3.442902088165283,
          -3.149991273880005,
          -1.3766170740127563,
          -2.881920576095581,
          -0.15907686948776245,
          -1.1070901155471802,
          -1.1579564809799194,
          -2.4247875213623047,
          -2.5920183658599854,
          5.285289764404297,
          -3.600053310394287,
          -4.368762969970703,
          0.5069929361343384,
          8.67258358001709,
          -2.933753728866577,
          -0.4101153016090393,
          -1.2542914152145386,
          -0.5047571063041687,
          -4.129636287689209,
          -3.6996376514434814,
          3.5113096237182617,
          -3.4066073894500732,
          54.53501510620117,
          0.1529071033000946,
          -0.6796799302101135,
          -3.8993306159973145,
          0.12785470485687256,
          -1.4746813774108887,
          3.513288736343384,
          -2.908860921859741,
          -4.346928596496582,
          -3.691390037536621,
          -3.4162633419036865,
          -1.7384154796600342,
          -1.3799799680709839,
          -2.7331044673919678,
          -3.973478317260742,
          3.5697381496429443,
          -0.21708142757415771,
          -3.002509593963623,
          -3.960301399230957,
          -1.7222002744674683,
          -2.45804762840271,
          -2.1617069244384766,
          -3.6325454711914062,
          -3.812528610229492,
          -3.7972209453582764,
          -4.44527006149292,
          -2.5249133110046387,
          -0.5013601779937744,
          -1.6125491857528687,
          -0.7836898565292358,
          6.387339115142822,
          5.31569766998291,
          -1.1861767768859863,
          -3.502788543701172,
          -1.3668183088302612,
          -2.1756432056427,
          -2.591522216796875,
          -0.5712565779685974,
          -3.9295501708984375,
          2.6452457904815674,
          -1.703048586845398,
          -2.6741278171539307,
          3.4393653869628906,
          -2.1450040340423584,
          3.525801420211792,
          -1.8796792030334473,
          -2.375548839569092,
          8.569486618041992,
          -2.4126393795013428,
          5.700165748596191,
          -2.3670196533203125,
          -1.4394017457962036,
          -2.30399489402771,
          -2.94687557220459,
          -3.9693565368652344,
          -0.3234059810638428,
          -0.8203684091567993,
          -3.2741379737854004,
          3.8887100219726562,
          8.324830055236816,
          -1.1826612949371338,
          -2.9179978370666504,
          -2.074103832244873,
          -3.293565034866333,
          -2.199955463409424,
          -4.135015487670898,
          3.4957070350646973,
          -4.221658706665039,
          -4.120690822601318,
          -2.299070119857788,
          -1.9486018419265747,
          -1.5463435649871826,
          -3.2188773155212402,
          -0.7043693661689758,
          -3.209118604660034,
          -1.7314276695251465,
          -2.3284499645233154,
          0.3073839843273163,
          -1.9913989305496216,
          -3.463662624359131,
          -0.9173820614814758,
          -1.3793295621871948,
          -0.48442384600639343,
          -1.6629729270935059,
          -2.2116634845733643,
          6.463710308074951,
          -4.13171911239624,
          1.011664628982544,
          -2.946077346801758,
          3.540184736251831,
          3.7945353984832764,
          -0.42975154519081116,
          -0.8170573115348816,
          -1.1329060792922974,
          -2.4829745292663574,
          -2.421731472015381,
          -19.979658126831055,
          7.837014675140381,
          -1.7879202365875244,
          -3.2101073265075684,
          -0.8287599682807922,
          8.841901779174805,
          -4.257761478424072,
          -3.98337721824646,
          -1.4634071588516235,
          -2.7163949012756348,
          0.31746426224708557,
          -1.0696938037872314,
          -1.9202556610107422,
          -1.0564571619033813,
          -3.8312456607818604,
          -2.4948065280914307,
          -1.5714969635009766,
          -3.1785175800323486,
          4.428482532501221,
          6.669351577758789,
          -2.7705490589141846,
          -1.9445775747299194,
          -4.214783191680908,
          9.070371627807617,
          -2.2389094829559326,
          -2.0645573139190674,
          -4.090902805328369,
          -4.244160175323486,
          -2.911475896835327,
          -1.7886933088302612,
          0.28129664063453674,
          -2.7625081539154053,
          -4.181971549987793,
          -3.889676332473755,
          -3.2398393154144287,
          7.452375888824463,
          -2.647223949432373,
          7.86004638671875,
          -1.2896475791931152,
          -2.741420030593872,
          -3.5568573474884033,
          -3.2386081218719482,
          -2.341909408569336,
          -2.313147783279419,
          -2.110952615737915,
          -0.1516827791929245,
          -1.1211217641830444,
          -2.7724246978759766,
          -3.3415818214416504,
          -2.9756336212158203,
          -3.93342924118042,
          -4.69219970703125,
          -2.8578267097473145,
          -2.578319549560547,
          -0.14383871853351593,
          -3.6248795986175537,
          -0.0030411966145038605,
          -3.069769859313965,
          -3.060023784637451,
          -3.6644296646118164,
          -1.0736321210861206
         ]
        }
       ],
       "layout": {
        "coloraxis": {
         "colorbar": {
          "title": {
           "text": "Anomaly"
          }
         },
         "colorscale": [
          [
           0,
           "#0d0887"
          ],
          [
           0.1111111111111111,
           "#46039f"
          ],
          [
           0.2222222222222222,
           "#7201a8"
          ],
          [
           0.3333333333333333,
           "#9c179e"
          ],
          [
           0.4444444444444444,
           "#bd3786"
          ],
          [
           0.5555555555555556,
           "#d8576b"
          ],
          [
           0.6666666666666666,
           "#ed7953"
          ],
          [
           0.7777777777777778,
           "#fb9f3a"
          ],
          [
           0.8888888888888888,
           "#fdca26"
          ],
          [
           1,
           "#f0f921"
          ]
         ]
        },
        "height": 800,
        "legend": {
         "tracegroupgap": 0
        },
        "scene": {
         "domain": {
          "x": [
           0,
           1
          ],
          "y": [
           0,
           1
          ]
         },
         "xaxis": {
          "title": {
           "text": "0"
          }
         },
         "yaxis": {
          "title": {
           "text": "1"
          }
         },
         "zaxis": {
          "title": {
           "text": "2"
          }
         }
        },
        "template": {
         "data": {
          "bar": [
           {
            "error_x": {
             "color": "#2a3f5f"
            },
            "error_y": {
             "color": "#2a3f5f"
            },
            "marker": {
             "line": {
              "color": "#E5ECF6",
              "width": 0.5
             }
            },
            "type": "bar"
           }
          ],
          "barpolar": [
           {
            "marker": {
             "line": {
              "color": "#E5ECF6",
              "width": 0.5
             }
            },
            "type": "barpolar"
           }
          ],
          "carpet": [
           {
            "aaxis": {
             "endlinecolor": "#2a3f5f",
             "gridcolor": "white",
             "linecolor": "white",
             "minorgridcolor": "white",
             "startlinecolor": "#2a3f5f"
            },
            "baxis": {
             "endlinecolor": "#2a3f5f",
             "gridcolor": "white",
             "linecolor": "white",
             "minorgridcolor": "white",
             "startlinecolor": "#2a3f5f"
            },
            "type": "carpet"
           }
          ],
          "choropleth": [
           {
            "colorbar": {
             "outlinewidth": 0,
             "ticks": ""
            },
            "type": "choropleth"
           }
          ],
          "contour": [
           {
            "colorbar": {
             "outlinewidth": 0,
             "ticks": ""
            },
            "colorscale": [
             [
              0,
              "#0d0887"
             ],
             [
              0.1111111111111111,
              "#46039f"
             ],
             [
              0.2222222222222222,
              "#7201a8"
             ],
             [
              0.3333333333333333,
              "#9c179e"
             ],
             [
              0.4444444444444444,
              "#bd3786"
             ],
             [
              0.5555555555555556,
              "#d8576b"
             ],
             [
              0.6666666666666666,
              "#ed7953"
             ],
             [
              0.7777777777777778,
              "#fb9f3a"
             ],
             [
              0.8888888888888888,
              "#fdca26"
             ],
             [
              1,
              "#f0f921"
             ]
            ],
            "type": "contour"
           }
          ],
          "contourcarpet": [
           {
            "colorbar": {
             "outlinewidth": 0,
             "ticks": ""
            },
            "type": "contourcarpet"
           }
          ],
          "heatmap": [
           {
            "colorbar": {
             "outlinewidth": 0,
             "ticks": ""
            },
            "colorscale": [
             [
              0,
              "#0d0887"
             ],
             [
              0.1111111111111111,
              "#46039f"
             ],
             [
              0.2222222222222222,
              "#7201a8"
             ],
             [
              0.3333333333333333,
              "#9c179e"
             ],
             [
              0.4444444444444444,
              "#bd3786"
             ],
             [
              0.5555555555555556,
              "#d8576b"
             ],
             [
              0.6666666666666666,
              "#ed7953"
             ],
             [
              0.7777777777777778,
              "#fb9f3a"
             ],
             [
              0.8888888888888888,
              "#fdca26"
             ],
             [
              1,
              "#f0f921"
             ]
            ],
            "type": "heatmap"
           }
          ],
          "heatmapgl": [
           {
            "colorbar": {
             "outlinewidth": 0,
             "ticks": ""
            },
            "colorscale": [
             [
              0,
              "#0d0887"
             ],
             [
              0.1111111111111111,
              "#46039f"
             ],
             [
              0.2222222222222222,
              "#7201a8"
             ],
             [
              0.3333333333333333,
              "#9c179e"
             ],
             [
              0.4444444444444444,
              "#bd3786"
             ],
             [
              0.5555555555555556,
              "#d8576b"
             ],
             [
              0.6666666666666666,
              "#ed7953"
             ],
             [
              0.7777777777777778,
              "#fb9f3a"
             ],
             [
              0.8888888888888888,
              "#fdca26"
             ],
             [
              1,
              "#f0f921"
             ]
            ],
            "type": "heatmapgl"
           }
          ],
          "histogram": [
           {
            "marker": {
             "colorbar": {
              "outlinewidth": 0,
              "ticks": ""
             }
            },
            "type": "histogram"
           }
          ],
          "histogram2d": [
           {
            "colorbar": {
             "outlinewidth": 0,
             "ticks": ""
            },
            "colorscale": [
             [
              0,
              "#0d0887"
             ],
             [
              0.1111111111111111,
              "#46039f"
             ],
             [
              0.2222222222222222,
              "#7201a8"
             ],
             [
              0.3333333333333333,
              "#9c179e"
             ],
             [
              0.4444444444444444,
              "#bd3786"
             ],
             [
              0.5555555555555556,
              "#d8576b"
             ],
             [
              0.6666666666666666,
              "#ed7953"
             ],
             [
              0.7777777777777778,
              "#fb9f3a"
             ],
             [
              0.8888888888888888,
              "#fdca26"
             ],
             [
              1,
              "#f0f921"
             ]
            ],
            "type": "histogram2d"
           }
          ],
          "histogram2dcontour": [
           {
            "colorbar": {
             "outlinewidth": 0,
             "ticks": ""
            },
            "colorscale": [
             [
              0,
              "#0d0887"
             ],
             [
              0.1111111111111111,
              "#46039f"
             ],
             [
              0.2222222222222222,
              "#7201a8"
             ],
             [
              0.3333333333333333,
              "#9c179e"
             ],
             [
              0.4444444444444444,
              "#bd3786"
             ],
             [
              0.5555555555555556,
              "#d8576b"
             ],
             [
              0.6666666666666666,
              "#ed7953"
             ],
             [
              0.7777777777777778,
              "#fb9f3a"
             ],
             [
              0.8888888888888888,
              "#fdca26"
             ],
             [
              1,
              "#f0f921"
             ]
            ],
            "type": "histogram2dcontour"
           }
          ],
          "mesh3d": [
           {
            "colorbar": {
             "outlinewidth": 0,
             "ticks": ""
            },
            "type": "mesh3d"
           }
          ],
          "parcoords": [
           {
            "line": {
             "colorbar": {
              "outlinewidth": 0,
              "ticks": ""
             }
            },
            "type": "parcoords"
           }
          ],
          "pie": [
           {
            "automargin": true,
            "type": "pie"
           }
          ],
          "scatter": [
           {
            "marker": {
             "colorbar": {
              "outlinewidth": 0,
              "ticks": ""
             }
            },
            "type": "scatter"
           }
          ],
          "scatter3d": [
           {
            "line": {
             "colorbar": {
              "outlinewidth": 0,
              "ticks": ""
             }
            },
            "marker": {
             "colorbar": {
              "outlinewidth": 0,
              "ticks": ""
             }
            },
            "type": "scatter3d"
           }
          ],
          "scattercarpet": [
           {
            "marker": {
             "colorbar": {
              "outlinewidth": 0,
              "ticks": ""
             }
            },
            "type": "scattercarpet"
           }
          ],
          "scattergeo": [
           {
            "marker": {
             "colorbar": {
              "outlinewidth": 0,
              "ticks": ""
             }
            },
            "type": "scattergeo"
           }
          ],
          "scattergl": [
           {
            "marker": {
             "colorbar": {
              "outlinewidth": 0,
              "ticks": ""
             }
            },
            "type": "scattergl"
           }
          ],
          "scattermapbox": [
           {
            "marker": {
             "colorbar": {
              "outlinewidth": 0,
              "ticks": ""
             }
            },
            "type": "scattermapbox"
           }
          ],
          "scatterpolar": [
           {
            "marker": {
             "colorbar": {
              "outlinewidth": 0,
              "ticks": ""
             }
            },
            "type": "scatterpolar"
           }
          ],
          "scatterpolargl": [
           {
            "marker": {
             "colorbar": {
              "outlinewidth": 0,
              "ticks": ""
             }
            },
            "type": "scatterpolargl"
           }
          ],
          "scatterternary": [
           {
            "marker": {
             "colorbar": {
              "outlinewidth": 0,
              "ticks": ""
             }
            },
            "type": "scatterternary"
           }
          ],
          "surface": [
           {
            "colorbar": {
             "outlinewidth": 0,
             "ticks": ""
            },
            "colorscale": [
             [
              0,
              "#0d0887"
             ],
             [
              0.1111111111111111,
              "#46039f"
             ],
             [
              0.2222222222222222,
              "#7201a8"
             ],
             [
              0.3333333333333333,
              "#9c179e"
             ],
             [
              0.4444444444444444,
              "#bd3786"
             ],
             [
              0.5555555555555556,
              "#d8576b"
             ],
             [
              0.6666666666666666,
              "#ed7953"
             ],
             [
              0.7777777777777778,
              "#fb9f3a"
             ],
             [
              0.8888888888888888,
              "#fdca26"
             ],
             [
              1,
              "#f0f921"
             ]
            ],
            "type": "surface"
           }
          ],
          "table": [
           {
            "cells": {
             "fill": {
              "color": "#EBF0F8"
             },
             "line": {
              "color": "white"
             }
            },
            "header": {
             "fill": {
              "color": "#C8D4E3"
             },
             "line": {
              "color": "white"
             }
            },
            "type": "table"
           }
          ]
         },
         "layout": {
          "annotationdefaults": {
           "arrowcolor": "#2a3f5f",
           "arrowhead": 0,
           "arrowwidth": 1
          },
          "coloraxis": {
           "colorbar": {
            "outlinewidth": 0,
            "ticks": ""
           }
          },
          "colorscale": {
           "diverging": [
            [
             0,
             "#8e0152"
            ],
            [
             0.1,
             "#c51b7d"
            ],
            [
             0.2,
             "#de77ae"
            ],
            [
             0.3,
             "#f1b6da"
            ],
            [
             0.4,
             "#fde0ef"
            ],
            [
             0.5,
             "#f7f7f7"
            ],
            [
             0.6,
             "#e6f5d0"
            ],
            [
             0.7,
             "#b8e186"
            ],
            [
             0.8,
             "#7fbc41"
            ],
            [
             0.9,
             "#4d9221"
            ],
            [
             1,
             "#276419"
            ]
           ],
           "sequential": [
            [
             0,
             "#0d0887"
            ],
            [
             0.1111111111111111,
             "#46039f"
            ],
            [
             0.2222222222222222,
             "#7201a8"
            ],
            [
             0.3333333333333333,
             "#9c179e"
            ],
            [
             0.4444444444444444,
             "#bd3786"
            ],
            [
             0.5555555555555556,
             "#d8576b"
            ],
            [
             0.6666666666666666,
             "#ed7953"
            ],
            [
             0.7777777777777778,
             "#fb9f3a"
            ],
            [
             0.8888888888888888,
             "#fdca26"
            ],
            [
             1,
             "#f0f921"
            ]
           ],
           "sequentialminus": [
            [
             0,
             "#0d0887"
            ],
            [
             0.1111111111111111,
             "#46039f"
            ],
            [
             0.2222222222222222,
             "#7201a8"
            ],
            [
             0.3333333333333333,
             "#9c179e"
            ],
            [
             0.4444444444444444,
             "#bd3786"
            ],
            [
             0.5555555555555556,
             "#d8576b"
            ],
            [
             0.6666666666666666,
             "#ed7953"
            ],
            [
             0.7777777777777778,
             "#fb9f3a"
            ],
            [
             0.8888888888888888,
             "#fdca26"
            ],
            [
             1,
             "#f0f921"
            ]
           ]
          },
          "colorway": [
           "#636efa",
           "#EF553B",
           "#00cc96",
           "#ab63fa",
           "#FFA15A",
           "#19d3f3",
           "#FF6692",
           "#B6E880",
           "#FF97FF",
           "#FECB52"
          ],
          "font": {
           "color": "#2a3f5f"
          },
          "geo": {
           "bgcolor": "white",
           "lakecolor": "white",
           "landcolor": "#E5ECF6",
           "showlakes": true,
           "showland": true,
           "subunitcolor": "white"
          },
          "hoverlabel": {
           "align": "left"
          },
          "hovermode": "closest",
          "mapbox": {
           "style": "light"
          },
          "paper_bgcolor": "white",
          "plot_bgcolor": "#E5ECF6",
          "polar": {
           "angularaxis": {
            "gridcolor": "white",
            "linecolor": "white",
            "ticks": ""
           },
           "bgcolor": "#E5ECF6",
           "radialaxis": {
            "gridcolor": "white",
            "linecolor": "white",
            "ticks": ""
           }
          },
          "scene": {
           "xaxis": {
            "backgroundcolor": "#E5ECF6",
            "gridcolor": "white",
            "gridwidth": 2,
            "linecolor": "white",
            "showbackground": true,
            "ticks": "",
            "zerolinecolor": "white"
           },
           "yaxis": {
            "backgroundcolor": "#E5ECF6",
            "gridcolor": "white",
            "gridwidth": 2,
            "linecolor": "white",
            "showbackground": true,
            "ticks": "",
            "zerolinecolor": "white"
           },
           "zaxis": {
            "backgroundcolor": "#E5ECF6",
            "gridcolor": "white",
            "gridwidth": 2,
            "linecolor": "white",
            "showbackground": true,
            "ticks": "",
            "zerolinecolor": "white"
           }
          },
          "shapedefaults": {
           "line": {
            "color": "#2a3f5f"
           }
          },
          "ternary": {
           "aaxis": {
            "gridcolor": "white",
            "linecolor": "white",
            "ticks": ""
           },
           "baxis": {
            "gridcolor": "white",
            "linecolor": "white",
            "ticks": ""
           },
           "bgcolor": "#E5ECF6",
           "caxis": {
            "gridcolor": "white",
            "linecolor": "white",
            "ticks": ""
           }
          },
          "title": {
           "x": 0.05
          },
          "xaxis": {
           "automargin": true,
           "gridcolor": "white",
           "linecolor": "white",
           "ticks": "",
           "title": {
            "standoff": 15
           },
           "zerolinecolor": "white",
           "zerolinewidth": 2
          },
          "yaxis": {
           "automargin": true,
           "gridcolor": "white",
           "linecolor": "white",
           "ticks": "",
           "title": {
            "standoff": 15
           },
           "zerolinecolor": "white",
           "zerolinewidth": 2
          }
         }
        },
        "title": {
         "text": "3d TSNE Plot for Outliers"
        },
        "width": 900
       }
      },
      "text/html": [
       "<div>                            <div id=\"109eebf9-2cef-4e48-917c-a0f1054a8be3\" class=\"plotly-graph-div\" style=\"height:800px; width:900px;\"></div>            <script type=\"text/javascript\">                require([\"plotly\"], function(Plotly) {                    window.PLOTLYENV=window.PLOTLYENV || {};                                    if (document.getElementById(\"109eebf9-2cef-4e48-917c-a0f1054a8be3\")) {                    Plotly.newPlot(                        \"109eebf9-2cef-4e48-917c-a0f1054a8be3\",                        [{\"customdata\": [[17.99], [20.57], [19.69], [11.42], [20.29], [12.45], [18.25], [13.71], [13.0], [12.46], [16.02], [15.78], [19.17], [15.85], [13.73], [14.54], [14.68], [16.13], [19.81], [13.54], [13.08], [9.504], [15.34], [21.16], [16.65], [17.14], [14.58], [18.61], [15.3], [17.57], [18.63], [11.84], [17.02], [19.27], [16.13], [16.74], [14.25], [13.03], [14.99], [13.48], [13.44], [10.95], [19.07], [13.28], [13.17], [18.65], [8.196], [13.17], [12.05], [13.49], [11.76], [13.64], [11.94], [18.22], [15.1], [11.52], [19.21], [14.71], [13.05], [8.618], [10.17], [8.598], [14.25], [9.173], [12.68], [14.78], [9.465], [11.31], [9.029], [12.78], [18.94], [8.888], [17.2], [13.8], [12.31], [16.07], [13.53], [18.05], [20.18], [12.86], [11.45], [13.34], [25.22], [19.1], [12.0], [18.46], [14.48], [19.02], [12.36], [14.64], [14.62], [15.37], [13.27], [13.45], [15.06], [20.26], [12.18], [9.787], [11.6], [14.42], [13.61], [6.981], [12.18], [9.876], [10.49], [13.11], [11.64], [12.36], [22.27], [11.34], [9.777], [12.63], [14.26], [10.51], [8.726], [11.93], [8.95], [14.87], [15.78], [17.95], [11.41], [18.66], [24.25], [14.5], [13.37], [13.85], [13.61], [19.0], [15.1], [19.79], [12.19], [15.46], [16.16], [15.71], [18.45], [12.77], [11.71], [11.43], [14.95], [11.28], [9.738], [16.11], [11.43], [12.9], [10.75], [11.9], [11.8], [14.95], [14.44], [13.74], [13.0], [8.219], [9.731], [11.15], [13.15], [12.25], [17.68], [16.84], [12.06], [10.9], [11.75], [19.19], [19.59], [12.34], [23.27], [14.97], [10.8], [16.78], [17.47], [14.97], [12.32], [13.43], [15.46], [11.08], [10.66], [8.671], [9.904], [16.46], [13.01], [12.81], [27.22], [21.09], [15.7], [11.41], [15.28], [10.08], [18.31], [11.71], [11.81], [12.3], [14.22], [12.77], [9.72], [12.34], [14.86], [12.91], [13.77], [18.08], [19.18], [14.45], [12.23], [17.54], [23.29], [13.81], [12.47], [15.12], [9.876], [17.01], [13.11], [15.27], [20.58], [11.84], [28.11], [17.42], [14.19], [13.86], [11.89], [10.2], [19.8], [19.53], [13.65], [13.56], [10.18], [15.75], [13.27], [14.34], [10.44], [15.0], [12.62], [12.83], [17.05], [11.32], [11.22], [20.51], [9.567], [14.03], [23.21], [20.48], [14.22], [17.46], [13.64], [12.42], [11.3], [13.75], [19.4], [10.48], [13.2], [12.89], [10.65], [11.52], [20.94], [11.5], [19.73], [17.3], [19.45], [13.96], [19.55], [15.32], [15.66], [15.53], [20.31], [17.35], [17.29], [15.61], [17.19], [20.73], [10.6], [13.59], [12.87], [10.71], [14.29], [11.29], [21.75], [9.742], [17.93], [11.89], [11.33], [18.81], [13.59], [13.85], [19.16], [11.74], [19.4], [16.24], [12.89], [12.58], [11.94], [12.89], [11.26], [11.37], [14.41], [14.96], [12.95], [11.85], [12.72], [13.77], [10.91], [11.76], [14.26], [10.51], [19.53], [12.46], [20.09], [10.49], [11.46], [11.6], [13.2], [9.0], [13.5], [13.05], [11.7], [14.61], [12.76], [11.54], [8.597], [12.49], [12.18], [18.22], [9.042], [12.43], [10.25], [20.16], [12.86], [20.34], [12.2], [12.67], [14.11], [12.03], [16.27], [16.26], [16.03], [12.98], [11.22], [11.25], [12.3], [17.06], [12.99], [18.77], [10.05], [23.51], [14.42], [9.606], [11.06], [19.68], [11.71], [10.26], [12.06], [14.76], [11.47], [11.95], [11.66], [15.75], [25.73], [15.08], [11.14], [12.56], [13.05], [13.87], [8.878], [9.436], [12.54], [13.3], [12.76], [16.5], [13.4], [20.44], [20.2], [12.21], [21.71], [22.01], [16.35], [15.19], [21.37], [20.64], [13.69], [16.17], [10.57], [13.46], [13.66], [11.08], [11.27], [11.04], [12.05], [12.39], [13.28], [14.6], [12.21], [13.88], [11.27], [19.55], [10.26], [8.734], [15.49], [21.61], [12.1], [14.06], [13.51], [12.8], [11.06], [11.8], [17.91], [11.93], [12.96], [12.94], [12.34], [10.94], [16.14], [12.85], [17.99], [12.27], [11.36], [11.04], [9.397], [14.99], [15.13], [11.89], [9.405], [15.5], [12.7], [11.16], [11.57], [14.69], [11.61], [13.66], [9.742], [10.03], [10.48], [10.8], [11.13], [12.72], [14.9], [12.4], [20.18], [18.82], [14.86], [13.98], [12.87], [14.04], [13.85], [14.02], [10.97], [17.27], [13.78], [10.57], [18.03], [11.99], [17.75], [14.8], [14.53], [21.1], [11.87], [19.59], [12.0], [14.53], [12.62], [13.38], [11.63], [13.21], [13.0], [9.755], [17.08], [27.42], [14.4], [11.6], [13.17], [13.24], [13.14], [9.668], [17.6], [11.62], [9.667], [12.04], [14.92], [12.27], [10.88], [12.83], [14.2], [13.9], [11.49], [16.25], [12.16], [13.9], [13.47], [13.7], [15.73], [12.45], [14.64], [19.44], [11.68], [16.69], [12.25], [17.85], [18.01], [12.46], [13.16], [14.87], [12.65], [12.47], [18.49], [20.59], [15.04], [13.82], [12.54], [23.09], [9.268], [9.676], [12.22], [11.06], [16.3], [15.46], [11.74], [14.81], [13.4], [14.58], [15.05], [11.34], [18.31], [19.89], [12.88], [12.75], [9.295], [24.63], [11.26], [13.71], [9.847], [8.571], [13.46], [12.34], [13.94], [12.07], [11.75], [11.67], [13.68], [20.47], [10.96], [20.55], [14.27], [11.69], [7.729], [7.691], [11.54], [14.47], [14.74], [13.21], [13.87], [13.62], [10.32], [10.26], [9.683], [10.82], [10.86], [11.13], [12.77], [9.333], [12.88], [10.29], [10.16], [9.423], [14.59]], \"hovertemplate\": \"0=%{x}<br>1=%{y}<br>2=%{z}<br>Feature=%{customdata[0]}<br>Anomaly=%{marker.color}<extra></extra>\", \"legendgroup\": \"\", \"marker\": {\"color\": [1, 0, 0, 1, 0, 0, 0, 0, 0, 1, 0, 0, 1, 0, 0, 0, 0, 0, 0, 0, 0, 0, 0, 0, 0, 0, 0, 0, 0, 0, 0, 0, 0, 0, 0, 0, 0, 0, 0, 0, 0, 0, 1, 0, 0, 0, 0, 0, 0, 0, 0, 0, 0, 0, 0, 0, 0, 0, 0, 0, 0, 0, 0, 0, 0, 0, 0, 0, 1, 0, 0, 0, 0, 0, 0, 0, 0, 0, 1, 0, 0, 0, 1, 1, 0, 0, 0, 0, 0, 0, 0, 0, 0, 0, 0, 0, 0, 0, 0, 0, 0, 0, 0, 0, 0, 0, 0, 0, 1, 0, 0, 0, 0, 0, 0, 0, 0, 0, 0, 0, 0, 0, 1, 0, 0, 0, 0, 0, 0, 0, 0, 0, 0, 0, 0, 0, 0, 0, 0, 0, 0, 0, 0, 0, 0, 0, 0, 0, 0, 0, 0, 1, 1, 0, 0, 0, 0, 0, 0, 0, 0, 0, 0, 0, 0, 0, 0, 0, 0, 0, 0, 0, 0, 0, 0, 0, 0, 0, 0, 0, 1, 1, 0, 0, 0, 0, 0, 0, 0, 0, 1, 0, 0, 0, 0, 0, 0, 0, 0, 0, 0, 0, 1, 0, 0, 0, 0, 0, 0, 0, 0, 0, 1, 1, 0, 0, 0, 0, 0, 0, 0, 0, 0, 0, 0, 0, 0, 0, 0, 0, 0, 0, 0, 0, 0, 0, 0, 0, 0, 0, 0, 0, 0, 0, 0, 0, 0, 0, 0, 0, 0, 0, 0, 0, 0, 0, 0, 0, 1, 0, 0, 0, 0, 0, 0, 1, 0, 0, 0, 0, 0, 0, 0, 0, 0, 0, 0, 0, 0, 0, 0, 0, 0, 0, 0, 0, 0, 0, 0, 0, 0, 0, 0, 0, 0, 0, 0, 0, 0, 0, 0, 0, 0, 0, 0, 0, 0, 0, 0, 0, 0, 0, 0, 0, 0, 0, 0, 0, 0, 0, 0, 0, 0, 0, 0, 0, 0, 0, 0, 0, 0, 0, 0, 0, 0, 0, 0, 0, 0, 1, 0, 0, 0, 0, 0, 0, 0, 0, 0, 0, 0, 0, 1, 0, 0, 0, 0, 0, 0, 0, 0, 0, 0, 0, 0, 0, 0, 0, 1, 0, 0, 0, 0, 0, 0, 0, 0, 0, 0, 0, 0, 0, 0, 0, 0, 0, 0, 0, 0, 0, 0, 0, 0, 0, 0, 0, 0, 0, 0, 0, 0, 0, 0, 0, 0, 0, 0, 0, 0, 0, 0, 0, 0, 0, 0, 0, 0, 0, 0, 0, 0, 0, 0, 0, 0, 0, 0, 0, 0, 0, 0, 0, 0, 0, 0, 0, 0, 0, 0, 0, 0, 0, 0, 0, 0, 0, 0, 0, 0, 0, 0, 0, 0, 0, 0, 0, 0, 0, 0, 0, 0, 1, 0, 0, 0, 0, 0, 0, 0, 0, 0, 0, 0, 0, 0, 0, 0, 0, 0, 0, 0, 0, 0, 0, 0, 0, 0, 0, 0, 0, 0, 0, 0, 0, 0, 0, 0, 0, 0, 0, 0, 0, 0, 1, 1, 0, 0, 0, 0, 0, 0, 0, 0, 0, 0, 0, 0, 0, 0, 0, 0, 1, 0, 0, 0, 0, 0, 0, 0, 0, 0, 0, 0, 0, 0, 0, 0, 0, 0, 0, 0, 0, 0, 0, 0, 0, 0, 0, 0, 0, 0, 0, 0, 0, 0, 0, 0, 0, 0], \"coloraxis\": \"coloraxis\", \"opacity\": 0.7, \"symbol\": \"circle\"}, \"mode\": \"markers\", \"name\": \"\", \"scene\": \"scene\", \"showlegend\": false, \"type\": \"scatter3d\", \"x\": [11.682061195373535, 11.513671875, 9.417614936828613, -5.076379299163818, 8.879204750061035, -7.61220645904541, 7.599398136138916, -2.2250170707702637, -7.5021138191223145, -8.031253814697266, 3.444469451904297, 4.356400012969971, 6.5651350021362305, 0.37087807059288025, -9.643989562988281, 0.12476135790348053, 2.6471498012542725, 4.489470958709717, 13.379229545593262, -8.691597938537598, -10.62668228149414, 10.273340225219727, 1.1974190473556519, 14.121131896972656, 12.202020645141602, 6.140614032745361, -0.9856300354003906, 6.767402172088623, 3.9714033603668213, 4.9332404136657715, 8.507129669189453, -3.043346881866455, 5.390416145324707, 10.088892936706543, 4.163611888885498, 4.483929634094238, -4.092751502990723, -10.284663200378418, -5.8763251304626465, -7.4054951667785645, -5.429797649383545, -1.8776698112487793, 8.528395652770996, -2.4096977710723877, -7.460682392120361, 7.655141830444336, 13.128222465515137, -7.0569071769714355, -8.133539199829102, -9.536330223083496, -5.488286018371582, -10.60377025604248, -6.381076335906982, 5.929682731628418, 1.8492106199264526, -3.9685957431793213, 12.23489761352539, 0.7389602661132812, -10.249825477600098, 12.423853874206543, 6.664159774780273, 12.262539863586426, 0.35739266872406006, 10.719630241394043, -2.9224648475646973, -0.06939377635717392, 9.750995635986328, -1.2117723226547241, 10.503682136535645, -9.952877044677734, 22.33439064025879, 11.781538009643555, 7.79241418838501, -4.297449111938477, -8.991713523864746, 4.222304821014404, -11.676225662231445, 7.828857898712158, 9.123727798461914, -10.075974464416504, -4.166666030883789, -10.849523544311523, 14.529370307922363, 6.438326358795166, -7.691451072692871, 8.063149452209473, -3.6429193019866943, 7.90299129486084, -8.53966999053955, -3.7806365489959717, -3.6206986904144287, -1.4868505001068115, -3.891392469406128, -9.300851821899414, 1.7415343523025513, 9.939743995666504, -5.760400295257568, 7.496304988861084, -4.485994338989258, -3.102055549621582, -2.078214406967163, 13.309096336364746, -7.66843318939209, 7.6189656257629395, 4.274662017822266, -3.93198561668396, -4.626350402832031, -8.096925735473633, 13.567397117614746, -3.6698219776153564, 7.551374435424805, -8.298419952392578, -7.7743635177612305, 5.747048377990723, 12.028802871704102, -7.7245635986328125, 12.097822189331055, 2.3200695514678955, 4.267980575561523, 5.346651077270508, -3.9431264400482178, 7.58758020401001, 13.096920013427734, -6.346533298492432, -11.238198280334473, -7.913112640380859, -3.342221736907959, 7.822324752807617, -5.061681270599365, 8.431440353393555, -8.035799980163574, 3.23079252243042, 3.7190463542938232, 0.8630847930908203, 7.706164360046387, -9.502930641174316, -6.237597465515137, -1.3628249168395996, 1.0178592205047607, 0.6995930075645447, 8.81551742553711, 4.239289283752441, -3.2509353160858154, -10.039091110229492, 1.9169700145721436, -5.410645484924316, -7.7905097007751465, -2.9779889583587646, -5.740830421447754, -7.953269004821777, -10.091650009155273, 13.012542724609375, 6.543850421905518, 0.6642235517501831, -9.878776550292969, -8.294153213500977, 5.27771520614624, 2.6523361206054688, -7.237596035003662, -0.16646666824817657, -6.0805816650390625, 7.648801326751709, 12.700665473937988, 139.74256896972656, 13.91321086883545, -4.02643346786499, 2.876075029373169, 4.781965255737305, 7.9256391525268555, -3.631849765777588, -8.582380294799805, -0.6242036819458008, 2.7037737369537354, 3.0997393131256104, 3.5320959091186523, 12.621207237243652, 6.120157718658447, 2.031989574432373, -11.064278602600098, -10.456819534301758, 15.547489166259766, 12.152009010314941, 4.0410003662109375, -1.7924624681472778, 24.894804000854492, 3.499567747116089, 6.517958641052246, -5.169760704040527, -4.252516746520996, -8.359705924987793, -6.156925678253174, -11.489157676696777, 10.367835998535156, -7.34635591506958, -4.1946635246276855, -10.735400199890137, -4.472476005554199, 5.478519439697266, 8.91922664642334, 1.5060909986495972, -8.83568000793457, 5.259219646453857, 12.801658630371094, 2.3678998947143555, -8.622699737548828, 1.4137132167816162, 9.079906463623047, 4.625809669494629, -10.548784255981445, 0.6961398720741272, 9.485224723815918, -6.252230167388916, 14.851859092712402, 2.7802679538726807, -4.083643436431885, -6.927107810974121, 5.954131126403809, 4.75494384765625, 11.575749397277832, 13.546740531921387, -8.790789604187012, -9.630647659301758, 6.363891124725342, 2.714088201522827, -8.829936981201172, -1.626081943511963, 4.879292011260986, -3.0292766094207764, -9.705812454223633, -8.27379035949707, 4.422857284545898, -0.29942962527275085, -0.6185999512672424, 10.977987289428711, 9.315890312194824, -8.237082481384277, 15.100887298583984, 10.110367774963379, -6.00704288482666, 5.894481658935547, -9.848814964294434, -8.8411283493042, -1.263688087463379, -9.051440238952637, 7.139990329742432, 4.218264102935791, -11.401543617248535, -10.287117958068848, 1.6398460865020752, -3.2170138359069824, 11.859634399414062, -3.997084140777588, 11.108007431030273, 4.885383605957031, 11.309885025024414, -3.769151210784912, 11.067838668823242, 0.6118228435516357, 4.407403469085693, 2.1514334678649902, 10.687993049621582, 4.848969459533691, 5.240350723266602, 1.7052019834518433, 6.064587116241455, 15.552234649658203, 3.0049595832824707, -10.549555778503418, -10.69155216217041, 3.621821641921997, -8.880640983581543, -0.5732297897338867, 13.612166404724121, 8.165080070495605, 5.842991352081299, -4.435866355895996, -1.0028103590011597, 6.021310329437256, -7.413724422454834, -10.192687034606934, 9.175084114074707, -6.164453983306885, 8.399090766906738, 2.3970437049865723, -10.649401664733887, -9.674713134765625, -7.051896095275879, -10.570656776428223, 0.14088450372219086, -0.8873431086540222, -5.1625237464904785, -2.964470148086548, -10.66515827178955, -5.90659236907959, -9.611620903015137, -10.468058586120605, 3.499819040298462, -6.723026752471924, -3.4248862266540527, 6.284869194030762, 11.832929611206055, -8.382532119750977, 9.718066215515137, 5.718598365783691, -2.9666519165039062, -3.1698474884033203, -10.9345703125, 11.735039710998535, -9.135758399963379, -9.822609901428223, -3.465627670288086, -2.191457748413086, -10.027583122253418, -2.285210132598877, 12.89284610748291, -8.98585319519043, -7.2442779541015625, 6.851795673370361, 11.388084411621094, -8.005538940429688, 5.284021854400635, 9.23045539855957, -10.432201385498047, 11.154363632202148, -8.409683227539062, -9.923925399780273, -6.674463748931885, -6.70193338394165, 3.276643753051758, 1.967530369758606, 2.718050241470337, -10.155205726623535, 0.653643012046814, -2.299548864364624, -7.965133190155029, 5.598083972930908, -10.563291549682617, 10.717865943908691, 6.072866439819336, 15.076571464538574, -1.913277268409729, 8.506749153137207, 1.1278181076049805, 8.127715110778809, -5.042370319366455, 6.873453140258789, -7.593451499938965, -1.0863479375839233, -2.2169203758239746, -4.69570779800415, -5.913570880889893, 0.765975296497345, 15.526988983154297, 2.1157124042510986, -0.22977879643440247, -9.103514671325684, -10.827777862548828, -9.303702354431152, 11.372480392456055, 4.38440465927124, -10.24726390838623, -11.146007537841797, -10.209318161010742, 2.309176206588745, -10.4452543258667, 10.286712646484375, 9.328763008117676, -8.810494422912598, 15.338885307312012, 13.098922729492188, 3.825263023376465, -2.159867525100708, 8.802743911743164, 11.475682258605957, -10.290831565856934, 0.14859509468078613, 6.5288472175598145, -10.36389446258545, -10.57352066040039, -1.5787208080291748, -1.364269495010376, 0.8336228728294373, -5.4678168296813965, -8.74068546295166, -11.343951225280762, -5.439724922180176, -7.819718360900879, -7.039234161376953, -0.32088062167167664, 6.667481422424316, 5.179144859313965, 11.116204261779785, 4.419877529144287, 12.33130931854248, -7.52343225479126, -9.322366714477539, -10.200468063354492, -10.932168006896973, -1.8526544570922852, -6.8767008781433105, 5.8202033042907715, -8.047497749328613, -52.14167022705078, -10.414113998413086, -8.286240577697754, -0.40979066491127014, 1.4667515754699707, -9.42244815826416, 5.934188365936279, -8.858235359191895, -3.8154959678649902, -0.4703453779220581, 10.848390579223633, -1.1170027256011963, 0.6372079253196716, -6.065313339233398, 8.457136154174805, 7.7754106521606445, -9.975916862487793, -0.09281071275472641, -4.461930751800537, -3.5686075687408447, -2.5448720455169678, -8.886945724487305, 6.80263090133667, 6.621762275695801, 2.8127102851867676, -0.9898454546928406, 1.746108055114746, -10.514022827148438, -2.0880210399627686, -7.541321277618408, 7.977368354797363, 8.26589584350586, -4.529869556427002, -2.6111695766448975, -9.942981719970703, -6.662221431732178, -6.857573986053467, -9.266905784606934, -0.6767647862434387, 5.214478015899658, -8.857157707214355, 5.961876392364502, 5.773143768310547, -6.223228454589844, 6.34207820892334, -2.407602071762085, -2.66186785697937, 12.010700225830078, -5.508823394775391, 7.313433647155762, -6.7162628173828125, -6.150467395782471, -9.555295944213867, -9.428247451782227, -4.63251256942749, -10.666006088256836, -10.227011680603027, 8.40118408203125, 7.7509989738464355, 15.973221778869629, -6.679060459136963, -3.663478374481201, -9.617364883422852, -7.647439479827881, -9.511405944824219, 7.1338701248168945, 6.320903778076172, -4.818282604217529, 6.797606468200684, -6.9178690910339355, -0.2724939286708832, -7.290852069854736, 2.009392261505127, -10.468146324157715, -3.471749782562256, -8.107513427734375, -1.9482492208480835, 1.499352216720581, -7.759399890899658, -3.627056121826172, -10.466151237487793, -9.835841178894043, -0.5212829113006592, -9.348885536193848, -2.497076988220215, 9.454530715942383, -6.072046279907227, 3.025071620941162, -8.92419147491455, 5.219218730926514, 6.408075332641602, -8.519468307495117, -10.507744789123535, -4.119431972503662, -9.356249809265137, -9.258734703063965, -95.6754379272461, 10.238317489624023, -1.4072154760360718, -5.079453945159912, -8.892809867858887, 14.811028480529785, 11.263758659362793, 9.803780555725098, -6.840091228485107, 2.6793301105499268, 1.3603328466415405, 0.43349283933639526, -3.428236961364746, -5.04571533203125, -3.5428717136383057, -1.6549991369247437, 0.9442809224128723, -1.6914708614349365, 7.057653903961182, 8.899951934814453, -8.737281799316406, -9.637508392333984, 10.260005950927734, 14.653175354003906, 0.7928996682167053, -9.27548599243164, 7.062984466552734, 12.422452926635742, -8.317099571228027, -8.888839721679688, -10.55833911895752, -7.5743184089660645, -6.240154266357422, -5.6477203369140625, -6.031922340393066, 9.38330078125, 2.846848726272583, 10.540529251098633, -7.135142803192139, -3.0162456035614014, 13.123799324035645, 13.258477210998535, -1.3114962577819824, -3.46811580657959, -2.697463274002075, -10.634033203125, -9.666229248046875, -7.85301399230957, 5.539444923400879, 6.936524868011475, 7.875671863555908, -1.429398775100708, 2.975926160812378, 1.046204924583435, -11.46274471282959, 11.102333068847656, -11.428672790527344, 6.962601184844971, 7.6712470054626465, 9.746790885925293, -6.451293468475342], \"y\": [-2.284015417098999, -0.6131126880645752, 0.5410231351852417, -4.538141250610352, 2.140068292617798, 4.985691547393799, 0.8219888210296631, 7.990984916687012, 6.005180358886719, 4.476306915283203, 6.8353753089904785, 4.911068439483643, 4.308157920837402, 10.73741340637207, 8.019854545593262, 8.800350189208984, 6.661486625671387, 4.75699520111084, -1.8888109922409058, 7.44948148727417, 2.119018077850342, -10.531417846679688, 8.624115943908691, -1.6637004613876343, -2.4906182289123535, 2.676150321960449, 9.38243293762207, 3.536191940307617, 5.133203983306885, 5.672276020050049, 0.37409043312072754, 6.845670700073242, 4.064324378967285, -0.5144790410995483, 5.318361759185791, 5.8314361572265625, 10.363724708557129, -3.073124408721924, 11.095805168151855, 7.406425476074219, 8.120819091796875, -7.571404457092285, 0.5947643518447876, 7.620643138885498, 6.377871513366699, 1.4847078323364258, -9.893238067626953, 6.567715644836426, -2.645752429962158, 7.0214033126831055, -7.33000373840332, 6.454770565032959, -6.711031913757324, 4.463736534118652, 7.9788079261779785, -7.900545597076416, -1.9761861562728882, 8.139098167419434, 1.9976630210876465, -10.153310775756836, -10.005054473876953, -9.672019004821777, 8.40005111694336, -10.263197898864746, 7.147693157196045, 9.189023971557617, -9.950156211853027, -9.860987663269043, -9.721575736999512, -3.256767511367798, -47.00669479370117, -10.429981231689453, 0.019323252141475677, 8.675460815429688, -0.5534816980361938, 5.924448490142822, 2.3262782096862793, 0.6864957213401794, 1.644760251045227, 1.1415576934814453, -6.67514181137085, 1.1220473051071167, -0.8154687881469727, 4.635422706604004, -3.6147656440734863, 1.0836700201034546, 10.699268341064453, 0.720647394657135, -2.862504482269287, 10.706513404846191, 11.25512981414795, 11.499153137207031, 7.914968967437744, 6.678747177124023, 7.9789299964904785, 0.4784620404243469, -8.273638725280762, -10.095773696899414, -7.847458839416504, 10.427043914794922, 8.003002166748047, -9.4345703125, -4.605944633483887, -10.538007736206055, -10.699597358703613, 7.622084617614746, -6.914822101593018, -4.894962310791016, -1.2548422813415527, -7.1479620933532715, -9.802352905273438, -5.873042583465576, 10.040627479553223, -11.193862915039062, -9.77826976776123, -2.7841930389404297, -10.529194831848145, 7.032208442687988, 5.2304182052612305, 5.304044246673584, -8.036813735961914, 1.6964432001113892, -0.15953300893306732, 10.707748413085938, 3.391587257385254, 8.672599792480469, 8.279516220092773, 2.044099807739258, 11.468489646911621, 1.7044646739959717, -5.194308757781982, 6.623802661895752, 6.513923168182373, 10.109824180603027, 1.1541436910629272, 2.6828222274780273, -5.166651725769043, -10.208263397216797, 8.525979042053223, -11.31696891784668, -10.581857681274414, 5.795639514923096, -8.012479782104492, 2.419316291809082, -10.148539543151855, -7.863528251647949, -2.499897003173828, 11.54206657409668, 10.775826454162598, 8.517714500427246, 1.414831280708313, -9.712383270263672, -9.110786437988281, -10.833434104919434, 5.367099761962891, -3.725038766860962, 4.585407733917236, 8.906166076660156, -6.144040107727051, -9.223480224609375, -5.3269500732421875, 2.599674940109253, -1.8925769329071045, -11.578703880310059, -0.9350939393043518, 12.048876762390137, -11.175352096557617, 5.322148323059082, 0.20817913115024567, 11.849767684936523, -4.892993450164795, 7.629908084869385, 7.207155704498291, -11.627974510192871, -10.919535636901855, -10.325377464294434, -9.704936981201172, 9.443800926208496, 0.997925341129303, -2.260545015335083, -0.5966269373893738, -1.2817816734313965, 5.183493614196777, -10.307430267333984, 50.36164093017578, -9.576358795166016, 3.3516392707824707, -7.138485431671143, -8.959355354309082, -4.957050323486328, 9.657654762268066, -1.8658936023712158, -10.790751457214355, 5.167336940765381, 11.687780380249023, 0.043230410665273666, 8.8947114944458, 5.577951431274414, 0.43990761041641235, 7.319796085357666, 0.27507859468460083, 5.667752265930176, -0.06701546907424927, 6.417377948760986, 3.573667287826538, 8.622401237487793, -10.726046562194824, 5.970393180847168, 2.9988505840301514, 9.70784854888916, 1.4840012788772583, -5.004378318786621, -0.06497320532798767, 9.051727294921875, 9.510527610778809, 8.386474609375, 45.76856994628906, -10.263827323913574, -1.4231646060943604, -1.9653226137161255, 7.413848876953125, 6.679891586303711, -10.609886169433594, 7.524307727813721, 6.48140811920166, 9.695786476135254, -10.826189994812012, 11.824943542480469, 0.9472479820251465, 4.664979934692383, 6.316071033477783, -9.961400985717773, -8.852585792541504, -0.18470430374145508, -10.339140892028809, 9.161741256713867, -1.272653341293335, 0.6872950792312622, 10.070119857788086, 3.2758429050445557, 7.384198188781738, -4.956863880157471, -9.31930923461914, 8.756999015808105, 3.4891412258148193, -10.721076965332031, 1.5008983612060547, 2.251401662826538, -9.484112739562988, -8.7894868850708, -0.8585075736045837, -7.682824611663818, -1.1333614587783813, 5.901005268096924, -1.4917712211608887, 9.154738426208496, -1.1160067319869995, 9.600058555603027, 5.861519813537598, 8.157206535339355, -0.15968003869056702, 5.890841484069824, 4.689162254333496, 8.981633186340332, 3.0151774883270264, -1.4221264123916626, -10.333261489868164, 6.002069473266602, -0.3464435338973999, -10.71094799041748, 9.386177062988281, -10.42997932434082, -1.3381571769714355, -10.306159973144531, 4.535774230957031, -9.616031646728516, -10.542757034301758, 5.2640886306762695, 8.052963256835938, 7.517490386962891, 0.1359967589378357, -5.978311538696289, 1.032529354095459, 8.61684799194336, -0.3876442015171051, -3.1302645206451416, -4.885867118835449, -1.6975387334823608, -11.431539535522461, -10.129936218261719, 10.7724027633667, 11.73766040802002, -1.1344330310821533, -7.266359806060791, -3.713061571121216, 7.068814754486084, -11.611218452453613, -4.855055809020996, 10.212488174438477, -11.390249252319336, -1.5850168466567993, -4.199888229370117, 1.0313316583633423, -11.352791786193848, -8.819666862487793, -9.46136474609375, 3.1679558753967285, -10.241535186767578, 7.145126819610596, 4.866239547729492, -9.333660125732422, 10.739049911499023, 0.8435907959938049, -10.322867393493652, -10.199525833129883, -4.769283771514893, -6.970935821533203, 2.421814203262329, -9.794487953186035, -6.495086193084717, -10.499836921691895, 1.2993773221969604, -0.4022004306316376, -0.8862021565437317, -2.4970638751983643, -2.4673256874084473, 9.887947082519531, -6.845767974853516, 7.271390438079834, 9.532455444335938, 7.946294784545898, 2.0948448181152344, -10.953483581542969, -8.59628677368164, -4.884232521057129, 3.787510633468628, -1.7769200801849365, -2.3772215843200684, -10.343303680419922, -1.1530141830444336, 9.852778434753418, -10.073974609375, -10.584648132324219, 2.2304275035858154, -7.470866680145264, -11.048218727111816, -3.9136581420898438, 10.036588668823242, -9.68387222290039, -8.543071746826172, -5.425555229187012, 10.181564331054688, -0.8494914770126343, 7.700321197509766, -10.801705360412598, -4.282835960388184, -0.768779993057251, 8.444847106933594, -9.911616325378418, -9.1298246383667, -1.799578070640564, 2.6553800106048584, -1.948269009590149, 9.098858833312988, 5.537562847137451, 0.34399083256721497, 1.0723943710327148, -0.20977318286895752, -1.3882911205291748, -1.0568909645080566, 6.6807541847229, 11.73595142364502, 2.5650980472564697, -0.526854395866394, 7.118561267852783, 10.923816680908203, -11.7858304977417, 6.611781120300293, 6.842792510986328, -7.708590507507324, -9.346835136413574, -10.30549144744873, -8.531303405761719, -1.22976553440094, 2.654515266418457, 11.343339920043945, -6.067725658416748, 9.08457088470459, -10.810967445373535, 4.43035364151001, -10.608562469482422, -9.536460876464844, 4.472421646118164, -0.8782989382743835, -4.083490371704102, 8.811277389526367, 6.219838619232178, -1.1055378913879395, -8.341546058654785, -4.176395893096924, 4.8064727783203125, -2.4272894859313965, 12.399857521057129, -1.5111900568008423, -5.901689529418945, -9.021080017089844, 9.8682861328125, 2.7309908866882324, 4.108287811279297, -0.6632910966873169, -6.9030232429504395, -9.162697792053223, -10.371710777282715, 10.667756080627441, 9.63915729522705, -7.043596267700195, -9.491111755371094, -0.27310463786125183, -2.805652141571045, -9.791095733642578, -7.029547214508057, 10.617897033691406, -9.745962142944336, 7.915874004364014, -9.09211254119873, -10.570362091064453, -9.764633178710938, -8.184490203857422, -11.222234725952148, -1.422142505645752, 11.412324905395508, -6.732748985290527, 2.922642707824707, 1.2624534368515015, 11.700424194335938, 8.671599388122559, 1.5431643724441528, 9.678518295288086, 8.96153736114502, 8.77601146697998, -8.8666410446167, 4.964691638946533, 8.368598937988281, -11.598326683044434, 5.032454013824463, -7.505508899688721, 2.9853134155273438, 11.283489227294922, 10.883313179016113, -0.7197553515434265, -7.824581146240234, 3.455613136291504, -7.3616743087768555, 10.820873260498047, 1.229466199874878, 7.009594917297363, -6.209097385406494, 3.017045259475708, 2.1357948780059814, -10.268207550048828, 0.13531483709812164, -0.45623618364334106, 10.743083953857422, -8.707744598388672, 5.613291263580322, 6.701505184173584, 5.626099586486816, -9.594780921936035, 2.8841755390167236, -6.517345428466797, -9.571526527404785, -3.1057331562042236, 9.776182174682617, -3.2981529235839844, -10.503195762634277, 0.07214032858610153, 9.622430801391602, 9.019083976745605, -10.039100646972656, 9.95482063293457, -4.7886738777160645, 9.139573097229004, 5.131321430206299, 7.222824573516846, 11.134814262390137, -2.287111282348633, 11.077978134155273, 0.0930233895778656, -4.979552745819092, 8.100184440612793, -0.12173491716384888, 5.887381076812744, 3.0684850215911865, -5.6426520347595215, 3.8052725791931152, 11.849658012390137, 0.934837818145752, -0.5033636093139648, 81.519775390625, 0.6416568160057068, 10.807439804077148, 9.064668655395508, -4.340500354766846, -1.233398199081421, -10.289444923400879, -10.312821388244629, -7.15739631652832, -11.239333152770996, 10.11823844909668, 10.09424877166748, -9.792533874511719, 11.822583198547363, 7.985035419464111, 10.211873054504395, 8.85321044921875, -9.277701377868652, 2.30783748626709, 1.1594462394714355, 3.555718183517456, 0.8818337321281433, -9.945087432861328, -0.9184293746948242, -10.72662353515625, 7.620455265045166, -10.044692993164062, -9.864686965942383, 6.891721248626709, -3.808215618133545, 7.551152229309082, -4.895206451416016, -4.813996315002441, -4.8233866691589355, 8.30556869506836, 1.5963900089263916, -11.291889190673828, 0.20282182097434998, 10.29371166229248, -8.845559120178223, -9.429733276367188, -9.520990371704102, -10.646777153015137, 11.187421798706055, 11.226290702819824, 2.9188344478607178, 7.978190898895264, 8.069881439208984, -10.830831527709961, -11.312213897705078, -9.881649017333984, -7.742503643035889, -10.954290390014648, -10.71914005279541, -0.5209925174713135, -10.464911460876465, -0.2810715138912201, -11.417359352111816, -11.058533668518066, -9.71757984161377, 11.021014213562012], \"z\": [7.034523963928223, 8.256756782531738, 6.739200592041016, -4.651747703552246, 7.179448127746582, -3.4699981212615967, 4.758288383483887, -3.5996923446655273, -3.4435904026031494, -3.252908945083618, 0.6669187545776367, 0.7070834040641785, 5.050308704376221, -0.17826257646083832, -1.9026029109954834, -2.254298686981201, -0.7649581432342529, 0.9056012034416199, 8.252809524536133, -2.319291114807129, -1.2645068168640137, -3.8460845947265625, -1.5238800048828125, 8.549662590026855, 7.151337146759033, 2.946545124053955, -2.6337530612945557, 4.828598976135254, 0.277761310338974, 3.132953405380249, 5.270994186401367, -4.0760064125061035, 2.4212350845336914, 6.806698322296143, 1.0812233686447144, 1.8624944686889648, -2.689861536026001, 0.8164580464363098, 0.09406272321939468, -3.1399459838867188, -3.4892728328704834, -4.678360939025879, 5.3868794441223145, -3.7417240142822266, -3.415079116821289, 4.922041416168213, -3.686920404434204, -3.4986841678619385, -3.143040180206299, -2.327609062194824, -3.0291197299957275, -0.29314708709716797, -2.55635666847229, 4.126574516296387, -1.0735371112823486, -3.4603307247161865, 7.699557781219482, -2.0497350692749023, -0.33554646372795105, -4.2462897300720215, -2.9415524005889893, -3.739783525466919, -2.3640248775482178, -4.066458702087402, -3.9745774269104004, -2.2003092765808105, -3.7736780643463135, -2.7227611541748047, -4.135356903076172, 0.18206781148910522, 35.450927734375, -4.210771560668945, 3.9299275875091553, -3.5745646953582764, -2.7641351222991943, 1.0672428607940674, 0.6067817211151123, 4.204944610595703, 6.889485836029053, -1.4127397537231445, -4.280910015106201, -0.6273991465568542, 9.1389741897583, 5.020289421081543, -3.1973013877868652, 4.939047813415527, -2.280338764190674, 5.2354326248168945, -2.168222665786743, -1.8900319337844849, -1.8929541110992432, -0.7308514714241028, -3.8546736240386963, -2.2949538230895996, -1.2573392391204834, 7.396810531616211, -1.3986256122589111, -3.673396110534668, -3.7030677795410156, -2.7177398204803467, -3.550435781478882, -2.9473533630371094, -1.6331872940063477, -3.640207529067993, -3.2502901554107666, -3.929328203201294, -3.898797035217285, -1.1253741979599, 8.84264850616455, -4.269404888153076, -3.736252784729004, -0.24119654297828674, -0.909624457359314, -2.820380449295044, -4.166766166687012, -3.4562437534332275, -3.7696917057037354, -0.9840913414955139, 0.7001440525054932, 3.4394521713256836, -4.09436559677124, 4.86620569229126, 9.26699161529541, -1.4665777683258057, -0.05831489339470863, -2.2035558223724365, -3.7503178119659424, 5.553613185882568, -0.8979033827781677, 6.287718772888184, -2.0245020389556885, 0.09137525409460068, 0.9218688011169434, -0.48962274193763733, 5.073940277099609, -2.123084545135498, -4.324082374572754, -2.3362858295440674, -2.3378264904022217, -2.6878128051757812, -3.833393096923828, 1.0260276794433594, -3.74438738822937, -1.8450450897216797, -3.453524112701416, -2.5477633476257324, -3.633563995361328, -1.0959829092025757, -1.7333831787109375, -2.3035151958465576, -0.39793217182159424, -3.866899251937866, -3.3559160232543945, -2.888495683670044, -1.7349120378494263, -2.204155445098877, 3.2379510402679443, 1.0724177360534668, -1.992914080619812, -3.937471866607666, -4.515888690948486, 5.6432576179504395, 8.011470794677734, 90.9565658569336, 9.065436363220215, -0.9553297162055969, -3.0849568843841553, 2.0891358852386475, 4.2174201011657715, -1.1182409524917603, -1.6017080545425415, -2.993877649307251, -0.32706817984580994, -2.514648199081421, -3.084645986557007, -3.852328300476074, -3.826639413833618, 0.5692685842514038, -0.017845463007688522, 0.19628840684890747, 8.700013160705566, 8.343475341796875, 0.5755018591880798, -2.6250159740448, -79.90203857421875, -3.9537007808685303, 4.130627155303955, -3.4971084594726562, -2.080106735229492, -1.4931285381317139, -2.4404489994049072, -0.8380090594291687, -3.4504354000091553, -3.5863277912139893, -1.466749668121338, -0.14888562262058258, -3.495069980621338, 3.9681642055511475, 6.0861968994140625, -1.6909040212631226, -3.109818458557129, 2.9394114017486572, 9.225567817687988, -1.2818002700805664, -2.8740487098693848, -1.2104181051254272, -3.479119062423706, 2.3445982933044434, -0.9782826900482178, -1.1510365009307861, 7.404911518096924, -3.529320478439331, 9.294300079345703, 1.4124881029129028, -3.240297794342041, -2.8863461017608643, 92.97041320800781, -3.5548489093780518, 7.951963424682617, 8.22939682006836, -1.9481000900268555, -1.4910967350006104, -3.4872820377349854, -0.07106079906225204, -2.658541202545166, -2.8221805095672607, -3.3173859119415283, -1.381734848022461, -1.9734238386154175, -3.0930941104888916, 2.213426113128662, -1.9451971054077148, -2.4810543060302734, 8.083869934082031, -3.8497745990753174, -1.5553818941116333, 8.695760726928711, 7.730536937713623, -2.1911113262176514, 2.851740837097168, -1.0574551820755005, -0.7205278277397156, -3.0735597610473633, -1.8172597885131836, 5.434438705444336, -3.215534210205078, 0.39149507880210876, -1.9029890298843384, -3.863346815109253, -3.128082752227783, 8.603013038635254, -3.570155143737793, 7.560356616973877, 2.68989896774292, 7.480321884155273, -3.4513590335845947, 7.548140048980713, -1.5334362983703613, 0.29371020197868347, -0.5597141981124878, 7.8391571044921875, 2.7715179920196533, 2.959076404571533, -0.507948100566864, 3.0023627281188965, 8.287555694580078, -3.4183239936828613, -0.7239289879798889, -0.20387890934944153, -3.20135760307312, -0.30613937973976135, -2.9593398571014404, 8.787052154541016, -3.7872800827026367, 3.5841991901397705, -1.4676196575164795, -2.5576164722442627, 4.682149887084961, -2.859259843826294, -0.33835047483444214, 6.104585647583008, -4.271602630615234, 5.9347639083862305, 0.3364015221595764, 0.03507199138402939, -0.4866238534450531, -3.011873483657837, 0.5323013663291931, -2.379765510559082, -2.3832662105560303, -0.4501611888408661, -1.319225788116455, 0.19035561382770538, -2.623964309692383, -0.15913636982440948, -0.15553633868694305, -2.600999355316162, -4.633082866668701, -2.911722421646118, -2.658219814300537, 7.8869853019714355, -0.845059871673584, 7.056166648864746, -2.96915602684021, -3.152973175048828, -2.1197152137756348, -0.6593554019927979, -3.6245973110198975, -1.735353708267212, -1.8143466711044312, -2.269636869430542, -2.2473490238189697, -1.3582037687301636, -2.1605024337768555, -3.502028465270996, -0.45107847452163696, -0.992590069770813, 4.129417896270752, -3.8472864627838135, -0.34060508012771606, -3.3143603801727295, 7.367463111877441, -0.5795937180519104, 8.015348434448242, -2.826223850250244, -0.6131560206413269, -2.0178334712982178, -2.002246856689453, 0.7326350808143616, 0.5367465019226074, 0.29542994499206543, -1.518538236618042, -2.381293773651123, -3.707423686981201, -1.2588294744491577, 2.6971161365509033, 0.4415426552295685, 6.439059734344482, -3.7179219722747803, 8.7920503616333, -2.796443223953247, -3.9485864639282227, -2.9953436851501465, 6.159250259399414, -3.379420757293701, -2.760075569152832, -3.0048255920410156, -2.3033699989318848, -2.6428329944610596, -2.35783314704895, -4.043331623077393, -0.5933197736740112, 8.618875503540039, -0.9450021982192993, -3.089769124984741, -0.20264236629009247, -0.10467145591974258, -1.047721028327942, -4.409481525421143, -4.239047050476074, -0.9210188388824463, 0.11122814565896988, -0.44863995909690857, 0.6688596606254578, -0.8931102156639099, 7.691145420074463, 6.925708770751953, -3.077385425567627, 8.455678939819336, 8.831497192382812, 1.2927991151809692, -0.8332104682922363, 7.44106388092041, 8.302535057067871, -0.5187416076660156, -0.13494384288787842, -2.586440086364746, -1.643611192703247, -0.13043294847011566, -4.67851448059082, -3.442902088165283, -3.149991273880005, -1.3766170740127563, -2.881920576095581, -0.15907686948776245, -1.1070901155471802, -1.1579564809799194, -2.4247875213623047, -2.5920183658599854, 5.285289764404297, -3.600053310394287, -4.368762969970703, 0.5069929361343384, 8.67258358001709, -2.933753728866577, -0.4101153016090393, -1.2542914152145386, -0.5047571063041687, -4.129636287689209, -3.6996376514434814, 3.5113096237182617, -3.4066073894500732, 54.53501510620117, 0.1529071033000946, -0.6796799302101135, -3.8993306159973145, 0.12785470485687256, -1.4746813774108887, 3.513288736343384, -2.908860921859741, -4.346928596496582, -3.691390037536621, -3.4162633419036865, -1.7384154796600342, -1.3799799680709839, -2.7331044673919678, -3.973478317260742, 3.5697381496429443, -0.21708142757415771, -3.002509593963623, -3.960301399230957, -1.7222002744674683, -2.45804762840271, -2.1617069244384766, -3.6325454711914062, -3.812528610229492, -3.7972209453582764, -4.44527006149292, -2.5249133110046387, -0.5013601779937744, -1.6125491857528687, -0.7836898565292358, 6.387339115142822, 5.31569766998291, -1.1861767768859863, -3.502788543701172, -1.3668183088302612, -2.1756432056427, -2.591522216796875, -0.5712565779685974, -3.9295501708984375, 2.6452457904815674, -1.703048586845398, -2.6741278171539307, 3.4393653869628906, -2.1450040340423584, 3.525801420211792, -1.8796792030334473, -2.375548839569092, 8.569486618041992, -2.4126393795013428, 5.700165748596191, -2.3670196533203125, -1.4394017457962036, -2.30399489402771, -2.94687557220459, -3.9693565368652344, -0.3234059810638428, -0.8203684091567993, -3.2741379737854004, 3.8887100219726562, 8.324830055236816, -1.1826612949371338, -2.9179978370666504, -2.074103832244873, -3.293565034866333, -2.199955463409424, -4.135015487670898, 3.4957070350646973, -4.221658706665039, -4.120690822601318, -2.299070119857788, -1.9486018419265747, -1.5463435649871826, -3.2188773155212402, -0.7043693661689758, -3.209118604660034, -1.7314276695251465, -2.3284499645233154, 0.3073839843273163, -1.9913989305496216, -3.463662624359131, -0.9173820614814758, -1.3793295621871948, -0.48442384600639343, -1.6629729270935059, -2.2116634845733643, 6.463710308074951, -4.13171911239624, 1.011664628982544, -2.946077346801758, 3.540184736251831, 3.7945353984832764, -0.42975154519081116, -0.8170573115348816, -1.1329060792922974, -2.4829745292663574, -2.421731472015381, -19.979658126831055, 7.837014675140381, -1.7879202365875244, -3.2101073265075684, -0.8287599682807922, 8.841901779174805, -4.257761478424072, -3.98337721824646, -1.4634071588516235, -2.7163949012756348, 0.31746426224708557, -1.0696938037872314, -1.9202556610107422, -1.0564571619033813, -3.8312456607818604, -2.4948065280914307, -1.5714969635009766, -3.1785175800323486, 4.428482532501221, 6.669351577758789, -2.7705490589141846, -1.9445775747299194, -4.214783191680908, 9.070371627807617, -2.2389094829559326, -2.0645573139190674, -4.090902805328369, -4.244160175323486, -2.911475896835327, -1.7886933088302612, 0.28129664063453674, -2.7625081539154053, -4.181971549987793, -3.889676332473755, -3.2398393154144287, 7.452375888824463, -2.647223949432373, 7.86004638671875, -1.2896475791931152, -2.741420030593872, -3.5568573474884033, -3.2386081218719482, -2.341909408569336, -2.313147783279419, -2.110952615737915, -0.1516827791929245, -1.1211217641830444, -2.7724246978759766, -3.3415818214416504, -2.9756336212158203, -3.93342924118042, -4.69219970703125, -2.8578267097473145, -2.578319549560547, -0.14383871853351593, -3.6248795986175537, -0.0030411966145038605, -3.069769859313965, -3.060023784637451, -3.6644296646118164, -1.0736321210861206]}],                        {\"coloraxis\": {\"colorbar\": {\"title\": {\"text\": \"Anomaly\"}}, \"colorscale\": [[0.0, \"#0d0887\"], [0.1111111111111111, \"#46039f\"], [0.2222222222222222, \"#7201a8\"], [0.3333333333333333, \"#9c179e\"], [0.4444444444444444, \"#bd3786\"], [0.5555555555555556, \"#d8576b\"], [0.6666666666666666, \"#ed7953\"], [0.7777777777777778, \"#fb9f3a\"], [0.8888888888888888, \"#fdca26\"], [1.0, \"#f0f921\"]]}, \"height\": 800, \"legend\": {\"tracegroupgap\": 0}, \"scene\": {\"domain\": {\"x\": [0.0, 1.0], \"y\": [0.0, 1.0]}, \"xaxis\": {\"title\": {\"text\": \"0\"}}, \"yaxis\": {\"title\": {\"text\": \"1\"}}, \"zaxis\": {\"title\": {\"text\": \"2\"}}}, \"template\": {\"data\": {\"bar\": [{\"error_x\": {\"color\": \"#2a3f5f\"}, \"error_y\": {\"color\": \"#2a3f5f\"}, \"marker\": {\"line\": {\"color\": \"#E5ECF6\", \"width\": 0.5}}, \"type\": \"bar\"}], \"barpolar\": [{\"marker\": {\"line\": {\"color\": \"#E5ECF6\", \"width\": 0.5}}, \"type\": \"barpolar\"}], \"carpet\": [{\"aaxis\": {\"endlinecolor\": \"#2a3f5f\", \"gridcolor\": \"white\", \"linecolor\": \"white\", \"minorgridcolor\": \"white\", \"startlinecolor\": \"#2a3f5f\"}, \"baxis\": {\"endlinecolor\": \"#2a3f5f\", \"gridcolor\": \"white\", \"linecolor\": \"white\", \"minorgridcolor\": \"white\", \"startlinecolor\": \"#2a3f5f\"}, \"type\": \"carpet\"}], \"choropleth\": [{\"colorbar\": {\"outlinewidth\": 0, \"ticks\": \"\"}, \"type\": \"choropleth\"}], \"contour\": [{\"colorbar\": {\"outlinewidth\": 0, \"ticks\": \"\"}, \"colorscale\": [[0.0, \"#0d0887\"], [0.1111111111111111, \"#46039f\"], [0.2222222222222222, \"#7201a8\"], [0.3333333333333333, \"#9c179e\"], [0.4444444444444444, \"#bd3786\"], [0.5555555555555556, \"#d8576b\"], [0.6666666666666666, \"#ed7953\"], [0.7777777777777778, \"#fb9f3a\"], [0.8888888888888888, \"#fdca26\"], [1.0, \"#f0f921\"]], \"type\": \"contour\"}], \"contourcarpet\": [{\"colorbar\": {\"outlinewidth\": 0, \"ticks\": \"\"}, \"type\": \"contourcarpet\"}], \"heatmap\": [{\"colorbar\": {\"outlinewidth\": 0, \"ticks\": \"\"}, \"colorscale\": [[0.0, \"#0d0887\"], [0.1111111111111111, \"#46039f\"], [0.2222222222222222, \"#7201a8\"], [0.3333333333333333, \"#9c179e\"], [0.4444444444444444, \"#bd3786\"], [0.5555555555555556, \"#d8576b\"], [0.6666666666666666, \"#ed7953\"], [0.7777777777777778, \"#fb9f3a\"], [0.8888888888888888, \"#fdca26\"], [1.0, \"#f0f921\"]], \"type\": \"heatmap\"}], \"heatmapgl\": [{\"colorbar\": {\"outlinewidth\": 0, \"ticks\": \"\"}, \"colorscale\": [[0.0, \"#0d0887\"], [0.1111111111111111, \"#46039f\"], [0.2222222222222222, \"#7201a8\"], [0.3333333333333333, \"#9c179e\"], [0.4444444444444444, \"#bd3786\"], [0.5555555555555556, \"#d8576b\"], [0.6666666666666666, \"#ed7953\"], [0.7777777777777778, \"#fb9f3a\"], [0.8888888888888888, \"#fdca26\"], [1.0, \"#f0f921\"]], \"type\": \"heatmapgl\"}], \"histogram\": [{\"marker\": {\"colorbar\": {\"outlinewidth\": 0, \"ticks\": \"\"}}, \"type\": \"histogram\"}], \"histogram2d\": [{\"colorbar\": {\"outlinewidth\": 0, \"ticks\": \"\"}, \"colorscale\": [[0.0, \"#0d0887\"], [0.1111111111111111, \"#46039f\"], [0.2222222222222222, \"#7201a8\"], [0.3333333333333333, \"#9c179e\"], [0.4444444444444444, \"#bd3786\"], [0.5555555555555556, \"#d8576b\"], [0.6666666666666666, \"#ed7953\"], [0.7777777777777778, \"#fb9f3a\"], [0.8888888888888888, \"#fdca26\"], [1.0, \"#f0f921\"]], \"type\": \"histogram2d\"}], \"histogram2dcontour\": [{\"colorbar\": {\"outlinewidth\": 0, \"ticks\": \"\"}, \"colorscale\": [[0.0, \"#0d0887\"], [0.1111111111111111, \"#46039f\"], [0.2222222222222222, \"#7201a8\"], [0.3333333333333333, \"#9c179e\"], [0.4444444444444444, \"#bd3786\"], [0.5555555555555556, \"#d8576b\"], [0.6666666666666666, \"#ed7953\"], [0.7777777777777778, \"#fb9f3a\"], [0.8888888888888888, \"#fdca26\"], [1.0, \"#f0f921\"]], \"type\": \"histogram2dcontour\"}], \"mesh3d\": [{\"colorbar\": {\"outlinewidth\": 0, \"ticks\": \"\"}, \"type\": \"mesh3d\"}], \"parcoords\": [{\"line\": {\"colorbar\": {\"outlinewidth\": 0, \"ticks\": \"\"}}, \"type\": \"parcoords\"}], \"pie\": [{\"automargin\": true, \"type\": \"pie\"}], \"scatter\": [{\"marker\": {\"colorbar\": {\"outlinewidth\": 0, \"ticks\": \"\"}}, \"type\": \"scatter\"}], \"scatter3d\": [{\"line\": {\"colorbar\": {\"outlinewidth\": 0, \"ticks\": \"\"}}, \"marker\": {\"colorbar\": {\"outlinewidth\": 0, \"ticks\": \"\"}}, \"type\": \"scatter3d\"}], \"scattercarpet\": [{\"marker\": {\"colorbar\": {\"outlinewidth\": 0, \"ticks\": \"\"}}, \"type\": \"scattercarpet\"}], \"scattergeo\": [{\"marker\": {\"colorbar\": {\"outlinewidth\": 0, \"ticks\": \"\"}}, \"type\": \"scattergeo\"}], \"scattergl\": [{\"marker\": {\"colorbar\": {\"outlinewidth\": 0, \"ticks\": \"\"}}, \"type\": \"scattergl\"}], \"scattermapbox\": [{\"marker\": {\"colorbar\": {\"outlinewidth\": 0, \"ticks\": \"\"}}, \"type\": \"scattermapbox\"}], \"scatterpolar\": [{\"marker\": {\"colorbar\": {\"outlinewidth\": 0, \"ticks\": \"\"}}, \"type\": \"scatterpolar\"}], \"scatterpolargl\": [{\"marker\": {\"colorbar\": {\"outlinewidth\": 0, \"ticks\": \"\"}}, \"type\": \"scatterpolargl\"}], \"scatterternary\": [{\"marker\": {\"colorbar\": {\"outlinewidth\": 0, \"ticks\": \"\"}}, \"type\": \"scatterternary\"}], \"surface\": [{\"colorbar\": {\"outlinewidth\": 0, \"ticks\": \"\"}, \"colorscale\": [[0.0, \"#0d0887\"], [0.1111111111111111, \"#46039f\"], [0.2222222222222222, \"#7201a8\"], [0.3333333333333333, \"#9c179e\"], [0.4444444444444444, \"#bd3786\"], [0.5555555555555556, \"#d8576b\"], [0.6666666666666666, \"#ed7953\"], [0.7777777777777778, \"#fb9f3a\"], [0.8888888888888888, \"#fdca26\"], [1.0, \"#f0f921\"]], \"type\": \"surface\"}], \"table\": [{\"cells\": {\"fill\": {\"color\": \"#EBF0F8\"}, \"line\": {\"color\": \"white\"}}, \"header\": {\"fill\": {\"color\": \"#C8D4E3\"}, \"line\": {\"color\": \"white\"}}, \"type\": \"table\"}]}, \"layout\": {\"annotationdefaults\": {\"arrowcolor\": \"#2a3f5f\", \"arrowhead\": 0, \"arrowwidth\": 1}, \"coloraxis\": {\"colorbar\": {\"outlinewidth\": 0, \"ticks\": \"\"}}, \"colorscale\": {\"diverging\": [[0, \"#8e0152\"], [0.1, \"#c51b7d\"], [0.2, \"#de77ae\"], [0.3, \"#f1b6da\"], [0.4, \"#fde0ef\"], [0.5, \"#f7f7f7\"], [0.6, \"#e6f5d0\"], [0.7, \"#b8e186\"], [0.8, \"#7fbc41\"], [0.9, \"#4d9221\"], [1, \"#276419\"]], \"sequential\": [[0.0, \"#0d0887\"], [0.1111111111111111, \"#46039f\"], [0.2222222222222222, \"#7201a8\"], [0.3333333333333333, \"#9c179e\"], [0.4444444444444444, \"#bd3786\"], [0.5555555555555556, \"#d8576b\"], [0.6666666666666666, \"#ed7953\"], [0.7777777777777778, \"#fb9f3a\"], [0.8888888888888888, \"#fdca26\"], [1.0, \"#f0f921\"]], \"sequentialminus\": [[0.0, \"#0d0887\"], [0.1111111111111111, \"#46039f\"], [0.2222222222222222, \"#7201a8\"], [0.3333333333333333, \"#9c179e\"], [0.4444444444444444, \"#bd3786\"], [0.5555555555555556, \"#d8576b\"], [0.6666666666666666, \"#ed7953\"], [0.7777777777777778, \"#fb9f3a\"], [0.8888888888888888, \"#fdca26\"], [1.0, \"#f0f921\"]]}, \"colorway\": [\"#636efa\", \"#EF553B\", \"#00cc96\", \"#ab63fa\", \"#FFA15A\", \"#19d3f3\", \"#FF6692\", \"#B6E880\", \"#FF97FF\", \"#FECB52\"], \"font\": {\"color\": \"#2a3f5f\"}, \"geo\": {\"bgcolor\": \"white\", \"lakecolor\": \"white\", \"landcolor\": \"#E5ECF6\", \"showlakes\": true, \"showland\": true, \"subunitcolor\": \"white\"}, \"hoverlabel\": {\"align\": \"left\"}, \"hovermode\": \"closest\", \"mapbox\": {\"style\": \"light\"}, \"paper_bgcolor\": \"white\", \"plot_bgcolor\": \"#E5ECF6\", \"polar\": {\"angularaxis\": {\"gridcolor\": \"white\", \"linecolor\": \"white\", \"ticks\": \"\"}, \"bgcolor\": \"#E5ECF6\", \"radialaxis\": {\"gridcolor\": \"white\", \"linecolor\": \"white\", \"ticks\": \"\"}}, \"scene\": {\"xaxis\": {\"backgroundcolor\": \"#E5ECF6\", \"gridcolor\": \"white\", \"gridwidth\": 2, \"linecolor\": \"white\", \"showbackground\": true, \"ticks\": \"\", \"zerolinecolor\": \"white\"}, \"yaxis\": {\"backgroundcolor\": \"#E5ECF6\", \"gridcolor\": \"white\", \"gridwidth\": 2, \"linecolor\": \"white\", \"showbackground\": true, \"ticks\": \"\", \"zerolinecolor\": \"white\"}, \"zaxis\": {\"backgroundcolor\": \"#E5ECF6\", \"gridcolor\": \"white\", \"gridwidth\": 2, \"linecolor\": \"white\", \"showbackground\": true, \"ticks\": \"\", \"zerolinecolor\": \"white\"}}, \"shapedefaults\": {\"line\": {\"color\": \"#2a3f5f\"}}, \"ternary\": {\"aaxis\": {\"gridcolor\": \"white\", \"linecolor\": \"white\", \"ticks\": \"\"}, \"baxis\": {\"gridcolor\": \"white\", \"linecolor\": \"white\", \"ticks\": \"\"}, \"bgcolor\": \"#E5ECF6\", \"caxis\": {\"gridcolor\": \"white\", \"linecolor\": \"white\", \"ticks\": \"\"}}, \"title\": {\"x\": 0.05}, \"xaxis\": {\"automargin\": true, \"gridcolor\": \"white\", \"linecolor\": \"white\", \"ticks\": \"\", \"title\": {\"standoff\": 15}, \"zerolinecolor\": \"white\", \"zerolinewidth\": 2}, \"yaxis\": {\"automargin\": true, \"gridcolor\": \"white\", \"linecolor\": \"white\", \"ticks\": \"\", \"title\": {\"standoff\": 15}, \"zerolinecolor\": \"white\", \"zerolinewidth\": 2}}}, \"title\": {\"text\": \"3d TSNE Plot for Outliers\"}, \"width\": 900},                        {\"responsive\": true}                    ).then(function(){\n",
       "                            \n",
       "var gd = document.getElementById('109eebf9-2cef-4e48-917c-a0f1054a8be3');\n",
       "var x = new MutationObserver(function (mutations, observer) {{\n",
       "        var display = window.getComputedStyle(gd).display;\n",
       "        if (!display || display === 'none') {{\n",
       "            console.log([gd, 'removed!']);\n",
       "            Plotly.purge(gd);\n",
       "            observer.disconnect();\n",
       "        }}\n",
       "}});\n",
       "\n",
       "// Listen for the removal of the full notebook cells\n",
       "var notebookContainer = gd.closest('#notebook-container');\n",
       "if (notebookContainer) {{\n",
       "    x.observe(notebookContainer, {childList: true});\n",
       "}}\n",
       "\n",
       "// Listen for the clearing of the current output cell\n",
       "var outputEl = gd.closest('.output');\n",
       "if (outputEl) {{\n",
       "    x.observe(outputEl, {childList: true});\n",
       "}}\n",
       "\n",
       "                        })                };                });            </script>        </div>"
      ]
     },
     "metadata": {},
     "output_type": "display_data"
    }
   ],
   "source": [
    "plot_model(anom_model, plot = 'tsne')"
   ]
  },
  {
   "cell_type": "code",
   "execution_count": null,
   "metadata": {},
   "outputs": [],
   "source": []
  },
  {
   "cell_type": "code",
   "execution_count": 40,
   "metadata": {},
   "outputs": [
    {
     "data": {
      "application/vnd.plotly.v1+json": {
       "config": {
        "plotlyServerURL": "https://plot.ly"
       },
       "data": [
        {
         "customdata": [
          [
           17.99
          ],
          [
           20.57
          ],
          [
           19.69
          ],
          [
           11.42
          ],
          [
           20.29
          ],
          [
           12.45
          ],
          [
           18.25
          ],
          [
           13.71
          ],
          [
           13
          ],
          [
           12.46
          ],
          [
           16.02
          ],
          [
           15.78
          ],
          [
           19.17
          ],
          [
           15.85
          ],
          [
           13.73
          ],
          [
           14.54
          ],
          [
           14.68
          ],
          [
           16.13
          ],
          [
           19.81
          ],
          [
           13.54
          ],
          [
           13.08
          ],
          [
           9.504
          ],
          [
           15.34
          ],
          [
           21.16
          ],
          [
           16.65
          ],
          [
           17.14
          ],
          [
           14.58
          ],
          [
           18.61
          ],
          [
           15.3
          ],
          [
           17.57
          ],
          [
           18.63
          ],
          [
           11.84
          ],
          [
           17.02
          ],
          [
           19.27
          ],
          [
           16.13
          ],
          [
           16.74
          ],
          [
           14.25
          ],
          [
           13.03
          ],
          [
           14.99
          ],
          [
           13.48
          ],
          [
           13.44
          ],
          [
           10.95
          ],
          [
           19.07
          ],
          [
           13.28
          ],
          [
           13.17
          ],
          [
           18.65
          ],
          [
           8.196
          ],
          [
           13.17
          ],
          [
           12.05
          ],
          [
           13.49
          ],
          [
           11.76
          ],
          [
           13.64
          ],
          [
           11.94
          ],
          [
           18.22
          ],
          [
           15.1
          ],
          [
           11.52
          ],
          [
           19.21
          ],
          [
           14.71
          ],
          [
           13.05
          ],
          [
           8.618
          ],
          [
           10.17
          ],
          [
           8.598
          ],
          [
           14.25
          ],
          [
           9.173
          ],
          [
           12.68
          ],
          [
           14.78
          ],
          [
           9.465
          ],
          [
           11.31
          ],
          [
           9.029
          ],
          [
           12.78
          ],
          [
           18.94
          ],
          [
           8.888
          ],
          [
           17.2
          ],
          [
           13.8
          ],
          [
           12.31
          ],
          [
           16.07
          ],
          [
           13.53
          ],
          [
           18.05
          ],
          [
           20.18
          ],
          [
           12.86
          ],
          [
           11.45
          ],
          [
           13.34
          ],
          [
           25.22
          ],
          [
           19.1
          ],
          [
           12
          ],
          [
           18.46
          ],
          [
           14.48
          ],
          [
           19.02
          ],
          [
           12.36
          ],
          [
           14.64
          ],
          [
           14.62
          ],
          [
           15.37
          ],
          [
           13.27
          ],
          [
           13.45
          ],
          [
           15.06
          ],
          [
           20.26
          ],
          [
           12.18
          ],
          [
           9.787
          ],
          [
           11.6
          ],
          [
           14.42
          ],
          [
           13.61
          ],
          [
           6.981
          ],
          [
           12.18
          ],
          [
           9.876
          ],
          [
           10.49
          ],
          [
           13.11
          ],
          [
           11.64
          ],
          [
           12.36
          ],
          [
           22.27
          ],
          [
           11.34
          ],
          [
           9.777
          ],
          [
           12.63
          ],
          [
           14.26
          ],
          [
           10.51
          ],
          [
           8.726
          ],
          [
           11.93
          ],
          [
           8.95
          ],
          [
           14.87
          ],
          [
           15.78
          ],
          [
           17.95
          ],
          [
           11.41
          ],
          [
           18.66
          ],
          [
           24.25
          ],
          [
           14.5
          ],
          [
           13.37
          ],
          [
           13.85
          ],
          [
           13.61
          ],
          [
           19
          ],
          [
           15.1
          ],
          [
           19.79
          ],
          [
           12.19
          ],
          [
           15.46
          ],
          [
           16.16
          ],
          [
           15.71
          ],
          [
           18.45
          ],
          [
           12.77
          ],
          [
           11.71
          ],
          [
           11.43
          ],
          [
           14.95
          ],
          [
           11.28
          ],
          [
           9.738
          ],
          [
           16.11
          ],
          [
           11.43
          ],
          [
           12.9
          ],
          [
           10.75
          ],
          [
           11.9
          ],
          [
           11.8
          ],
          [
           14.95
          ],
          [
           14.44
          ],
          [
           13.74
          ],
          [
           13
          ],
          [
           8.219
          ],
          [
           9.731
          ],
          [
           11.15
          ],
          [
           13.15
          ],
          [
           12.25
          ],
          [
           17.68
          ],
          [
           16.84
          ],
          [
           12.06
          ],
          [
           10.9
          ],
          [
           11.75
          ],
          [
           19.19
          ],
          [
           19.59
          ],
          [
           12.34
          ],
          [
           23.27
          ],
          [
           14.97
          ],
          [
           10.8
          ],
          [
           16.78
          ],
          [
           17.47
          ],
          [
           14.97
          ],
          [
           12.32
          ],
          [
           13.43
          ],
          [
           15.46
          ],
          [
           11.08
          ],
          [
           10.66
          ],
          [
           8.671
          ],
          [
           9.904
          ],
          [
           16.46
          ],
          [
           13.01
          ],
          [
           12.81
          ],
          [
           27.22
          ],
          [
           21.09
          ],
          [
           15.7
          ],
          [
           11.41
          ],
          [
           15.28
          ],
          [
           10.08
          ],
          [
           18.31
          ],
          [
           11.71
          ],
          [
           11.81
          ],
          [
           12.3
          ],
          [
           14.22
          ],
          [
           12.77
          ],
          [
           9.72
          ],
          [
           12.34
          ],
          [
           14.86
          ],
          [
           12.91
          ],
          [
           13.77
          ],
          [
           18.08
          ],
          [
           19.18
          ],
          [
           14.45
          ],
          [
           12.23
          ],
          [
           17.54
          ],
          [
           23.29
          ],
          [
           13.81
          ],
          [
           12.47
          ],
          [
           15.12
          ],
          [
           9.876
          ],
          [
           17.01
          ],
          [
           13.11
          ],
          [
           15.27
          ],
          [
           20.58
          ],
          [
           11.84
          ],
          [
           28.11
          ],
          [
           17.42
          ],
          [
           14.19
          ],
          [
           13.86
          ],
          [
           11.89
          ],
          [
           10.2
          ],
          [
           19.8
          ],
          [
           19.53
          ],
          [
           13.65
          ],
          [
           13.56
          ],
          [
           10.18
          ],
          [
           15.75
          ],
          [
           13.27
          ],
          [
           14.34
          ],
          [
           10.44
          ],
          [
           15
          ],
          [
           12.62
          ],
          [
           12.83
          ],
          [
           17.05
          ],
          [
           11.32
          ],
          [
           11.22
          ],
          [
           20.51
          ],
          [
           9.567
          ],
          [
           14.03
          ],
          [
           23.21
          ],
          [
           20.48
          ],
          [
           14.22
          ],
          [
           17.46
          ],
          [
           13.64
          ],
          [
           12.42
          ],
          [
           11.3
          ],
          [
           13.75
          ],
          [
           19.4
          ],
          [
           10.48
          ],
          [
           13.2
          ],
          [
           12.89
          ],
          [
           10.65
          ],
          [
           11.52
          ],
          [
           20.94
          ],
          [
           11.5
          ],
          [
           19.73
          ],
          [
           17.3
          ],
          [
           19.45
          ],
          [
           13.96
          ],
          [
           19.55
          ],
          [
           15.32
          ],
          [
           15.66
          ],
          [
           15.53
          ],
          [
           20.31
          ],
          [
           17.35
          ],
          [
           17.29
          ],
          [
           15.61
          ],
          [
           17.19
          ],
          [
           20.73
          ],
          [
           10.6
          ],
          [
           13.59
          ],
          [
           12.87
          ],
          [
           10.71
          ],
          [
           14.29
          ],
          [
           11.29
          ],
          [
           21.75
          ],
          [
           9.742
          ],
          [
           17.93
          ],
          [
           11.89
          ],
          [
           11.33
          ],
          [
           18.81
          ],
          [
           13.59
          ],
          [
           13.85
          ],
          [
           19.16
          ],
          [
           11.74
          ],
          [
           19.4
          ],
          [
           16.24
          ],
          [
           12.89
          ],
          [
           12.58
          ],
          [
           11.94
          ],
          [
           12.89
          ],
          [
           11.26
          ],
          [
           11.37
          ],
          [
           14.41
          ],
          [
           14.96
          ],
          [
           12.95
          ],
          [
           11.85
          ],
          [
           12.72
          ],
          [
           13.77
          ],
          [
           10.91
          ],
          [
           11.76
          ],
          [
           14.26
          ],
          [
           10.51
          ],
          [
           19.53
          ],
          [
           12.46
          ],
          [
           20.09
          ],
          [
           10.49
          ],
          [
           11.46
          ],
          [
           11.6
          ],
          [
           13.2
          ],
          [
           9
          ],
          [
           13.5
          ],
          [
           13.05
          ],
          [
           11.7
          ],
          [
           14.61
          ],
          [
           12.76
          ],
          [
           11.54
          ],
          [
           8.597
          ],
          [
           12.49
          ],
          [
           12.18
          ],
          [
           18.22
          ],
          [
           9.042
          ],
          [
           12.43
          ],
          [
           10.25
          ],
          [
           20.16
          ],
          [
           12.86
          ],
          [
           20.34
          ],
          [
           12.2
          ],
          [
           12.67
          ],
          [
           14.11
          ],
          [
           12.03
          ],
          [
           16.27
          ],
          [
           16.26
          ],
          [
           16.03
          ],
          [
           12.98
          ],
          [
           11.22
          ],
          [
           11.25
          ],
          [
           12.3
          ],
          [
           17.06
          ],
          [
           12.99
          ],
          [
           18.77
          ],
          [
           10.05
          ],
          [
           23.51
          ],
          [
           14.42
          ],
          [
           9.606
          ],
          [
           11.06
          ],
          [
           19.68
          ],
          [
           11.71
          ],
          [
           10.26
          ],
          [
           12.06
          ],
          [
           14.76
          ],
          [
           11.47
          ],
          [
           11.95
          ],
          [
           11.66
          ],
          [
           15.75
          ],
          [
           25.73
          ],
          [
           15.08
          ],
          [
           11.14
          ],
          [
           12.56
          ],
          [
           13.05
          ],
          [
           13.87
          ],
          [
           8.878
          ],
          [
           9.436
          ],
          [
           12.54
          ],
          [
           13.3
          ],
          [
           12.76
          ],
          [
           16.5
          ],
          [
           13.4
          ],
          [
           20.44
          ],
          [
           20.2
          ],
          [
           12.21
          ],
          [
           21.71
          ],
          [
           22.01
          ],
          [
           16.35
          ],
          [
           15.19
          ],
          [
           21.37
          ],
          [
           20.64
          ],
          [
           13.69
          ],
          [
           16.17
          ],
          [
           10.57
          ],
          [
           13.46
          ],
          [
           13.66
          ],
          [
           11.08
          ],
          [
           11.27
          ],
          [
           11.04
          ],
          [
           12.05
          ],
          [
           12.39
          ],
          [
           13.28
          ],
          [
           14.6
          ],
          [
           12.21
          ],
          [
           13.88
          ],
          [
           11.27
          ],
          [
           19.55
          ],
          [
           10.26
          ],
          [
           8.734
          ],
          [
           15.49
          ],
          [
           21.61
          ],
          [
           12.1
          ],
          [
           14.06
          ],
          [
           13.51
          ],
          [
           12.8
          ],
          [
           11.06
          ],
          [
           11.8
          ],
          [
           17.91
          ],
          [
           11.93
          ],
          [
           12.96
          ],
          [
           12.94
          ],
          [
           12.34
          ],
          [
           10.94
          ],
          [
           16.14
          ],
          [
           12.85
          ],
          [
           17.99
          ],
          [
           12.27
          ],
          [
           11.36
          ],
          [
           11.04
          ],
          [
           9.397
          ],
          [
           14.99
          ],
          [
           15.13
          ],
          [
           11.89
          ],
          [
           9.405
          ],
          [
           15.5
          ],
          [
           12.7
          ],
          [
           11.16
          ],
          [
           11.57
          ],
          [
           14.69
          ],
          [
           11.61
          ],
          [
           13.66
          ],
          [
           9.742
          ],
          [
           10.03
          ],
          [
           10.48
          ],
          [
           10.8
          ],
          [
           11.13
          ],
          [
           12.72
          ],
          [
           14.9
          ],
          [
           12.4
          ],
          [
           20.18
          ],
          [
           18.82
          ],
          [
           14.86
          ],
          [
           13.98
          ],
          [
           12.87
          ],
          [
           14.04
          ],
          [
           13.85
          ],
          [
           14.02
          ],
          [
           10.97
          ],
          [
           17.27
          ],
          [
           13.78
          ],
          [
           10.57
          ],
          [
           18.03
          ],
          [
           11.99
          ],
          [
           17.75
          ],
          [
           14.8
          ],
          [
           14.53
          ],
          [
           21.1
          ],
          [
           11.87
          ],
          [
           19.59
          ],
          [
           12
          ],
          [
           14.53
          ],
          [
           12.62
          ],
          [
           13.38
          ],
          [
           11.63
          ],
          [
           13.21
          ],
          [
           13
          ],
          [
           9.755
          ],
          [
           17.08
          ],
          [
           27.42
          ],
          [
           14.4
          ],
          [
           11.6
          ],
          [
           13.17
          ],
          [
           13.24
          ],
          [
           13.14
          ],
          [
           9.668
          ],
          [
           17.6
          ],
          [
           11.62
          ],
          [
           9.667
          ],
          [
           12.04
          ],
          [
           14.92
          ],
          [
           12.27
          ],
          [
           10.88
          ],
          [
           12.83
          ],
          [
           14.2
          ],
          [
           13.9
          ],
          [
           11.49
          ],
          [
           16.25
          ],
          [
           12.16
          ],
          [
           13.9
          ],
          [
           13.47
          ],
          [
           13.7
          ],
          [
           15.73
          ],
          [
           12.45
          ],
          [
           14.64
          ],
          [
           19.44
          ],
          [
           11.68
          ],
          [
           16.69
          ],
          [
           12.25
          ],
          [
           17.85
          ],
          [
           18.01
          ],
          [
           12.46
          ],
          [
           13.16
          ],
          [
           14.87
          ],
          [
           12.65
          ],
          [
           12.47
          ],
          [
           18.49
          ],
          [
           20.59
          ],
          [
           15.04
          ],
          [
           13.82
          ],
          [
           12.54
          ],
          [
           23.09
          ],
          [
           9.268
          ],
          [
           9.676
          ],
          [
           12.22
          ],
          [
           11.06
          ],
          [
           16.3
          ],
          [
           15.46
          ],
          [
           11.74
          ],
          [
           14.81
          ],
          [
           13.4
          ],
          [
           14.58
          ],
          [
           15.05
          ],
          [
           11.34
          ],
          [
           18.31
          ],
          [
           19.89
          ],
          [
           12.88
          ],
          [
           12.75
          ],
          [
           9.295
          ],
          [
           24.63
          ],
          [
           11.26
          ],
          [
           13.71
          ],
          [
           9.847
          ],
          [
           8.571
          ],
          [
           13.46
          ],
          [
           12.34
          ],
          [
           13.94
          ],
          [
           12.07
          ],
          [
           11.75
          ],
          [
           11.67
          ],
          [
           13.68
          ],
          [
           20.47
          ],
          [
           10.96
          ],
          [
           20.55
          ],
          [
           14.27
          ],
          [
           11.69
          ],
          [
           7.729
          ],
          [
           7.691
          ],
          [
           11.54
          ],
          [
           14.47
          ],
          [
           14.74
          ],
          [
           13.21
          ],
          [
           13.87
          ],
          [
           13.62
          ],
          [
           10.32
          ],
          [
           10.26
          ],
          [
           9.683
          ],
          [
           10.82
          ],
          [
           10.86
          ],
          [
           11.13
          ],
          [
           12.77
          ],
          [
           9.333
          ],
          [
           12.88
          ],
          [
           10.29
          ],
          [
           10.16
          ],
          [
           9.423
          ],
          [
           14.59
          ]
         ],
         "hovertemplate": "0=%{x}<br>1=%{y}<br>Feature=%{customdata[0]}<br>Anomaly=%{marker.color}<extra></extra>",
         "legendgroup": "",
         "marker": {
          "color": [
           1,
           0,
           0,
           1,
           0,
           0,
           0,
           0,
           0,
           1,
           0,
           0,
           1,
           0,
           0,
           0,
           0,
           0,
           0,
           0,
           0,
           0,
           0,
           0,
           0,
           0,
           0,
           0,
           0,
           0,
           0,
           0,
           0,
           0,
           0,
           0,
           0,
           0,
           0,
           0,
           0,
           0,
           1,
           0,
           0,
           0,
           0,
           0,
           0,
           0,
           0,
           0,
           0,
           0,
           0,
           0,
           0,
           0,
           0,
           0,
           0,
           0,
           0,
           0,
           0,
           0,
           0,
           0,
           1,
           0,
           0,
           0,
           0,
           0,
           0,
           0,
           0,
           0,
           1,
           0,
           0,
           0,
           1,
           1,
           0,
           0,
           0,
           0,
           0,
           0,
           0,
           0,
           0,
           0,
           0,
           0,
           0,
           0,
           0,
           0,
           0,
           0,
           0,
           0,
           0,
           0,
           0,
           0,
           1,
           0,
           0,
           0,
           0,
           0,
           0,
           0,
           0,
           0,
           0,
           0,
           0,
           0,
           1,
           0,
           0,
           0,
           0,
           0,
           0,
           0,
           0,
           0,
           0,
           0,
           0,
           0,
           0,
           0,
           0,
           0,
           0,
           0,
           0,
           0,
           0,
           0,
           0,
           0,
           0,
           0,
           0,
           1,
           1,
           0,
           0,
           0,
           0,
           0,
           0,
           0,
           0,
           0,
           0,
           0,
           0,
           0,
           0,
           0,
           0,
           0,
           0,
           0,
           0,
           0,
           0,
           0,
           0,
           0,
           0,
           0,
           1,
           1,
           0,
           0,
           0,
           0,
           0,
           0,
           0,
           0,
           1,
           0,
           0,
           0,
           0,
           0,
           0,
           0,
           0,
           0,
           0,
           0,
           1,
           0,
           0,
           0,
           0,
           0,
           0,
           0,
           0,
           0,
           1,
           1,
           0,
           0,
           0,
           0,
           0,
           0,
           0,
           0,
           0,
           0,
           0,
           0,
           0,
           0,
           0,
           0,
           0,
           0,
           0,
           0,
           0,
           0,
           0,
           0,
           0,
           0,
           0,
           0,
           0,
           0,
           0,
           0,
           0,
           0,
           0,
           0,
           0,
           0,
           0,
           0,
           0,
           0,
           0,
           0,
           1,
           0,
           0,
           0,
           0,
           0,
           0,
           1,
           0,
           0,
           0,
           0,
           0,
           0,
           0,
           0,
           0,
           0,
           0,
           0,
           0,
           0,
           0,
           0,
           0,
           0,
           0,
           0,
           0,
           0,
           0,
           0,
           0,
           0,
           0,
           0,
           0,
           0,
           0,
           0,
           0,
           0,
           0,
           0,
           0,
           0,
           0,
           0,
           0,
           0,
           0,
           0,
           0,
           0,
           0,
           0,
           0,
           0,
           0,
           0,
           0,
           0,
           0,
           0,
           0,
           0,
           0,
           0,
           0,
           0,
           0,
           0,
           0,
           0,
           0,
           0,
           0,
           0,
           0,
           0,
           0,
           1,
           0,
           0,
           0,
           0,
           0,
           0,
           0,
           0,
           0,
           0,
           0,
           0,
           1,
           0,
           0,
           0,
           0,
           0,
           0,
           0,
           0,
           0,
           0,
           0,
           0,
           0,
           0,
           0,
           1,
           0,
           0,
           0,
           0,
           0,
           0,
           0,
           0,
           0,
           0,
           0,
           0,
           0,
           0,
           0,
           0,
           0,
           0,
           0,
           0,
           0,
           0,
           0,
           0,
           0,
           0,
           0,
           0,
           0,
           0,
           0,
           0,
           0,
           0,
           0,
           0,
           0,
           0,
           0,
           0,
           0,
           0,
           0,
           0,
           0,
           0,
           0,
           0,
           0,
           0,
           0,
           0,
           0,
           0,
           0,
           0,
           0,
           0,
           0,
           0,
           0,
           0,
           0,
           0,
           0,
           0,
           0,
           0,
           0,
           0,
           0,
           0,
           0,
           0,
           0,
           0,
           0,
           0,
           0,
           0,
           0,
           0,
           0,
           0,
           0,
           0,
           0,
           0,
           0,
           0,
           0,
           0,
           1,
           0,
           0,
           0,
           0,
           0,
           0,
           0,
           0,
           0,
           0,
           0,
           0,
           0,
           0,
           0,
           0,
           0,
           0,
           0,
           0,
           0,
           0,
           0,
           0,
           0,
           0,
           0,
           0,
           0,
           0,
           0,
           0,
           0,
           0,
           0,
           0,
           0,
           0,
           0,
           0,
           0,
           1,
           1,
           0,
           0,
           0,
           0,
           0,
           0,
           0,
           0,
           0,
           0,
           0,
           0,
           0,
           0,
           0,
           0,
           1,
           0,
           0,
           0,
           0,
           0,
           0,
           0,
           0,
           0,
           0,
           0,
           0,
           0,
           0,
           0,
           0,
           0,
           0,
           0,
           0,
           0,
           0,
           0,
           0,
           0,
           0,
           0,
           0,
           0,
           0,
           0,
           0,
           0,
           0,
           0,
           0,
           0
          ],
          "coloraxis": "coloraxis",
          "opacity": 0.7,
          "symbol": "circle"
         },
         "mode": "markers",
         "name": "",
         "orientation": "v",
         "showlegend": false,
         "type": "scatter",
         "x": [
          15.060107231140137,
          15.52652645111084,
          14.625838279724121,
          -1.774994969367981,
          14.623523712158203,
          4.185348987579346,
          13.573071479797363,
          7.2280449867248535,
          4.459402561187744,
          4.090445041656494,
          10.445399284362793,
          11.210650444030762,
          13.144739151000977,
          9.277793884277344,
          4.618153095245361,
          8.818897247314453,
          9.842550277709961,
          11.251513481140137,
          15.533550262451172,
          4.621863842010498,
          1.09503972530365,
          -1.8798646926879883,
          9.164161682128906,
          15.601613998413086,
          15.2373046875,
          12.789754867553711,
          8.232806205749512,
          13.226263999938965,
          11.244397163391113,
          12.388899803161621,
          13.855802536010742,
          7.026755332946777,
          12.553186416625977,
          14.869108200073242,
          11.212939262390137,
          12.06781005859375,
          7.269501209259033,
          -0.4278184175491333,
          6.79396915435791,
          4.948981761932373,
          6.249730587005615,
          -1.1833183765411377,
          13.81045150756836,
          7.155523777008057,
          4.562400817871094,
          13.65966796875,
          -2.415086507797241,
          4.617224216461182,
          -1.479818344116211,
          4.336396217346191,
          -1.2000750303268433,
          3.9714865684509277,
          -1.101023554801941,
          12.774128913879395,
          9.476665496826172,
          -1.352036714553833,
          15.327924728393555,
          9.004606246948242,
          0.9878715872764587,
          -2.177244186401367,
          -1.6324604749679565,
          -2.239705801010132,
          8.788667678833008,
          -1.9725186824798584,
          6.985342979431152,
          8.779016494750977,
          -1.837528944015503,
          -1.9182031154632568,
          -1.8704581260681152,
          -0.494217187166214,
          15.003739356994629,
          -2.077183723449707,
          13.458039283752441,
          6.69554328918457,
          0.8126370310783386,
          11.113856315612793,
          0.9103550910949707,
          13.56591510772705,
          14.673080444335938,
          0.8599878549575806,
          -1.0020831823349,
          0.6541936993598938,
          15.601221084594727,
          13.14604377746582,
          -1.5201804637908936,
          13.673961639404297,
          7.436711311340332,
          13.74404239654541,
          -1.3497308492660522,
          7.3994526863098145,
          7.421359062194824,
          8.175135612487793,
          6.88072395324707,
          4.375224590301514,
          9.371637344360352,
          14.921808242797852,
          -1.411566138267517,
          -1.8571767807006836,
          -1.2167195081710815,
          7.5693511962890625,
          7.223774433135986,
          -2.327118158340454,
          -0.9574857950210571,
          -1.8081930875778198,
          -1.8777683973312378,
          6.840488433837891,
          -1.0314948558807373,
          -0.7728670835494995,
          15.53188419342041,
          -1.1054422855377197,
          -1.868584394454956,
          -0.5590639114379883,
          5.846435070037842,
          -1.4014877080917358,
          -2.2278878688812256,
          -1.5742539167404175,
          -2.0796871185302734,
          9.67498779296875,
          11.195342063903809,
          12.548922538757324,
          -1.2761646509170532,
          13.604649543762207,
          15.594210624694824,
          6.33294153213501,
          1.0672048330307007,
          5.228850364685059,
          6.926331043243408,
          13.847164154052734,
          6.991660118103027,
          14.232699394226074,
          -0.9433243274688721,
          10.247687339782715,
          10.5995512008667,
          9.39523983001709,
          13.689762115478516,
          1.325250506401062,
          -1.8939231634140015,
          -2.110506772994995,
          9.0193510055542,
          -2.1816751956939697,
          -1.8415334224700928,
          11.199323654174805,
          -1.3575879335403442,
          1.3121082782745361,
          -2.0806689262390137,
          -1.2628319263458252,
          -1.5605753660202026,
          7.7432990074157715,
          6.387732028961182,
          5.206368446350098,
          0.9415761232376099,
          -2.374768018722534,
          -1.8559257984161377,
          -2.1774182319641113,
          3.807258367538452,
          -1.337159276008606,
          12.59833812713623,
          10.069964408874512,
          -0.9686468839645386,
          -1.638350009918213,
          -1.872177243232727,
          13.761723518371582,
          15.398426055908203,
          -0.9767439365386963,
          15.630535125732422,
          7.361762046813965,
          -2.1578118801116943,
          12.168478012084961,
          13.541698455810547,
          7.482954025268555,
          -0.8082324862480164,
          7.438215255737305,
          9.94973087310791,
          -2.1147518157958984,
          -2.00687313079834,
          -2.311847686767578,
          -1.8734376430511475,
          9.873732566833496,
          0.6060214638710022,
          -0.3943752348423004,
          15.655744552612305,
          15.511122703552246,
          11.261900901794434,
          -2.119961977005005,
          9.216891288757324,
          -1.9845235347747803,
          12.999403953552246,
          -1.0998836755752563,
          -1.7651479244232178,
          -0.8365511298179626,
          6.007925510406494,
          -0.30144572257995605,
          -1.8283056020736694,
          4.325050354003906,
          7.328960418701172,
          -0.025285176932811737,
          6.729484558105469,
          12.53747272491455,
          14.22656536102295,
          9.399604797363281,
          0.8521164655685425,
          12.389787673950195,
          15.594998359680176,
          9.74460506439209,
          3.726107597351074,
          9.22305965423584,
          -1.8020628690719604,
          12.179726600646973,
          1.2166595458984375,
          9.201704025268555,
          14.714838981628418,
          -1.738659143447876,
          15.660001754760742,
          10.11601448059082,
          6.839645862579346,
          5.436010360717773,
          -1.172691822052002,
          -1.8157232999801636,
          15.364595413208008,
          15.546297073364258,
          4.6482133865356445,
          4.166443824768066,
          -1.6824262142181396,
          10.002175331115723,
          4.431057453155518,
          8.039135932922363,
          -1.761169195175171,
          7.74714994430542,
          0.9453054070472717,
          4.097137928009033,
          12.206700325012207,
          -2.101738929748535,
          -1.8315210342407227,
          15.396024703979492,
          -1.8504308462142944,
          5.195105075836182,
          15.62718391418457,
          14.995962142944336,
          6.128324508666992,
          12.73183822631836,
          4.339437484741211,
          -0.6782428026199341,
          -1.7015690803527832,
          4.950315952301025,
          13.486445426940918,
          -1.9068347215652466,
          0.7251444458961487,
          1.135349154472351,
          -2.0327014923095703,
          -1.6235430240631104,
          15.546048164367676,
          -1.2573895454406738,
          15.249917984008789,
          12.299002647399902,
          15.210532188415527,
          6.839839935302734,
          15.29592514038086,
          9.156468391418457,
          11.14281177520752,
          9.622406959533691,
          15.279214859008789,
          12.314526557922363,
          12.509024620056152,
          9.425126075744629,
          12.818110466003418,
          15.582610130310059,
          -2.0203280448913574,
          3.876206874847412,
          -0.11478414386510849,
          -1.9390226602554321,
          4.894678592681885,
          -2.0812430381774902,
          15.600698471069336,
          -1.8592909574508667,
          12.695534706115723,
          -1.6630027294158936,
          -2.1599111557006836,
          12.926164627075195,
          5.203876972198486,
          4.230691432952881,
          14.376885414123535,
          -1.9239298105239868,
          14.100747108459473,
          9.962940216064453,
          -0.09489136934280396,
          -0.5579496622085571,
          -1.418095350265503,
          -0.31756916642189026,
          -2.1642441749572754,
          -2.123183488845825,
          6.913057804107666,
          7.689101219177246,
          -0.29780930280685425,
          -1.1768053770065308,
          -0.5159951448440552,
          4.177363872528076,
          -2.1145026683807373,
          -1.8741732835769653,
          7.26870584487915,
          -1.2600923776626587,
          15.306132316589355,
          -0.8492803573608398,
          14.705476760864258,
          -1.4254095554351807,
          -1.6759461164474487,
          -1.8526360988616943,
          1.1362903118133545,
          -2.08201265335083,
          4.4767985343933105,
          3.809399127960205,
          -1.8272815942764282,
          7.97841215133667,
          0.9449862241744995,
          -2.056929588317871,
          -2.421642780303955,
          -0.6508165597915649,
          -0.8487954139709473,
          13.1226167678833,
          -1.9999980926513672,
          -0.5589777231216431,
          -1.7726856470108032,
          14.715957641601562,
          -0.040882933884859085,
          15.42823600769043,
          -1.4536343812942505,
          -0.5282425880432129,
          5.987919330596924,
          -1.0331915616989136,
          10.324448585510254,
          9.833046913146973,
          10.001235961914062,
          1.25515878200531,
          -2.1481845378875732,
          -1.4295233488082886,
          -0.815730094909668,
          12.673995971679688,
          -0.34086817502975464,
          15.019862174987793,
          -1.769245982170105,
          15.588655471801758,
          8.087201118469238,
          -1.9124820232391357,
          -2.1294453144073486,
          13.979436874389648,
          -1.2266216278076172,
          -1.4169890880584717,
          -1.411072015762329,
          8.21268081665039,
          -1.8590724468231201,
          -1.5988067388534546,
          -1.8174700736999512,
          9.351365089416504,
          15.607821464538574,
          9.590725898742676,
          -2.133780002593994,
          -0.6721458435058594,
          -0.24257397651672363,
          4.8119611740112305,
          -1.9967397451400757,
          -2.0226356983184814,
          -0.45711642503738403,
          0.9791930317878723,
          -0.4675140082836151,
          9.995633125305176,
          3.821082592010498,
          15.054046630859375,
          14.654230117797852,
          0.7989922761917114,
          15.472640991210938,
          15.559141159057617,
          10.616893768310547,
          7.957566738128662,
          14.57243824005127,
          15.484950065612793,
          4.126633167266846,
          9.28065013885498,
          -1.3063645362854004,
          4.037847995758057,
          4.079202175140381,
          -1.3001606464385986,
          -1.6305264234542847,
          -2.0615947246551514,
          -1.4514251947402954,
          0.7445534467697144,
          0.9929438233375549,
          6.881561756134033,
          -0.7202181220054626,
          5.519045829772949,
          -2.1513044834136963,
          13.1998291015625,
          -1.777823567390442,
          -1.9307963848114014,
          11.272210121154785,
          15.535752296447754,
          -1.3883527517318726,
          4.677346229553223,
          3.9689090251922607,
          -0.3280107080936432,
          -1.4473298788070679,
          -1.6170432567596436,
          12.63637924194336,
          -1.500991702079773,
          0.959829568862915,
          -0.3790188431739807,
          -0.6383309960365295,
          -1.528964638710022,
          9.664488792419434,
          1.3702917098999023,
          12.707212448120117,
          0.7778907418251038,
          -1.0378451347351074,
          -1.5837703943252563,
          -1.9015066623687744,
          8.209823608398438,
          9.155221939086914,
          -1.1486217975616455,
          -1.901551365852356,
          13.55350112915039,
          -0.4832456707954407,
          -2.027651071548462,
          -1.0483826398849487,
          7.465812683105469,
          -1.9654192924499512,
          4.746532917022705,
          -1.922175645828247,
          -1.7626320123672485,
          -2.027871608734131,
          -1.3629523515701294,
          -2.1441702842712402,
          -0.43649822473526,
          7.862935543060303,
          -0.7198243141174316,
          13.883624076843262,
          13.744979858398438,
          7.217907428741455,
          7.080883979797363,
          1.1039788722991943,
          5.930191516876221,
          5.592850208282471,
          4.795094013214111,
          -1.4666200876235962,
          12.459158897399902,
          4.895956516265869,
          -1.3654786348342896,
          12.64054012298584,
          -1.117313027381897,
          12.91586971282959,
          7.996757984161377,
          7.845959186553955,
          15.637913703918457,
          -1.23359215259552,
          13.587169647216797,
          -1.101051688194275,
          6.384207725524902,
          1.0411953926086426,
          4.404999256134033,
          -1.0270938873291016,
          1.1131240129470825,
          1.0438419580459595,
          -1.8035888671875,
          13.541580200195312,
          15.629362106323242,
          6.290307998657227,
          -1.6381865739822388,
          3.8774218559265137,
          4.613303184509277,
          3.963207244873047,
          -1.922825574874878,
          12.882270812988281,
          -1.0350604057312012,
          -1.9445124864578247,
          -1.337276816368103,
          8.686281204223633,
          -1.0978177785873413,
          -2.0845935344696045,
          0.04305814951658249,
          6.986177444458008,
          5.228672504425049,
          -2.0523719787597656,
          9.693256378173828,
          -1.0139083862304688,
          6.881936550140381,
          3.780336856842041,
          4.258537769317627,
          8.876391410827637,
          -0.6343249082565308,
          7.8871636390686035,
          14.496835708618164,
          -1.8070257902145386,
          10.163029670715332,
          0.8702114224433899,
          12.436467170715332,
          12.927420616149902,
          -0.5530920624732971,
          1.3251919746398926,
          7.340762138366699,
          0.9605636596679688,
          0.7730786204338074,
          13.64111042022705,
          15.030816078186035,
          8.195062637329102,
          6.572839736938477,
          -0.7346633076667786,
          15.552610397338867,
          -1.9935582876205444,
          -1.8897838592529297,
          -0.9717805981636047,
          -2.166564702987671,
          9.673394203186035,
          9.168952941894531,
          -1.8802372217178345,
          7.146525859832764,
          6.849709510803223,
          8.117212295532227,
          9.088946342468262,
          -1.7033828496932983,
          13.230910301208496,
          14.460944175720215,
          3.759795904159546,
          0.9554640054702759,
          -1.870428204536438,
          15.543266296386719,
          -2.1614203453063965,
          4.6127448081970215,
          -1.8660706281661987,
          -2.235731601715088,
          4.602072238922119,
          -1.0853372812271118,
          4.101528167724609,
          -1.2218677997589111,
          -1.7708998918533325,
          -1.7745987176895142,
          5.643163681030273,
          14.706842422485352,
          -2.144033193588257,
          15.102971076965332,
          6.072079181671143,
          -1.7255948781967163,
          -2.4060113430023193,
          -2.3950791358947754,
          -2.1349799633026123,
          7.503664970397949,
          7.816840171813965,
          1.0812063217163086,
          4.581801414489746,
          5.145638465881348,
          -1.6488503217697144,
          -1.3365435600280762,
          -1.9025604724884033,
          -1.3112128973007202,
          -2.118039846420288,
          -2.1500563621520996,
          -0.14304426312446594,
          -1.9450080394744873,
          -0.22891737520694733,
          -1.333417296409607,
          -1.494418740272522,
          -1.837980031967163,
          6.426985263824463
         ],
         "xaxis": "x",
         "y": [
          2.5914087295532227,
          2.5815553665161133,
          3.8070147037506104,
          6.27861213684082,
          4.138935089111328,
          12.171870231628418,
          4.20277214050293,
          10.801033973693848,
          12.28942584991455,
          12.206657409667969,
          8.849019050598145,
          7.96649694442749,
          5.970093727111816,
          10.647934913635254,
          13.093672752380371,
          10.233137130737305,
          9.235078811645508,
          7.92086124420166,
          1.754083275794983,
          12.929272651672363,
          10.838652610778809,
          -2.937262773513794,
          9.901248931884766,
          1.5401809215545654,
          2.3821351528167725,
          5.775534152984619,
          10.906333923339844,
          5.652566909790039,
          7.934119701385498,
          6.764862060546875,
          4.052633285522461,
          10.813992500305176,
          6.241246700286865,
          3.067676544189453,
          7.967963218688965,
          7.090487003326416,
          11.74091625213623,
          8.53194808959961,
          12.641762733459473,
          12.481268882751465,
          11.617920875549316,
          3.2039310932159424,
          4.1561784744262695,
          10.814948081970215,
          12.341254234313965,
          4.452927112579346,
          -4.081905841827393,
          12.24288558959961,
          7.563074588775635,
          12.907098770141602,
          4.7621169090271,
          13.46177864074707,
          5.269040107727051,
          6.3723039627075195,
          9.618254661560059,
          3.8169541358947754,
          2.3131768703460693,
          9.89980411529541,
          10.81284236907959,
          -3.8023548126220703,
          -1.118889570236206,
          -3.8824303150177,
          10.095727920532227,
          -3.1337451934814453,
          10.881708145141602,
          10.389931678771973,
          -2.723475217819214,
          2.6357498168945312,
          -3.063225746154785,
          8.504470825195312,
          2.8345792293548584,
          -3.5498268604278564,
          4.139613628387451,
          11.22531509399414,
          9.727130889892578,
          8.08121109008789,
          11.231095314025879,
          4.150617599487305,
          4.071170330047607,
          10.44108772277832,
          4.1126017570495605,
          10.62719440460205,
          1.476556658744812,
          6.020366668701172,
          7.270135402679443,
          4.295053958892822,
          11.891265869140625,
          4.298785209655762,
          7.620753288269043,
          11.897494316101074,
          11.9532470703125,
          11.68968391418457,
          11.023695945739746,
          12.905754089355469,
          9.599279403686523,
          3.57855486869812,
          4.710423946380615,
          -1.6407643556594849,
          4.0197553634643555,
          11.591293334960938,
          10.790200233459473,
          -3.9915273189544678,
          7.0949788093566895,
          -1.736681342124939,
          -0.19039568305015564,
          10.996981620788574,
          4.227478981018066,
          7.11366605758667,
          1.7001004219055176,
          3.895814895629883,
          -1.6898664236068726,
          6.683808326721191,
          12.967844009399414,
          -0.8968091607093811,
          -3.728551149368286,
          7.464106559753418,
          -3.6638197898864746,
          9.370078086853027,
          7.98347806930542,
          6.563736438751221,
          3.826324939727783,
          4.529175758361816,
          2.076934337615967,
          12.699280738830566,
          11.285531044006348,
          12.848295211791992,
          10.977346420288086,
          4.725235462188721,
          12.572260856628418,
          4.342309474945068,
          6.96147346496582,
          8.968049049377441,
          8.691603660583496,
          10.439581871032715,
          4.341813564300537,
          10.658662796020508,
          6.2892165184021,
          2.674799680709839,
          10.02001667022705,
          1.6656957864761353,
          -2.3190016746520996,
          7.986307621002197,
          3.589705467224121,
          10.636375427246094,
          0.9490979909896851,
          4.691125392913818,
          7.46100378036499,
          12.053155899047852,
          12.632102012634277,
          12.768935203552246,
          10.662381172180176,
          -4.04209566116333,
          -1.2275372743606567,
          1.6560698747634888,
          13.00806713104248,
          7.388833045959473,
          6.492254257202148,
          9.853466987609863,
          5.959201335906982,
          2.502030849456787,
          6.339035511016846,
          4.841184139251709,
          2.169009208679199,
          7.207082748413086,
          1.687713623046875,
          12.452201843261719,
          0.46350499987602234,
          6.955223083496094,
          4.083924770355225,
          12.33719253540039,
          7.193471908569336,
          10.623438835144043,
          9.260658264160156,
          0.3915311098098755,
          0.18522951006889343,
          -3.939417600631714,
          -1.1495050191879272,
          10.04205322265625,
          10.6913423538208,
          8.889759063720703,
          1.2383955717086792,
          2.3119163513183594,
          7.91641902923584,
          2.7927896976470947,
          9.966346740722656,
          -0.005578324664384127,
          5.667255401611328,
          4.376309394836426,
          4.049015522003174,
          7.184563636779785,
          12.527729988098145,
          9.261271476745605,
          -2.8529717922210693,
          12.17905330657959,
          12.413063049316406,
          9.651688575744629,
          11.320104598999023,
          6.655664920806885,
          3.8700995445251465,
          9.576582908630371,
          9.825638771057129,
          6.760794162750244,
          2.0913703441619873,
          9.30487060546875,
          12.149453163146973,
          9.815376281738281,
          -2.388927936553955,
          6.983470916748047,
          11.163888931274414,
          10.375659942626953,
          4.005126476287842,
          6.397710800170898,
          1.3532315492630005,
          9.84489631652832,
          11.398324012756348,
          12.439929008483887,
          5.287275791168213,
          -0.36677753925323486,
          2.4501867294311523,
          1.723899006843567,
          13.003040313720703,
          13.174386978149414,
          -1.0283745527267456,
          9.301850318908691,
          12.673896789550781,
          11.170652389526367,
          -0.44011256098747253,
          12.064656257629395,
          10.345739364624023,
          12.267833709716797,
          6.988949775695801,
          2.272146224975586,
          2.5505642890930176,
          2.8704488277435303,
          -2.5200066566467285,
          13.078447341918945,
          1.2183037996292114,
          3.55983304977417,
          12.607972145080566,
          5.912413597106934,
          13.384577751159668,
          7.297299385070801,
          2.7447056770324707,
          13.147180557250977,
          5.372263431549072,
          -0.07423233240842819,
          11.010982513427734,
          10.676239967346191,
          0.9851482510566711,
          3.581289529800415,
          2.2981443405151367,
          3.817826271057129,
          2.6437337398529053,
          6.865411281585693,
          2.5281543731689453,
          11.196995735168457,
          2.586657762527466,
          10.283987998962402,
          8.041725158691406,
          9.585247993469238,
          3.0298831462860107,
          6.854349136352539,
          6.486137390136719,
          9.907625198364258,
          5.753207206726074,
          1.260633111000061,
          0.26810339093208313,
          13.3545503616333,
          9.515692710876465,
          0.11194496601819992,
          13.441864967346191,
          2.3305134773254395,
          1.6863881349563599,
          -1.8969323635101318,
          6.333880424499512,
          4.114322662353516,
          2.4465889930725098,
          6.27464485168457,
          12.546281814575195,
          13.541110038757324,
          3.675750494003296,
          6.203501224517822,
          4.182809829711914,
          9.748778343200684,
          9.522818565368652,
          8.48592472076416,
          6.7244553565979,
          9.04845142364502,
          1.82833993434906,
          2.3867599964141846,
          12.484600067138672,
          12.123027801513672,
          9.159977912902832,
          5.008156776428223,
          8.370742797851562,
          13.5564603805542,
          0.36624208092689514,
          6.357760429382324,
          11.615009307861328,
          -1.026468276977539,
          2.368116855621338,
          7.252634525299072,
          3.9323654174804688,
          -0.8703771233558655,
          3.5343055725097656,
          3.602416753768921,
          11.277844429016113,
          -3.5943071842193604,
          13.034180641174316,
          12.916289329528809,
          3.677403688430786,
          11.538914680480957,
          10.387833595275879,
          2.967738151550293,
          -4.0837931632995605,
          7.405757904052734,
          5.85214376449585,
          5.398040294647217,
          -3.3346505165100098,
          6.566986083984375,
          -0.5360982418060303,
          4.0296735763549805,
          9.5888671875,
          2.561843156814575,
          7.649372100830078,
          8.723759651184082,
          12.60836410522461,
          5.4213786125183105,
          9.083072662353516,
          10.131966590881348,
          9.47118091583252,
          10.635446548461914,
          1.6288992166519165,
          3.2106807231903076,
          7.074738502502441,
          6.082043170928955,
          9.006757736206055,
          2.7268168926239014,
          -0.9250032305717468,
          1.3005762100219727,
          11.24160099029541,
          -2.03706693649292,
          1.4788732528686523,
          4.667595386505127,
          4.446300983428955,
          -1.1809829473495483,
          7.166925430297852,
          11.056644439697266,
          3.1341660022735596,
          4.216516971588135,
          6.315600395202637,
          10.512893676757812,
          1.2628422975540161,
          9.496074676513672,
          2.1436800956726074,
          7.543212890625,
          9.3922758102417,
          13.366547584533691,
          -3.326918601989746,
          -0.556329071521759,
          8.941091537475586,
          11.227749824523926,
          8.861775398254395,
          9.898540496826172,
          13.253656387329102,
          3.4484353065490723,
          3.9645957946777344,
          9.735733032226562,
          1.1112034320831299,
          1.840741515159607,
          8.698934555053711,
          11.939538955688477,
          4.250572681427002,
          2.525479793548584,
          13.515459060668945,
          10.646848678588867,
          -1.0528861284255981,
          13.119577407836914,
          13.493147850036621,
          2.990095376968384,
          2.799124240875244,
          1.5275986194610596,
          4.589726448059082,
          9.66236686706543,
          11.240738868713379,
          12.634352684020996,
          6.474775791168213,
          12.578503608703613,
          2.148681640625,
          5.907088756561279,
          -0.4965520203113556,
          -3.2070584297180176,
          7.902130603790283,
          2.2914669513702393,
          7.035009384155273,
          13.472946166992188,
          13.231816291809082,
          9.280985832214355,
          2.920156478881836,
          6.8527092933654785,
          6.409146785736084,
          7.51331090927124,
          10.816093444824219,
          9.038532257080078,
          6.75388765335083,
          2.615020751953125,
          10.264447212219238,
          10.687806129455566,
          6.238470077514648,
          9.700925827026367,
          4.013733863830566,
          2.571134328842163,
          -3.0172345638275146,
          11.271928787231445,
          10.365202903747559,
          5.102723598480225,
          -1.911431074142456,
          4.095479488372803,
          8.663825988769531,
          2.3418338298797607,
          4.158114433288574,
          11.94089412689209,
          3.2057363986968994,
          12.991249084472656,
          -1.3201624155044556,
          -1.3026520013809204,
          0.4675261080265045,
          2.7813560962677,
          1.224565029144287,
          9.015396118164062,
          11.757731437683105,
          6.25034761428833,
          4.86309289932251,
          4.336398124694824,
          12.516010284423828,
          10.956199645996094,
          10.568520545959473,
          12.623324394226074,
          12.558411598205566,
          13.410346031188965,
          2.7194223403930664,
          6.554813861846924,
          13.114629745483398,
          -0.964292049407959,
          6.424107074737549,
          5.1363067626953125,
          5.678652286529541,
          11.755532264709473,
          11.649850845336914,
          2.260174036026001,
          4.825636386871338,
          5.223854064941406,
          5.243051528930664,
          12.672568321228027,
          10.290120124816895,
          12.804232597351074,
          4.288821220397949,
          11.180480003356934,
          10.806398391723633,
          -1.9772332906723022,
          4.088648796081543,
          1.2660030126571655,
          12.773473739624023,
          3.716754913330078,
          12.945063591003418,
          12.396574974060059,
          12.889695167541504,
          -1.4753862619400024,
          5.70949649810791,
          4.19807243347168,
          -1.4442719221115112,
          7.14801025390625,
          10.609288215637207,
          7.2571258544921875,
          0.850028395652771,
          9.709272384643555,
          11.381246566772461,
          13.039658546447754,
          2.8898842334747314,
          10.269633293151855,
          7.078372001647949,
          11.214365005493164,
          13.188157081604004,
          13.305688858032227,
          11.028121948242188,
          8.793625831604004,
          11.64387321472168,
          3.6261653900146484,
          6.352734565734863,
          9.577028274536133,
          9.814769744873047,
          6.749709129333496,
          5.66213321685791,
          6.785918712615967,
          11.331621170043945,
          12.451834678649902,
          10.135169982910156,
          9.744986534118652,
          4.3158698081970215,
          3.491748809814453,
          11.329014778137207,
          11.551444053649902,
          7.389816761016846,
          1.275925636291504,
          -3.300183057785034,
          -2.6913695335388184,
          5.538866996765137,
          0.45088979601860046,
          10.287225723266602,
          10.46908950805664,
          3.6495535373687744,
          12.644377708435059,
          11.013155937194824,
          11.216798782348633,
          9.99941635131836,
          2.833583116531372,
          5.244159698486328,
          4.138498783111572,
          12.194690704345703,
          10.331917762756348,
          -2.943535566329956,
          1.3629242181777954,
          1.618114948272705,
          13.091545104980469,
          -1.483710765838623,
          -3.872715473175049,
          12.566898345947266,
          7.464025974273682,
          13.555084228515625,
          6.918574333190918,
          6.45148229598999,
          6.31536865234375,
          12.271798133850098,
          4.0684590339660645,
          0.45227423310279846,
          3.364853858947754,
          12.848281860351562,
          3.5707881450653076,
          -4.090070724487305,
          -4.0704026222229,
          2.570117473602295,
          11.796493530273438,
          11.690052032470703,
          11.201315879821777,
          13.348294258117676,
          12.657383918762207,
          -0.6952232122421265,
          -1.1459933519363403,
          -1.8695706129074097,
          2.950765609741211,
          0.3301234841346741,
          1.5393311977386475,
          9.523435592651367,
          -3.2018890380859375,
          9.433974266052246,
          -1.1832572221755981,
          -1.4621191024780273,
          -2.7189085483551025,
          12.73173999786377
         ],
         "yaxis": "y"
        }
       ],
       "layout": {
        "coloraxis": {
         "colorbar": {
          "title": {
           "text": "Anomaly"
          }
         },
         "colorscale": [
          [
           0,
           "#0d0887"
          ],
          [
           0.1111111111111111,
           "#46039f"
          ],
          [
           0.2222222222222222,
           "#7201a8"
          ],
          [
           0.3333333333333333,
           "#9c179e"
          ],
          [
           0.4444444444444444,
           "#bd3786"
          ],
          [
           0.5555555555555556,
           "#d8576b"
          ],
          [
           0.6666666666666666,
           "#ed7953"
          ],
          [
           0.7777777777777778,
           "#fb9f3a"
          ],
          [
           0.8888888888888888,
           "#fdca26"
          ],
          [
           1,
           "#f0f921"
          ]
         ]
        },
        "height": 800,
        "legend": {
         "tracegroupgap": 0
        },
        "template": {
         "data": {
          "bar": [
           {
            "error_x": {
             "color": "#2a3f5f"
            },
            "error_y": {
             "color": "#2a3f5f"
            },
            "marker": {
             "line": {
              "color": "#E5ECF6",
              "width": 0.5
             }
            },
            "type": "bar"
           }
          ],
          "barpolar": [
           {
            "marker": {
             "line": {
              "color": "#E5ECF6",
              "width": 0.5
             }
            },
            "type": "barpolar"
           }
          ],
          "carpet": [
           {
            "aaxis": {
             "endlinecolor": "#2a3f5f",
             "gridcolor": "white",
             "linecolor": "white",
             "minorgridcolor": "white",
             "startlinecolor": "#2a3f5f"
            },
            "baxis": {
             "endlinecolor": "#2a3f5f",
             "gridcolor": "white",
             "linecolor": "white",
             "minorgridcolor": "white",
             "startlinecolor": "#2a3f5f"
            },
            "type": "carpet"
           }
          ],
          "choropleth": [
           {
            "colorbar": {
             "outlinewidth": 0,
             "ticks": ""
            },
            "type": "choropleth"
           }
          ],
          "contour": [
           {
            "colorbar": {
             "outlinewidth": 0,
             "ticks": ""
            },
            "colorscale": [
             [
              0,
              "#0d0887"
             ],
             [
              0.1111111111111111,
              "#46039f"
             ],
             [
              0.2222222222222222,
              "#7201a8"
             ],
             [
              0.3333333333333333,
              "#9c179e"
             ],
             [
              0.4444444444444444,
              "#bd3786"
             ],
             [
              0.5555555555555556,
              "#d8576b"
             ],
             [
              0.6666666666666666,
              "#ed7953"
             ],
             [
              0.7777777777777778,
              "#fb9f3a"
             ],
             [
              0.8888888888888888,
              "#fdca26"
             ],
             [
              1,
              "#f0f921"
             ]
            ],
            "type": "contour"
           }
          ],
          "contourcarpet": [
           {
            "colorbar": {
             "outlinewidth": 0,
             "ticks": ""
            },
            "type": "contourcarpet"
           }
          ],
          "heatmap": [
           {
            "colorbar": {
             "outlinewidth": 0,
             "ticks": ""
            },
            "colorscale": [
             [
              0,
              "#0d0887"
             ],
             [
              0.1111111111111111,
              "#46039f"
             ],
             [
              0.2222222222222222,
              "#7201a8"
             ],
             [
              0.3333333333333333,
              "#9c179e"
             ],
             [
              0.4444444444444444,
              "#bd3786"
             ],
             [
              0.5555555555555556,
              "#d8576b"
             ],
             [
              0.6666666666666666,
              "#ed7953"
             ],
             [
              0.7777777777777778,
              "#fb9f3a"
             ],
             [
              0.8888888888888888,
              "#fdca26"
             ],
             [
              1,
              "#f0f921"
             ]
            ],
            "type": "heatmap"
           }
          ],
          "heatmapgl": [
           {
            "colorbar": {
             "outlinewidth": 0,
             "ticks": ""
            },
            "colorscale": [
             [
              0,
              "#0d0887"
             ],
             [
              0.1111111111111111,
              "#46039f"
             ],
             [
              0.2222222222222222,
              "#7201a8"
             ],
             [
              0.3333333333333333,
              "#9c179e"
             ],
             [
              0.4444444444444444,
              "#bd3786"
             ],
             [
              0.5555555555555556,
              "#d8576b"
             ],
             [
              0.6666666666666666,
              "#ed7953"
             ],
             [
              0.7777777777777778,
              "#fb9f3a"
             ],
             [
              0.8888888888888888,
              "#fdca26"
             ],
             [
              1,
              "#f0f921"
             ]
            ],
            "type": "heatmapgl"
           }
          ],
          "histogram": [
           {
            "marker": {
             "colorbar": {
              "outlinewidth": 0,
              "ticks": ""
             }
            },
            "type": "histogram"
           }
          ],
          "histogram2d": [
           {
            "colorbar": {
             "outlinewidth": 0,
             "ticks": ""
            },
            "colorscale": [
             [
              0,
              "#0d0887"
             ],
             [
              0.1111111111111111,
              "#46039f"
             ],
             [
              0.2222222222222222,
              "#7201a8"
             ],
             [
              0.3333333333333333,
              "#9c179e"
             ],
             [
              0.4444444444444444,
              "#bd3786"
             ],
             [
              0.5555555555555556,
              "#d8576b"
             ],
             [
              0.6666666666666666,
              "#ed7953"
             ],
             [
              0.7777777777777778,
              "#fb9f3a"
             ],
             [
              0.8888888888888888,
              "#fdca26"
             ],
             [
              1,
              "#f0f921"
             ]
            ],
            "type": "histogram2d"
           }
          ],
          "histogram2dcontour": [
           {
            "colorbar": {
             "outlinewidth": 0,
             "ticks": ""
            },
            "colorscale": [
             [
              0,
              "#0d0887"
             ],
             [
              0.1111111111111111,
              "#46039f"
             ],
             [
              0.2222222222222222,
              "#7201a8"
             ],
             [
              0.3333333333333333,
              "#9c179e"
             ],
             [
              0.4444444444444444,
              "#bd3786"
             ],
             [
              0.5555555555555556,
              "#d8576b"
             ],
             [
              0.6666666666666666,
              "#ed7953"
             ],
             [
              0.7777777777777778,
              "#fb9f3a"
             ],
             [
              0.8888888888888888,
              "#fdca26"
             ],
             [
              1,
              "#f0f921"
             ]
            ],
            "type": "histogram2dcontour"
           }
          ],
          "mesh3d": [
           {
            "colorbar": {
             "outlinewidth": 0,
             "ticks": ""
            },
            "type": "mesh3d"
           }
          ],
          "parcoords": [
           {
            "line": {
             "colorbar": {
              "outlinewidth": 0,
              "ticks": ""
             }
            },
            "type": "parcoords"
           }
          ],
          "pie": [
           {
            "automargin": true,
            "type": "pie"
           }
          ],
          "scatter": [
           {
            "marker": {
             "colorbar": {
              "outlinewidth": 0,
              "ticks": ""
             }
            },
            "type": "scatter"
           }
          ],
          "scatter3d": [
           {
            "line": {
             "colorbar": {
              "outlinewidth": 0,
              "ticks": ""
             }
            },
            "marker": {
             "colorbar": {
              "outlinewidth": 0,
              "ticks": ""
             }
            },
            "type": "scatter3d"
           }
          ],
          "scattercarpet": [
           {
            "marker": {
             "colorbar": {
              "outlinewidth": 0,
              "ticks": ""
             }
            },
            "type": "scattercarpet"
           }
          ],
          "scattergeo": [
           {
            "marker": {
             "colorbar": {
              "outlinewidth": 0,
              "ticks": ""
             }
            },
            "type": "scattergeo"
           }
          ],
          "scattergl": [
           {
            "marker": {
             "colorbar": {
              "outlinewidth": 0,
              "ticks": ""
             }
            },
            "type": "scattergl"
           }
          ],
          "scattermapbox": [
           {
            "marker": {
             "colorbar": {
              "outlinewidth": 0,
              "ticks": ""
             }
            },
            "type": "scattermapbox"
           }
          ],
          "scatterpolar": [
           {
            "marker": {
             "colorbar": {
              "outlinewidth": 0,
              "ticks": ""
             }
            },
            "type": "scatterpolar"
           }
          ],
          "scatterpolargl": [
           {
            "marker": {
             "colorbar": {
              "outlinewidth": 0,
              "ticks": ""
             }
            },
            "type": "scatterpolargl"
           }
          ],
          "scatterternary": [
           {
            "marker": {
             "colorbar": {
              "outlinewidth": 0,
              "ticks": ""
             }
            },
            "type": "scatterternary"
           }
          ],
          "surface": [
           {
            "colorbar": {
             "outlinewidth": 0,
             "ticks": ""
            },
            "colorscale": [
             [
              0,
              "#0d0887"
             ],
             [
              0.1111111111111111,
              "#46039f"
             ],
             [
              0.2222222222222222,
              "#7201a8"
             ],
             [
              0.3333333333333333,
              "#9c179e"
             ],
             [
              0.4444444444444444,
              "#bd3786"
             ],
             [
              0.5555555555555556,
              "#d8576b"
             ],
             [
              0.6666666666666666,
              "#ed7953"
             ],
             [
              0.7777777777777778,
              "#fb9f3a"
             ],
             [
              0.8888888888888888,
              "#fdca26"
             ],
             [
              1,
              "#f0f921"
             ]
            ],
            "type": "surface"
           }
          ],
          "table": [
           {
            "cells": {
             "fill": {
              "color": "#EBF0F8"
             },
             "line": {
              "color": "white"
             }
            },
            "header": {
             "fill": {
              "color": "#C8D4E3"
             },
             "line": {
              "color": "white"
             }
            },
            "type": "table"
           }
          ]
         },
         "layout": {
          "annotationdefaults": {
           "arrowcolor": "#2a3f5f",
           "arrowhead": 0,
           "arrowwidth": 1
          },
          "coloraxis": {
           "colorbar": {
            "outlinewidth": 0,
            "ticks": ""
           }
          },
          "colorscale": {
           "diverging": [
            [
             0,
             "#8e0152"
            ],
            [
             0.1,
             "#c51b7d"
            ],
            [
             0.2,
             "#de77ae"
            ],
            [
             0.3,
             "#f1b6da"
            ],
            [
             0.4,
             "#fde0ef"
            ],
            [
             0.5,
             "#f7f7f7"
            ],
            [
             0.6,
             "#e6f5d0"
            ],
            [
             0.7,
             "#b8e186"
            ],
            [
             0.8,
             "#7fbc41"
            ],
            [
             0.9,
             "#4d9221"
            ],
            [
             1,
             "#276419"
            ]
           ],
           "sequential": [
            [
             0,
             "#0d0887"
            ],
            [
             0.1111111111111111,
             "#46039f"
            ],
            [
             0.2222222222222222,
             "#7201a8"
            ],
            [
             0.3333333333333333,
             "#9c179e"
            ],
            [
             0.4444444444444444,
             "#bd3786"
            ],
            [
             0.5555555555555556,
             "#d8576b"
            ],
            [
             0.6666666666666666,
             "#ed7953"
            ],
            [
             0.7777777777777778,
             "#fb9f3a"
            ],
            [
             0.8888888888888888,
             "#fdca26"
            ],
            [
             1,
             "#f0f921"
            ]
           ],
           "sequentialminus": [
            [
             0,
             "#0d0887"
            ],
            [
             0.1111111111111111,
             "#46039f"
            ],
            [
             0.2222222222222222,
             "#7201a8"
            ],
            [
             0.3333333333333333,
             "#9c179e"
            ],
            [
             0.4444444444444444,
             "#bd3786"
            ],
            [
             0.5555555555555556,
             "#d8576b"
            ],
            [
             0.6666666666666666,
             "#ed7953"
            ],
            [
             0.7777777777777778,
             "#fb9f3a"
            ],
            [
             0.8888888888888888,
             "#fdca26"
            ],
            [
             1,
             "#f0f921"
            ]
           ]
          },
          "colorway": [
           "#636efa",
           "#EF553B",
           "#00cc96",
           "#ab63fa",
           "#FFA15A",
           "#19d3f3",
           "#FF6692",
           "#B6E880",
           "#FF97FF",
           "#FECB52"
          ],
          "font": {
           "color": "#2a3f5f"
          },
          "geo": {
           "bgcolor": "white",
           "lakecolor": "white",
           "landcolor": "#E5ECF6",
           "showlakes": true,
           "showland": true,
           "subunitcolor": "white"
          },
          "hoverlabel": {
           "align": "left"
          },
          "hovermode": "closest",
          "mapbox": {
           "style": "light"
          },
          "paper_bgcolor": "white",
          "plot_bgcolor": "#E5ECF6",
          "polar": {
           "angularaxis": {
            "gridcolor": "white",
            "linecolor": "white",
            "ticks": ""
           },
           "bgcolor": "#E5ECF6",
           "radialaxis": {
            "gridcolor": "white",
            "linecolor": "white",
            "ticks": ""
           }
          },
          "scene": {
           "xaxis": {
            "backgroundcolor": "#E5ECF6",
            "gridcolor": "white",
            "gridwidth": 2,
            "linecolor": "white",
            "showbackground": true,
            "ticks": "",
            "zerolinecolor": "white"
           },
           "yaxis": {
            "backgroundcolor": "#E5ECF6",
            "gridcolor": "white",
            "gridwidth": 2,
            "linecolor": "white",
            "showbackground": true,
            "ticks": "",
            "zerolinecolor": "white"
           },
           "zaxis": {
            "backgroundcolor": "#E5ECF6",
            "gridcolor": "white",
            "gridwidth": 2,
            "linecolor": "white",
            "showbackground": true,
            "ticks": "",
            "zerolinecolor": "white"
           }
          },
          "shapedefaults": {
           "line": {
            "color": "#2a3f5f"
           }
          },
          "ternary": {
           "aaxis": {
            "gridcolor": "white",
            "linecolor": "white",
            "ticks": ""
           },
           "baxis": {
            "gridcolor": "white",
            "linecolor": "white",
            "ticks": ""
           },
           "bgcolor": "#E5ECF6",
           "caxis": {
            "gridcolor": "white",
            "linecolor": "white",
            "ticks": ""
           }
          },
          "title": {
           "x": 0.05
          },
          "xaxis": {
           "automargin": true,
           "gridcolor": "white",
           "linecolor": "white",
           "ticks": "",
           "title": {
            "standoff": 15
           },
           "zerolinecolor": "white",
           "zerolinewidth": 2
          },
          "yaxis": {
           "automargin": true,
           "gridcolor": "white",
           "linecolor": "white",
           "ticks": "",
           "title": {
            "standoff": 15
           },
           "zerolinecolor": "white",
           "zerolinewidth": 2
          }
         }
        },
        "title": {
         "text": "uMAP Plot for Outliers"
        },
        "width": 900,
        "xaxis": {
         "anchor": "y",
         "domain": [
          0,
          1
         ],
         "title": {
          "text": "0"
         }
        },
        "yaxis": {
         "anchor": "x",
         "domain": [
          0,
          1
         ],
         "title": {
          "text": "1"
         }
        }
       }
      },
      "text/html": [
       "<div>                            <div id=\"e35a6a28-b845-4a3a-9d7f-944e445b6b8f\" class=\"plotly-graph-div\" style=\"height:800px; width:900px;\"></div>            <script type=\"text/javascript\">                require([\"plotly\"], function(Plotly) {                    window.PLOTLYENV=window.PLOTLYENV || {};                                    if (document.getElementById(\"e35a6a28-b845-4a3a-9d7f-944e445b6b8f\")) {                    Plotly.newPlot(                        \"e35a6a28-b845-4a3a-9d7f-944e445b6b8f\",                        [{\"customdata\": [[17.99], [20.57], [19.69], [11.42], [20.29], [12.45], [18.25], [13.71], [13.0], [12.46], [16.02], [15.78], [19.17], [15.85], [13.73], [14.54], [14.68], [16.13], [19.81], [13.54], [13.08], [9.504], [15.34], [21.16], [16.65], [17.14], [14.58], [18.61], [15.3], [17.57], [18.63], [11.84], [17.02], [19.27], [16.13], [16.74], [14.25], [13.03], [14.99], [13.48], [13.44], [10.95], [19.07], [13.28], [13.17], [18.65], [8.196], [13.17], [12.05], [13.49], [11.76], [13.64], [11.94], [18.22], [15.1], [11.52], [19.21], [14.71], [13.05], [8.618], [10.17], [8.598], [14.25], [9.173], [12.68], [14.78], [9.465], [11.31], [9.029], [12.78], [18.94], [8.888], [17.2], [13.8], [12.31], [16.07], [13.53], [18.05], [20.18], [12.86], [11.45], [13.34], [25.22], [19.1], [12.0], [18.46], [14.48], [19.02], [12.36], [14.64], [14.62], [15.37], [13.27], [13.45], [15.06], [20.26], [12.18], [9.787], [11.6], [14.42], [13.61], [6.981], [12.18], [9.876], [10.49], [13.11], [11.64], [12.36], [22.27], [11.34], [9.777], [12.63], [14.26], [10.51], [8.726], [11.93], [8.95], [14.87], [15.78], [17.95], [11.41], [18.66], [24.25], [14.5], [13.37], [13.85], [13.61], [19.0], [15.1], [19.79], [12.19], [15.46], [16.16], [15.71], [18.45], [12.77], [11.71], [11.43], [14.95], [11.28], [9.738], [16.11], [11.43], [12.9], [10.75], [11.9], [11.8], [14.95], [14.44], [13.74], [13.0], [8.219], [9.731], [11.15], [13.15], [12.25], [17.68], [16.84], [12.06], [10.9], [11.75], [19.19], [19.59], [12.34], [23.27], [14.97], [10.8], [16.78], [17.47], [14.97], [12.32], [13.43], [15.46], [11.08], [10.66], [8.671], [9.904], [16.46], [13.01], [12.81], [27.22], [21.09], [15.7], [11.41], [15.28], [10.08], [18.31], [11.71], [11.81], [12.3], [14.22], [12.77], [9.72], [12.34], [14.86], [12.91], [13.77], [18.08], [19.18], [14.45], [12.23], [17.54], [23.29], [13.81], [12.47], [15.12], [9.876], [17.01], [13.11], [15.27], [20.58], [11.84], [28.11], [17.42], [14.19], [13.86], [11.89], [10.2], [19.8], [19.53], [13.65], [13.56], [10.18], [15.75], [13.27], [14.34], [10.44], [15.0], [12.62], [12.83], [17.05], [11.32], [11.22], [20.51], [9.567], [14.03], [23.21], [20.48], [14.22], [17.46], [13.64], [12.42], [11.3], [13.75], [19.4], [10.48], [13.2], [12.89], [10.65], [11.52], [20.94], [11.5], [19.73], [17.3], [19.45], [13.96], [19.55], [15.32], [15.66], [15.53], [20.31], [17.35], [17.29], [15.61], [17.19], [20.73], [10.6], [13.59], [12.87], [10.71], [14.29], [11.29], [21.75], [9.742], [17.93], [11.89], [11.33], [18.81], [13.59], [13.85], [19.16], [11.74], [19.4], [16.24], [12.89], [12.58], [11.94], [12.89], [11.26], [11.37], [14.41], [14.96], [12.95], [11.85], [12.72], [13.77], [10.91], [11.76], [14.26], [10.51], [19.53], [12.46], [20.09], [10.49], [11.46], [11.6], [13.2], [9.0], [13.5], [13.05], [11.7], [14.61], [12.76], [11.54], [8.597], [12.49], [12.18], [18.22], [9.042], [12.43], [10.25], [20.16], [12.86], [20.34], [12.2], [12.67], [14.11], [12.03], [16.27], [16.26], [16.03], [12.98], [11.22], [11.25], [12.3], [17.06], [12.99], [18.77], [10.05], [23.51], [14.42], [9.606], [11.06], [19.68], [11.71], [10.26], [12.06], [14.76], [11.47], [11.95], [11.66], [15.75], [25.73], [15.08], [11.14], [12.56], [13.05], [13.87], [8.878], [9.436], [12.54], [13.3], [12.76], [16.5], [13.4], [20.44], [20.2], [12.21], [21.71], [22.01], [16.35], [15.19], [21.37], [20.64], [13.69], [16.17], [10.57], [13.46], [13.66], [11.08], [11.27], [11.04], [12.05], [12.39], [13.28], [14.6], [12.21], [13.88], [11.27], [19.55], [10.26], [8.734], [15.49], [21.61], [12.1], [14.06], [13.51], [12.8], [11.06], [11.8], [17.91], [11.93], [12.96], [12.94], [12.34], [10.94], [16.14], [12.85], [17.99], [12.27], [11.36], [11.04], [9.397], [14.99], [15.13], [11.89], [9.405], [15.5], [12.7], [11.16], [11.57], [14.69], [11.61], [13.66], [9.742], [10.03], [10.48], [10.8], [11.13], [12.72], [14.9], [12.4], [20.18], [18.82], [14.86], [13.98], [12.87], [14.04], [13.85], [14.02], [10.97], [17.27], [13.78], [10.57], [18.03], [11.99], [17.75], [14.8], [14.53], [21.1], [11.87], [19.59], [12.0], [14.53], [12.62], [13.38], [11.63], [13.21], [13.0], [9.755], [17.08], [27.42], [14.4], [11.6], [13.17], [13.24], [13.14], [9.668], [17.6], [11.62], [9.667], [12.04], [14.92], [12.27], [10.88], [12.83], [14.2], [13.9], [11.49], [16.25], [12.16], [13.9], [13.47], [13.7], [15.73], [12.45], [14.64], [19.44], [11.68], [16.69], [12.25], [17.85], [18.01], [12.46], [13.16], [14.87], [12.65], [12.47], [18.49], [20.59], [15.04], [13.82], [12.54], [23.09], [9.268], [9.676], [12.22], [11.06], [16.3], [15.46], [11.74], [14.81], [13.4], [14.58], [15.05], [11.34], [18.31], [19.89], [12.88], [12.75], [9.295], [24.63], [11.26], [13.71], [9.847], [8.571], [13.46], [12.34], [13.94], [12.07], [11.75], [11.67], [13.68], [20.47], [10.96], [20.55], [14.27], [11.69], [7.729], [7.691], [11.54], [14.47], [14.74], [13.21], [13.87], [13.62], [10.32], [10.26], [9.683], [10.82], [10.86], [11.13], [12.77], [9.333], [12.88], [10.29], [10.16], [9.423], [14.59]], \"hovertemplate\": \"0=%{x}<br>1=%{y}<br>Feature=%{customdata[0]}<br>Anomaly=%{marker.color}<extra></extra>\", \"legendgroup\": \"\", \"marker\": {\"color\": [1, 0, 0, 1, 0, 0, 0, 0, 0, 1, 0, 0, 1, 0, 0, 0, 0, 0, 0, 0, 0, 0, 0, 0, 0, 0, 0, 0, 0, 0, 0, 0, 0, 0, 0, 0, 0, 0, 0, 0, 0, 0, 1, 0, 0, 0, 0, 0, 0, 0, 0, 0, 0, 0, 0, 0, 0, 0, 0, 0, 0, 0, 0, 0, 0, 0, 0, 0, 1, 0, 0, 0, 0, 0, 0, 0, 0, 0, 1, 0, 0, 0, 1, 1, 0, 0, 0, 0, 0, 0, 0, 0, 0, 0, 0, 0, 0, 0, 0, 0, 0, 0, 0, 0, 0, 0, 0, 0, 1, 0, 0, 0, 0, 0, 0, 0, 0, 0, 0, 0, 0, 0, 1, 0, 0, 0, 0, 0, 0, 0, 0, 0, 0, 0, 0, 0, 0, 0, 0, 0, 0, 0, 0, 0, 0, 0, 0, 0, 0, 0, 0, 1, 1, 0, 0, 0, 0, 0, 0, 0, 0, 0, 0, 0, 0, 0, 0, 0, 0, 0, 0, 0, 0, 0, 0, 0, 0, 0, 0, 0, 1, 1, 0, 0, 0, 0, 0, 0, 0, 0, 1, 0, 0, 0, 0, 0, 0, 0, 0, 0, 0, 0, 1, 0, 0, 0, 0, 0, 0, 0, 0, 0, 1, 1, 0, 0, 0, 0, 0, 0, 0, 0, 0, 0, 0, 0, 0, 0, 0, 0, 0, 0, 0, 0, 0, 0, 0, 0, 0, 0, 0, 0, 0, 0, 0, 0, 0, 0, 0, 0, 0, 0, 0, 0, 0, 0, 0, 0, 1, 0, 0, 0, 0, 0, 0, 1, 0, 0, 0, 0, 0, 0, 0, 0, 0, 0, 0, 0, 0, 0, 0, 0, 0, 0, 0, 0, 0, 0, 0, 0, 0, 0, 0, 0, 0, 0, 0, 0, 0, 0, 0, 0, 0, 0, 0, 0, 0, 0, 0, 0, 0, 0, 0, 0, 0, 0, 0, 0, 0, 0, 0, 0, 0, 0, 0, 0, 0, 0, 0, 0, 0, 0, 0, 0, 0, 0, 0, 0, 0, 1, 0, 0, 0, 0, 0, 0, 0, 0, 0, 0, 0, 0, 1, 0, 0, 0, 0, 0, 0, 0, 0, 0, 0, 0, 0, 0, 0, 0, 1, 0, 0, 0, 0, 0, 0, 0, 0, 0, 0, 0, 0, 0, 0, 0, 0, 0, 0, 0, 0, 0, 0, 0, 0, 0, 0, 0, 0, 0, 0, 0, 0, 0, 0, 0, 0, 0, 0, 0, 0, 0, 0, 0, 0, 0, 0, 0, 0, 0, 0, 0, 0, 0, 0, 0, 0, 0, 0, 0, 0, 0, 0, 0, 0, 0, 0, 0, 0, 0, 0, 0, 0, 0, 0, 0, 0, 0, 0, 0, 0, 0, 0, 0, 0, 0, 0, 0, 0, 0, 0, 0, 0, 1, 0, 0, 0, 0, 0, 0, 0, 0, 0, 0, 0, 0, 0, 0, 0, 0, 0, 0, 0, 0, 0, 0, 0, 0, 0, 0, 0, 0, 0, 0, 0, 0, 0, 0, 0, 0, 0, 0, 0, 0, 0, 1, 1, 0, 0, 0, 0, 0, 0, 0, 0, 0, 0, 0, 0, 0, 0, 0, 0, 1, 0, 0, 0, 0, 0, 0, 0, 0, 0, 0, 0, 0, 0, 0, 0, 0, 0, 0, 0, 0, 0, 0, 0, 0, 0, 0, 0, 0, 0, 0, 0, 0, 0, 0, 0, 0, 0], \"coloraxis\": \"coloraxis\", \"opacity\": 0.7, \"symbol\": \"circle\"}, \"mode\": \"markers\", \"name\": \"\", \"orientation\": \"v\", \"showlegend\": false, \"type\": \"scatter\", \"x\": [15.060107231140137, 15.52652645111084, 14.625838279724121, -1.774994969367981, 14.623523712158203, 4.185348987579346, 13.573071479797363, 7.2280449867248535, 4.459402561187744, 4.090445041656494, 10.445399284362793, 11.210650444030762, 13.144739151000977, 9.277793884277344, 4.618153095245361, 8.818897247314453, 9.842550277709961, 11.251513481140137, 15.533550262451172, 4.621863842010498, 1.09503972530365, -1.8798646926879883, 9.164161682128906, 15.601613998413086, 15.2373046875, 12.789754867553711, 8.232806205749512, 13.226263999938965, 11.244397163391113, 12.388899803161621, 13.855802536010742, 7.026755332946777, 12.553186416625977, 14.869108200073242, 11.212939262390137, 12.06781005859375, 7.269501209259033, -0.4278184175491333, 6.79396915435791, 4.948981761932373, 6.249730587005615, -1.1833183765411377, 13.81045150756836, 7.155523777008057, 4.562400817871094, 13.65966796875, -2.415086507797241, 4.617224216461182, -1.479818344116211, 4.336396217346191, -1.2000750303268433, 3.9714865684509277, -1.101023554801941, 12.774128913879395, 9.476665496826172, -1.352036714553833, 15.327924728393555, 9.004606246948242, 0.9878715872764587, -2.177244186401367, -1.6324604749679565, -2.239705801010132, 8.788667678833008, -1.9725186824798584, 6.985342979431152, 8.779016494750977, -1.837528944015503, -1.9182031154632568, -1.8704581260681152, -0.494217187166214, 15.003739356994629, -2.077183723449707, 13.458039283752441, 6.69554328918457, 0.8126370310783386, 11.113856315612793, 0.9103550910949707, 13.56591510772705, 14.673080444335938, 0.8599878549575806, -1.0020831823349, 0.6541936993598938, 15.601221084594727, 13.14604377746582, -1.5201804637908936, 13.673961639404297, 7.436711311340332, 13.74404239654541, -1.3497308492660522, 7.3994526863098145, 7.421359062194824, 8.175135612487793, 6.88072395324707, 4.375224590301514, 9.371637344360352, 14.921808242797852, -1.411566138267517, -1.8571767807006836, -1.2167195081710815, 7.5693511962890625, 7.223774433135986, -2.327118158340454, -0.9574857950210571, -1.8081930875778198, -1.8777683973312378, 6.840488433837891, -1.0314948558807373, -0.7728670835494995, 15.53188419342041, -1.1054422855377197, -1.868584394454956, -0.5590639114379883, 5.846435070037842, -1.4014877080917358, -2.2278878688812256, -1.5742539167404175, -2.0796871185302734, 9.67498779296875, 11.195342063903809, 12.548922538757324, -1.2761646509170532, 13.604649543762207, 15.594210624694824, 6.33294153213501, 1.0672048330307007, 5.228850364685059, 6.926331043243408, 13.847164154052734, 6.991660118103027, 14.232699394226074, -0.9433243274688721, 10.247687339782715, 10.5995512008667, 9.39523983001709, 13.689762115478516, 1.325250506401062, -1.8939231634140015, -2.110506772994995, 9.0193510055542, -2.1816751956939697, -1.8415334224700928, 11.199323654174805, -1.3575879335403442, 1.3121082782745361, -2.0806689262390137, -1.2628319263458252, -1.5605753660202026, 7.7432990074157715, 6.387732028961182, 5.206368446350098, 0.9415761232376099, -2.374768018722534, -1.8559257984161377, -2.1774182319641113, 3.807258367538452, -1.337159276008606, 12.59833812713623, 10.069964408874512, -0.9686468839645386, -1.638350009918213, -1.872177243232727, 13.761723518371582, 15.398426055908203, -0.9767439365386963, 15.630535125732422, 7.361762046813965, -2.1578118801116943, 12.168478012084961, 13.541698455810547, 7.482954025268555, -0.8082324862480164, 7.438215255737305, 9.94973087310791, -2.1147518157958984, -2.00687313079834, -2.311847686767578, -1.8734376430511475, 9.873732566833496, 0.6060214638710022, -0.3943752348423004, 15.655744552612305, 15.511122703552246, 11.261900901794434, -2.119961977005005, 9.216891288757324, -1.9845235347747803, 12.999403953552246, -1.0998836755752563, -1.7651479244232178, -0.8365511298179626, 6.007925510406494, -0.30144572257995605, -1.8283056020736694, 4.325050354003906, 7.328960418701172, -0.025285176932811737, 6.729484558105469, 12.53747272491455, 14.22656536102295, 9.399604797363281, 0.8521164655685425, 12.389787673950195, 15.594998359680176, 9.74460506439209, 3.726107597351074, 9.22305965423584, -1.8020628690719604, 12.179726600646973, 1.2166595458984375, 9.201704025268555, 14.714838981628418, -1.738659143447876, 15.660001754760742, 10.11601448059082, 6.839645862579346, 5.436010360717773, -1.172691822052002, -1.8157232999801636, 15.364595413208008, 15.546297073364258, 4.6482133865356445, 4.166443824768066, -1.6824262142181396, 10.002175331115723, 4.431057453155518, 8.039135932922363, -1.761169195175171, 7.74714994430542, 0.9453054070472717, 4.097137928009033, 12.206700325012207, -2.101738929748535, -1.8315210342407227, 15.396024703979492, -1.8504308462142944, 5.195105075836182, 15.62718391418457, 14.995962142944336, 6.128324508666992, 12.73183822631836, 4.339437484741211, -0.6782428026199341, -1.7015690803527832, 4.950315952301025, 13.486445426940918, -1.9068347215652466, 0.7251444458961487, 1.135349154472351, -2.0327014923095703, -1.6235430240631104, 15.546048164367676, -1.2573895454406738, 15.249917984008789, 12.299002647399902, 15.210532188415527, 6.839839935302734, 15.29592514038086, 9.156468391418457, 11.14281177520752, 9.622406959533691, 15.279214859008789, 12.314526557922363, 12.509024620056152, 9.425126075744629, 12.818110466003418, 15.582610130310059, -2.0203280448913574, 3.876206874847412, -0.11478414386510849, -1.9390226602554321, 4.894678592681885, -2.0812430381774902, 15.600698471069336, -1.8592909574508667, 12.695534706115723, -1.6630027294158936, -2.1599111557006836, 12.926164627075195, 5.203876972198486, 4.230691432952881, 14.376885414123535, -1.9239298105239868, 14.100747108459473, 9.962940216064453, -0.09489136934280396, -0.5579496622085571, -1.418095350265503, -0.31756916642189026, -2.1642441749572754, -2.123183488845825, 6.913057804107666, 7.689101219177246, -0.29780930280685425, -1.1768053770065308, -0.5159951448440552, 4.177363872528076, -2.1145026683807373, -1.8741732835769653, 7.26870584487915, -1.2600923776626587, 15.306132316589355, -0.8492803573608398, 14.705476760864258, -1.4254095554351807, -1.6759461164474487, -1.8526360988616943, 1.1362903118133545, -2.08201265335083, 4.4767985343933105, 3.809399127960205, -1.8272815942764282, 7.97841215133667, 0.9449862241744995, -2.056929588317871, -2.421642780303955, -0.6508165597915649, -0.8487954139709473, 13.1226167678833, -1.9999980926513672, -0.5589777231216431, -1.7726856470108032, 14.715957641601562, -0.040882933884859085, 15.42823600769043, -1.4536343812942505, -0.5282425880432129, 5.987919330596924, -1.0331915616989136, 10.324448585510254, 9.833046913146973, 10.001235961914062, 1.25515878200531, -2.1481845378875732, -1.4295233488082886, -0.815730094909668, 12.673995971679688, -0.34086817502975464, 15.019862174987793, -1.769245982170105, 15.588655471801758, 8.087201118469238, -1.9124820232391357, -2.1294453144073486, 13.979436874389648, -1.2266216278076172, -1.4169890880584717, -1.411072015762329, 8.21268081665039, -1.8590724468231201, -1.5988067388534546, -1.8174700736999512, 9.351365089416504, 15.607821464538574, 9.590725898742676, -2.133780002593994, -0.6721458435058594, -0.24257397651672363, 4.8119611740112305, -1.9967397451400757, -2.0226356983184814, -0.45711642503738403, 0.9791930317878723, -0.4675140082836151, 9.995633125305176, 3.821082592010498, 15.054046630859375, 14.654230117797852, 0.7989922761917114, 15.472640991210938, 15.559141159057617, 10.616893768310547, 7.957566738128662, 14.57243824005127, 15.484950065612793, 4.126633167266846, 9.28065013885498, -1.3063645362854004, 4.037847995758057, 4.079202175140381, -1.3001606464385986, -1.6305264234542847, -2.0615947246551514, -1.4514251947402954, 0.7445534467697144, 0.9929438233375549, 6.881561756134033, -0.7202181220054626, 5.519045829772949, -2.1513044834136963, 13.1998291015625, -1.777823567390442, -1.9307963848114014, 11.272210121154785, 15.535752296447754, -1.3883527517318726, 4.677346229553223, 3.9689090251922607, -0.3280107080936432, -1.4473298788070679, -1.6170432567596436, 12.63637924194336, -1.500991702079773, 0.959829568862915, -0.3790188431739807, -0.6383309960365295, -1.528964638710022, 9.664488792419434, 1.3702917098999023, 12.707212448120117, 0.7778907418251038, -1.0378451347351074, -1.5837703943252563, -1.9015066623687744, 8.209823608398438, 9.155221939086914, -1.1486217975616455, -1.901551365852356, 13.55350112915039, -0.4832456707954407, -2.027651071548462, -1.0483826398849487, 7.465812683105469, -1.9654192924499512, 4.746532917022705, -1.922175645828247, -1.7626320123672485, -2.027871608734131, -1.3629523515701294, -2.1441702842712402, -0.43649822473526, 7.862935543060303, -0.7198243141174316, 13.883624076843262, 13.744979858398438, 7.217907428741455, 7.080883979797363, 1.1039788722991943, 5.930191516876221, 5.592850208282471, 4.795094013214111, -1.4666200876235962, 12.459158897399902, 4.895956516265869, -1.3654786348342896, 12.64054012298584, -1.117313027381897, 12.91586971282959, 7.996757984161377, 7.845959186553955, 15.637913703918457, -1.23359215259552, 13.587169647216797, -1.101051688194275, 6.384207725524902, 1.0411953926086426, 4.404999256134033, -1.0270938873291016, 1.1131240129470825, 1.0438419580459595, -1.8035888671875, 13.541580200195312, 15.629362106323242, 6.290307998657227, -1.6381865739822388, 3.8774218559265137, 4.613303184509277, 3.963207244873047, -1.922825574874878, 12.882270812988281, -1.0350604057312012, -1.9445124864578247, -1.337276816368103, 8.686281204223633, -1.0978177785873413, -2.0845935344696045, 0.04305814951658249, 6.986177444458008, 5.228672504425049, -2.0523719787597656, 9.693256378173828, -1.0139083862304688, 6.881936550140381, 3.780336856842041, 4.258537769317627, 8.876391410827637, -0.6343249082565308, 7.8871636390686035, 14.496835708618164, -1.8070257902145386, 10.163029670715332, 0.8702114224433899, 12.436467170715332, 12.927420616149902, -0.5530920624732971, 1.3251919746398926, 7.340762138366699, 0.9605636596679688, 0.7730786204338074, 13.64111042022705, 15.030816078186035, 8.195062637329102, 6.572839736938477, -0.7346633076667786, 15.552610397338867, -1.9935582876205444, -1.8897838592529297, -0.9717805981636047, -2.166564702987671, 9.673394203186035, 9.168952941894531, -1.8802372217178345, 7.146525859832764, 6.849709510803223, 8.117212295532227, 9.088946342468262, -1.7033828496932983, 13.230910301208496, 14.460944175720215, 3.759795904159546, 0.9554640054702759, -1.870428204536438, 15.543266296386719, -2.1614203453063965, 4.6127448081970215, -1.8660706281661987, -2.235731601715088, 4.602072238922119, -1.0853372812271118, 4.101528167724609, -1.2218677997589111, -1.7708998918533325, -1.7745987176895142, 5.643163681030273, 14.706842422485352, -2.144033193588257, 15.102971076965332, 6.072079181671143, -1.7255948781967163, -2.4060113430023193, -2.3950791358947754, -2.1349799633026123, 7.503664970397949, 7.816840171813965, 1.0812063217163086, 4.581801414489746, 5.145638465881348, -1.6488503217697144, -1.3365435600280762, -1.9025604724884033, -1.3112128973007202, -2.118039846420288, -2.1500563621520996, -0.14304426312446594, -1.9450080394744873, -0.22891737520694733, -1.333417296409607, -1.494418740272522, -1.837980031967163, 6.426985263824463], \"xaxis\": \"x\", \"y\": [2.5914087295532227, 2.5815553665161133, 3.8070147037506104, 6.27861213684082, 4.138935089111328, 12.171870231628418, 4.20277214050293, 10.801033973693848, 12.28942584991455, 12.206657409667969, 8.849019050598145, 7.96649694442749, 5.970093727111816, 10.647934913635254, 13.093672752380371, 10.233137130737305, 9.235078811645508, 7.92086124420166, 1.754083275794983, 12.929272651672363, 10.838652610778809, -2.937262773513794, 9.901248931884766, 1.5401809215545654, 2.3821351528167725, 5.775534152984619, 10.906333923339844, 5.652566909790039, 7.934119701385498, 6.764862060546875, 4.052633285522461, 10.813992500305176, 6.241246700286865, 3.067676544189453, 7.967963218688965, 7.090487003326416, 11.74091625213623, 8.53194808959961, 12.641762733459473, 12.481268882751465, 11.617920875549316, 3.2039310932159424, 4.1561784744262695, 10.814948081970215, 12.341254234313965, 4.452927112579346, -4.081905841827393, 12.24288558959961, 7.563074588775635, 12.907098770141602, 4.7621169090271, 13.46177864074707, 5.269040107727051, 6.3723039627075195, 9.618254661560059, 3.8169541358947754, 2.3131768703460693, 9.89980411529541, 10.81284236907959, -3.8023548126220703, -1.118889570236206, -3.8824303150177, 10.095727920532227, -3.1337451934814453, 10.881708145141602, 10.389931678771973, -2.723475217819214, 2.6357498168945312, -3.063225746154785, 8.504470825195312, 2.8345792293548584, -3.5498268604278564, 4.139613628387451, 11.22531509399414, 9.727130889892578, 8.08121109008789, 11.231095314025879, 4.150617599487305, 4.071170330047607, 10.44108772277832, 4.1126017570495605, 10.62719440460205, 1.476556658744812, 6.020366668701172, 7.270135402679443, 4.295053958892822, 11.891265869140625, 4.298785209655762, 7.620753288269043, 11.897494316101074, 11.9532470703125, 11.68968391418457, 11.023695945739746, 12.905754089355469, 9.599279403686523, 3.57855486869812, 4.710423946380615, -1.6407643556594849, 4.0197553634643555, 11.591293334960938, 10.790200233459473, -3.9915273189544678, 7.0949788093566895, -1.736681342124939, -0.19039568305015564, 10.996981620788574, 4.227478981018066, 7.11366605758667, 1.7001004219055176, 3.895814895629883, -1.6898664236068726, 6.683808326721191, 12.967844009399414, -0.8968091607093811, -3.728551149368286, 7.464106559753418, -3.6638197898864746, 9.370078086853027, 7.98347806930542, 6.563736438751221, 3.826324939727783, 4.529175758361816, 2.076934337615967, 12.699280738830566, 11.285531044006348, 12.848295211791992, 10.977346420288086, 4.725235462188721, 12.572260856628418, 4.342309474945068, 6.96147346496582, 8.968049049377441, 8.691603660583496, 10.439581871032715, 4.341813564300537, 10.658662796020508, 6.2892165184021, 2.674799680709839, 10.02001667022705, 1.6656957864761353, -2.3190016746520996, 7.986307621002197, 3.589705467224121, 10.636375427246094, 0.9490979909896851, 4.691125392913818, 7.46100378036499, 12.053155899047852, 12.632102012634277, 12.768935203552246, 10.662381172180176, -4.04209566116333, -1.2275372743606567, 1.6560698747634888, 13.00806713104248, 7.388833045959473, 6.492254257202148, 9.853466987609863, 5.959201335906982, 2.502030849456787, 6.339035511016846, 4.841184139251709, 2.169009208679199, 7.207082748413086, 1.687713623046875, 12.452201843261719, 0.46350499987602234, 6.955223083496094, 4.083924770355225, 12.33719253540039, 7.193471908569336, 10.623438835144043, 9.260658264160156, 0.3915311098098755, 0.18522951006889343, -3.939417600631714, -1.1495050191879272, 10.04205322265625, 10.6913423538208, 8.889759063720703, 1.2383955717086792, 2.3119163513183594, 7.91641902923584, 2.7927896976470947, 9.966346740722656, -0.005578324664384127, 5.667255401611328, 4.376309394836426, 4.049015522003174, 7.184563636779785, 12.527729988098145, 9.261271476745605, -2.8529717922210693, 12.17905330657959, 12.413063049316406, 9.651688575744629, 11.320104598999023, 6.655664920806885, 3.8700995445251465, 9.576582908630371, 9.825638771057129, 6.760794162750244, 2.0913703441619873, 9.30487060546875, 12.149453163146973, 9.815376281738281, -2.388927936553955, 6.983470916748047, 11.163888931274414, 10.375659942626953, 4.005126476287842, 6.397710800170898, 1.3532315492630005, 9.84489631652832, 11.398324012756348, 12.439929008483887, 5.287275791168213, -0.36677753925323486, 2.4501867294311523, 1.723899006843567, 13.003040313720703, 13.174386978149414, -1.0283745527267456, 9.301850318908691, 12.673896789550781, 11.170652389526367, -0.44011256098747253, 12.064656257629395, 10.345739364624023, 12.267833709716797, 6.988949775695801, 2.272146224975586, 2.5505642890930176, 2.8704488277435303, -2.5200066566467285, 13.078447341918945, 1.2183037996292114, 3.55983304977417, 12.607972145080566, 5.912413597106934, 13.384577751159668, 7.297299385070801, 2.7447056770324707, 13.147180557250977, 5.372263431549072, -0.07423233240842819, 11.010982513427734, 10.676239967346191, 0.9851482510566711, 3.581289529800415, 2.2981443405151367, 3.817826271057129, 2.6437337398529053, 6.865411281585693, 2.5281543731689453, 11.196995735168457, 2.586657762527466, 10.283987998962402, 8.041725158691406, 9.585247993469238, 3.0298831462860107, 6.854349136352539, 6.486137390136719, 9.907625198364258, 5.753207206726074, 1.260633111000061, 0.26810339093208313, 13.3545503616333, 9.515692710876465, 0.11194496601819992, 13.441864967346191, 2.3305134773254395, 1.6863881349563599, -1.8969323635101318, 6.333880424499512, 4.114322662353516, 2.4465889930725098, 6.27464485168457, 12.546281814575195, 13.541110038757324, 3.675750494003296, 6.203501224517822, 4.182809829711914, 9.748778343200684, 9.522818565368652, 8.48592472076416, 6.7244553565979, 9.04845142364502, 1.82833993434906, 2.3867599964141846, 12.484600067138672, 12.123027801513672, 9.159977912902832, 5.008156776428223, 8.370742797851562, 13.5564603805542, 0.36624208092689514, 6.357760429382324, 11.615009307861328, -1.026468276977539, 2.368116855621338, 7.252634525299072, 3.9323654174804688, -0.8703771233558655, 3.5343055725097656, 3.602416753768921, 11.277844429016113, -3.5943071842193604, 13.034180641174316, 12.916289329528809, 3.677403688430786, 11.538914680480957, 10.387833595275879, 2.967738151550293, -4.0837931632995605, 7.405757904052734, 5.85214376449585, 5.398040294647217, -3.3346505165100098, 6.566986083984375, -0.5360982418060303, 4.0296735763549805, 9.5888671875, 2.561843156814575, 7.649372100830078, 8.723759651184082, 12.60836410522461, 5.4213786125183105, 9.083072662353516, 10.131966590881348, 9.47118091583252, 10.635446548461914, 1.6288992166519165, 3.2106807231903076, 7.074738502502441, 6.082043170928955, 9.006757736206055, 2.7268168926239014, -0.9250032305717468, 1.3005762100219727, 11.24160099029541, -2.03706693649292, 1.4788732528686523, 4.667595386505127, 4.446300983428955, -1.1809829473495483, 7.166925430297852, 11.056644439697266, 3.1341660022735596, 4.216516971588135, 6.315600395202637, 10.512893676757812, 1.2628422975540161, 9.496074676513672, 2.1436800956726074, 7.543212890625, 9.3922758102417, 13.366547584533691, -3.326918601989746, -0.556329071521759, 8.941091537475586, 11.227749824523926, 8.861775398254395, 9.898540496826172, 13.253656387329102, 3.4484353065490723, 3.9645957946777344, 9.735733032226562, 1.1112034320831299, 1.840741515159607, 8.698934555053711, 11.939538955688477, 4.250572681427002, 2.525479793548584, 13.515459060668945, 10.646848678588867, -1.0528861284255981, 13.119577407836914, 13.493147850036621, 2.990095376968384, 2.799124240875244, 1.5275986194610596, 4.589726448059082, 9.66236686706543, 11.240738868713379, 12.634352684020996, 6.474775791168213, 12.578503608703613, 2.148681640625, 5.907088756561279, -0.4965520203113556, -3.2070584297180176, 7.902130603790283, 2.2914669513702393, 7.035009384155273, 13.472946166992188, 13.231816291809082, 9.280985832214355, 2.920156478881836, 6.8527092933654785, 6.409146785736084, 7.51331090927124, 10.816093444824219, 9.038532257080078, 6.75388765335083, 2.615020751953125, 10.264447212219238, 10.687806129455566, 6.238470077514648, 9.700925827026367, 4.013733863830566, 2.571134328842163, -3.0172345638275146, 11.271928787231445, 10.365202903747559, 5.102723598480225, -1.911431074142456, 4.095479488372803, 8.663825988769531, 2.3418338298797607, 4.158114433288574, 11.94089412689209, 3.2057363986968994, 12.991249084472656, -1.3201624155044556, -1.3026520013809204, 0.4675261080265045, 2.7813560962677, 1.224565029144287, 9.015396118164062, 11.757731437683105, 6.25034761428833, 4.86309289932251, 4.336398124694824, 12.516010284423828, 10.956199645996094, 10.568520545959473, 12.623324394226074, 12.558411598205566, 13.410346031188965, 2.7194223403930664, 6.554813861846924, 13.114629745483398, -0.964292049407959, 6.424107074737549, 5.1363067626953125, 5.678652286529541, 11.755532264709473, 11.649850845336914, 2.260174036026001, 4.825636386871338, 5.223854064941406, 5.243051528930664, 12.672568321228027, 10.290120124816895, 12.804232597351074, 4.288821220397949, 11.180480003356934, 10.806398391723633, -1.9772332906723022, 4.088648796081543, 1.2660030126571655, 12.773473739624023, 3.716754913330078, 12.945063591003418, 12.396574974060059, 12.889695167541504, -1.4753862619400024, 5.70949649810791, 4.19807243347168, -1.4442719221115112, 7.14801025390625, 10.609288215637207, 7.2571258544921875, 0.850028395652771, 9.709272384643555, 11.381246566772461, 13.039658546447754, 2.8898842334747314, 10.269633293151855, 7.078372001647949, 11.214365005493164, 13.188157081604004, 13.305688858032227, 11.028121948242188, 8.793625831604004, 11.64387321472168, 3.6261653900146484, 6.352734565734863, 9.577028274536133, 9.814769744873047, 6.749709129333496, 5.66213321685791, 6.785918712615967, 11.331621170043945, 12.451834678649902, 10.135169982910156, 9.744986534118652, 4.3158698081970215, 3.491748809814453, 11.329014778137207, 11.551444053649902, 7.389816761016846, 1.275925636291504, -3.300183057785034, -2.6913695335388184, 5.538866996765137, 0.45088979601860046, 10.287225723266602, 10.46908950805664, 3.6495535373687744, 12.644377708435059, 11.013155937194824, 11.216798782348633, 9.99941635131836, 2.833583116531372, 5.244159698486328, 4.138498783111572, 12.194690704345703, 10.331917762756348, -2.943535566329956, 1.3629242181777954, 1.618114948272705, 13.091545104980469, -1.483710765838623, -3.872715473175049, 12.566898345947266, 7.464025974273682, 13.555084228515625, 6.918574333190918, 6.45148229598999, 6.31536865234375, 12.271798133850098, 4.0684590339660645, 0.45227423310279846, 3.364853858947754, 12.848281860351562, 3.5707881450653076, -4.090070724487305, -4.0704026222229, 2.570117473602295, 11.796493530273438, 11.690052032470703, 11.201315879821777, 13.348294258117676, 12.657383918762207, -0.6952232122421265, -1.1459933519363403, -1.8695706129074097, 2.950765609741211, 0.3301234841346741, 1.5393311977386475, 9.523435592651367, -3.2018890380859375, 9.433974266052246, -1.1832572221755981, -1.4621191024780273, -2.7189085483551025, 12.73173999786377], \"yaxis\": \"y\"}],                        {\"coloraxis\": {\"colorbar\": {\"title\": {\"text\": \"Anomaly\"}}, \"colorscale\": [[0.0, \"#0d0887\"], [0.1111111111111111, \"#46039f\"], [0.2222222222222222, \"#7201a8\"], [0.3333333333333333, \"#9c179e\"], [0.4444444444444444, \"#bd3786\"], [0.5555555555555556, \"#d8576b\"], [0.6666666666666666, \"#ed7953\"], [0.7777777777777778, \"#fb9f3a\"], [0.8888888888888888, \"#fdca26\"], [1.0, \"#f0f921\"]]}, \"height\": 800, \"legend\": {\"tracegroupgap\": 0}, \"template\": {\"data\": {\"bar\": [{\"error_x\": {\"color\": \"#2a3f5f\"}, \"error_y\": {\"color\": \"#2a3f5f\"}, \"marker\": {\"line\": {\"color\": \"#E5ECF6\", \"width\": 0.5}}, \"type\": \"bar\"}], \"barpolar\": [{\"marker\": {\"line\": {\"color\": \"#E5ECF6\", \"width\": 0.5}}, \"type\": \"barpolar\"}], \"carpet\": [{\"aaxis\": {\"endlinecolor\": \"#2a3f5f\", \"gridcolor\": \"white\", \"linecolor\": \"white\", \"minorgridcolor\": \"white\", \"startlinecolor\": \"#2a3f5f\"}, \"baxis\": {\"endlinecolor\": \"#2a3f5f\", \"gridcolor\": \"white\", \"linecolor\": \"white\", \"minorgridcolor\": \"white\", \"startlinecolor\": \"#2a3f5f\"}, \"type\": \"carpet\"}], \"choropleth\": [{\"colorbar\": {\"outlinewidth\": 0, \"ticks\": \"\"}, \"type\": \"choropleth\"}], \"contour\": [{\"colorbar\": {\"outlinewidth\": 0, \"ticks\": \"\"}, \"colorscale\": [[0.0, \"#0d0887\"], [0.1111111111111111, \"#46039f\"], [0.2222222222222222, \"#7201a8\"], [0.3333333333333333, \"#9c179e\"], [0.4444444444444444, \"#bd3786\"], [0.5555555555555556, \"#d8576b\"], [0.6666666666666666, \"#ed7953\"], [0.7777777777777778, \"#fb9f3a\"], [0.8888888888888888, \"#fdca26\"], [1.0, \"#f0f921\"]], \"type\": \"contour\"}], \"contourcarpet\": [{\"colorbar\": {\"outlinewidth\": 0, \"ticks\": \"\"}, \"type\": \"contourcarpet\"}], \"heatmap\": [{\"colorbar\": {\"outlinewidth\": 0, \"ticks\": \"\"}, \"colorscale\": [[0.0, \"#0d0887\"], [0.1111111111111111, \"#46039f\"], [0.2222222222222222, \"#7201a8\"], [0.3333333333333333, \"#9c179e\"], [0.4444444444444444, \"#bd3786\"], [0.5555555555555556, \"#d8576b\"], [0.6666666666666666, \"#ed7953\"], [0.7777777777777778, \"#fb9f3a\"], [0.8888888888888888, \"#fdca26\"], [1.0, \"#f0f921\"]], \"type\": \"heatmap\"}], \"heatmapgl\": [{\"colorbar\": {\"outlinewidth\": 0, \"ticks\": \"\"}, \"colorscale\": [[0.0, \"#0d0887\"], [0.1111111111111111, \"#46039f\"], [0.2222222222222222, \"#7201a8\"], [0.3333333333333333, \"#9c179e\"], [0.4444444444444444, \"#bd3786\"], [0.5555555555555556, \"#d8576b\"], [0.6666666666666666, \"#ed7953\"], [0.7777777777777778, \"#fb9f3a\"], [0.8888888888888888, \"#fdca26\"], [1.0, \"#f0f921\"]], \"type\": \"heatmapgl\"}], \"histogram\": [{\"marker\": {\"colorbar\": {\"outlinewidth\": 0, \"ticks\": \"\"}}, \"type\": \"histogram\"}], \"histogram2d\": [{\"colorbar\": {\"outlinewidth\": 0, \"ticks\": \"\"}, \"colorscale\": [[0.0, \"#0d0887\"], [0.1111111111111111, \"#46039f\"], [0.2222222222222222, \"#7201a8\"], [0.3333333333333333, \"#9c179e\"], [0.4444444444444444, \"#bd3786\"], [0.5555555555555556, \"#d8576b\"], [0.6666666666666666, \"#ed7953\"], [0.7777777777777778, \"#fb9f3a\"], [0.8888888888888888, \"#fdca26\"], [1.0, \"#f0f921\"]], \"type\": \"histogram2d\"}], \"histogram2dcontour\": [{\"colorbar\": {\"outlinewidth\": 0, \"ticks\": \"\"}, \"colorscale\": [[0.0, \"#0d0887\"], [0.1111111111111111, \"#46039f\"], [0.2222222222222222, \"#7201a8\"], [0.3333333333333333, \"#9c179e\"], [0.4444444444444444, \"#bd3786\"], [0.5555555555555556, \"#d8576b\"], [0.6666666666666666, \"#ed7953\"], [0.7777777777777778, \"#fb9f3a\"], [0.8888888888888888, \"#fdca26\"], [1.0, \"#f0f921\"]], \"type\": \"histogram2dcontour\"}], \"mesh3d\": [{\"colorbar\": {\"outlinewidth\": 0, \"ticks\": \"\"}, \"type\": \"mesh3d\"}], \"parcoords\": [{\"line\": {\"colorbar\": {\"outlinewidth\": 0, \"ticks\": \"\"}}, \"type\": \"parcoords\"}], \"pie\": [{\"automargin\": true, \"type\": \"pie\"}], \"scatter\": [{\"marker\": {\"colorbar\": {\"outlinewidth\": 0, \"ticks\": \"\"}}, \"type\": \"scatter\"}], \"scatter3d\": [{\"line\": {\"colorbar\": {\"outlinewidth\": 0, \"ticks\": \"\"}}, \"marker\": {\"colorbar\": {\"outlinewidth\": 0, \"ticks\": \"\"}}, \"type\": \"scatter3d\"}], \"scattercarpet\": [{\"marker\": {\"colorbar\": {\"outlinewidth\": 0, \"ticks\": \"\"}}, \"type\": \"scattercarpet\"}], \"scattergeo\": [{\"marker\": {\"colorbar\": {\"outlinewidth\": 0, \"ticks\": \"\"}}, \"type\": \"scattergeo\"}], \"scattergl\": [{\"marker\": {\"colorbar\": {\"outlinewidth\": 0, \"ticks\": \"\"}}, \"type\": \"scattergl\"}], \"scattermapbox\": [{\"marker\": {\"colorbar\": {\"outlinewidth\": 0, \"ticks\": \"\"}}, \"type\": \"scattermapbox\"}], \"scatterpolar\": [{\"marker\": {\"colorbar\": {\"outlinewidth\": 0, \"ticks\": \"\"}}, \"type\": \"scatterpolar\"}], \"scatterpolargl\": [{\"marker\": {\"colorbar\": {\"outlinewidth\": 0, \"ticks\": \"\"}}, \"type\": \"scatterpolargl\"}], \"scatterternary\": [{\"marker\": {\"colorbar\": {\"outlinewidth\": 0, \"ticks\": \"\"}}, \"type\": \"scatterternary\"}], \"surface\": [{\"colorbar\": {\"outlinewidth\": 0, \"ticks\": \"\"}, \"colorscale\": [[0.0, \"#0d0887\"], [0.1111111111111111, \"#46039f\"], [0.2222222222222222, \"#7201a8\"], [0.3333333333333333, \"#9c179e\"], [0.4444444444444444, \"#bd3786\"], [0.5555555555555556, \"#d8576b\"], [0.6666666666666666, \"#ed7953\"], [0.7777777777777778, \"#fb9f3a\"], [0.8888888888888888, \"#fdca26\"], [1.0, \"#f0f921\"]], \"type\": \"surface\"}], \"table\": [{\"cells\": {\"fill\": {\"color\": \"#EBF0F8\"}, \"line\": {\"color\": \"white\"}}, \"header\": {\"fill\": {\"color\": \"#C8D4E3\"}, \"line\": {\"color\": \"white\"}}, \"type\": \"table\"}]}, \"layout\": {\"annotationdefaults\": {\"arrowcolor\": \"#2a3f5f\", \"arrowhead\": 0, \"arrowwidth\": 1}, \"coloraxis\": {\"colorbar\": {\"outlinewidth\": 0, \"ticks\": \"\"}}, \"colorscale\": {\"diverging\": [[0, \"#8e0152\"], [0.1, \"#c51b7d\"], [0.2, \"#de77ae\"], [0.3, \"#f1b6da\"], [0.4, \"#fde0ef\"], [0.5, \"#f7f7f7\"], [0.6, \"#e6f5d0\"], [0.7, \"#b8e186\"], [0.8, \"#7fbc41\"], [0.9, \"#4d9221\"], [1, \"#276419\"]], \"sequential\": [[0.0, \"#0d0887\"], [0.1111111111111111, \"#46039f\"], [0.2222222222222222, \"#7201a8\"], [0.3333333333333333, \"#9c179e\"], [0.4444444444444444, \"#bd3786\"], [0.5555555555555556, \"#d8576b\"], [0.6666666666666666, \"#ed7953\"], [0.7777777777777778, \"#fb9f3a\"], [0.8888888888888888, \"#fdca26\"], [1.0, \"#f0f921\"]], \"sequentialminus\": [[0.0, \"#0d0887\"], [0.1111111111111111, \"#46039f\"], [0.2222222222222222, \"#7201a8\"], [0.3333333333333333, \"#9c179e\"], [0.4444444444444444, \"#bd3786\"], [0.5555555555555556, \"#d8576b\"], [0.6666666666666666, \"#ed7953\"], [0.7777777777777778, \"#fb9f3a\"], [0.8888888888888888, \"#fdca26\"], [1.0, \"#f0f921\"]]}, \"colorway\": [\"#636efa\", \"#EF553B\", \"#00cc96\", \"#ab63fa\", \"#FFA15A\", \"#19d3f3\", \"#FF6692\", \"#B6E880\", \"#FF97FF\", \"#FECB52\"], \"font\": {\"color\": \"#2a3f5f\"}, \"geo\": {\"bgcolor\": \"white\", \"lakecolor\": \"white\", \"landcolor\": \"#E5ECF6\", \"showlakes\": true, \"showland\": true, \"subunitcolor\": \"white\"}, \"hoverlabel\": {\"align\": \"left\"}, \"hovermode\": \"closest\", \"mapbox\": {\"style\": \"light\"}, \"paper_bgcolor\": \"white\", \"plot_bgcolor\": \"#E5ECF6\", \"polar\": {\"angularaxis\": {\"gridcolor\": \"white\", \"linecolor\": \"white\", \"ticks\": \"\"}, \"bgcolor\": \"#E5ECF6\", \"radialaxis\": {\"gridcolor\": \"white\", \"linecolor\": \"white\", \"ticks\": \"\"}}, \"scene\": {\"xaxis\": {\"backgroundcolor\": \"#E5ECF6\", \"gridcolor\": \"white\", \"gridwidth\": 2, \"linecolor\": \"white\", \"showbackground\": true, \"ticks\": \"\", \"zerolinecolor\": \"white\"}, \"yaxis\": {\"backgroundcolor\": \"#E5ECF6\", \"gridcolor\": \"white\", \"gridwidth\": 2, \"linecolor\": \"white\", \"showbackground\": true, \"ticks\": \"\", \"zerolinecolor\": \"white\"}, \"zaxis\": {\"backgroundcolor\": \"#E5ECF6\", \"gridcolor\": \"white\", \"gridwidth\": 2, \"linecolor\": \"white\", \"showbackground\": true, \"ticks\": \"\", \"zerolinecolor\": \"white\"}}, \"shapedefaults\": {\"line\": {\"color\": \"#2a3f5f\"}}, \"ternary\": {\"aaxis\": {\"gridcolor\": \"white\", \"linecolor\": \"white\", \"ticks\": \"\"}, \"baxis\": {\"gridcolor\": \"white\", \"linecolor\": \"white\", \"ticks\": \"\"}, \"bgcolor\": \"#E5ECF6\", \"caxis\": {\"gridcolor\": \"white\", \"linecolor\": \"white\", \"ticks\": \"\"}}, \"title\": {\"x\": 0.05}, \"xaxis\": {\"automargin\": true, \"gridcolor\": \"white\", \"linecolor\": \"white\", \"ticks\": \"\", \"title\": {\"standoff\": 15}, \"zerolinecolor\": \"white\", \"zerolinewidth\": 2}, \"yaxis\": {\"automargin\": true, \"gridcolor\": \"white\", \"linecolor\": \"white\", \"ticks\": \"\", \"title\": {\"standoff\": 15}, \"zerolinecolor\": \"white\", \"zerolinewidth\": 2}}}, \"title\": {\"text\": \"uMAP Plot for Outliers\"}, \"width\": 900, \"xaxis\": {\"anchor\": \"y\", \"domain\": [0.0, 1.0], \"title\": {\"text\": \"0\"}}, \"yaxis\": {\"anchor\": \"x\", \"domain\": [0.0, 1.0], \"title\": {\"text\": \"1\"}}},                        {\"responsive\": true}                    ).then(function(){\n",
       "                            \n",
       "var gd = document.getElementById('e35a6a28-b845-4a3a-9d7f-944e445b6b8f');\n",
       "var x = new MutationObserver(function (mutations, observer) {{\n",
       "        var display = window.getComputedStyle(gd).display;\n",
       "        if (!display || display === 'none') {{\n",
       "            console.log([gd, 'removed!']);\n",
       "            Plotly.purge(gd);\n",
       "            observer.disconnect();\n",
       "        }}\n",
       "}});\n",
       "\n",
       "// Listen for the removal of the full notebook cells\n",
       "var notebookContainer = gd.closest('#notebook-container');\n",
       "if (notebookContainer) {{\n",
       "    x.observe(notebookContainer, {childList: true});\n",
       "}}\n",
       "\n",
       "// Listen for the clearing of the current output cell\n",
       "var outputEl = gd.closest('.output');\n",
       "if (outputEl) {{\n",
       "    x.observe(outputEl, {childList: true});\n",
       "}}\n",
       "\n",
       "                        })                };                });            </script>        </div>"
      ]
     },
     "metadata": {},
     "output_type": "display_data"
    }
   ],
   "source": [
    "plot_model(anom_model, plot = 'umap')"
   ]
  },
  {
   "cell_type": "markdown",
   "metadata": {},
   "source": [
    "#### save model with the pipline"
   ]
  },
  {
   "cell_type": "code",
   "execution_count": 42,
   "metadata": {},
   "outputs": [
    {
     "name": "stdout",
     "output_type": "stream",
     "text": [
      "Transformation Pipeline and Model Successfully Saved\n"
     ]
    },
    {
     "data": {
      "text/plain": [
       "(Pipeline(memory=None,\n",
       "          steps=[('dtypes',\n",
       "                  DataTypes_Auto_infer(categorical_features=[],\n",
       "                                       display_types=False, features_todrop=[],\n",
       "                                       id_columns=[], ml_usecase='regression',\n",
       "                                       numerical_features=[],\n",
       "                                       target='UNSUPERVISED_DUMMY_TARGET',\n",
       "                                       time_features=[])),\n",
       "                 ('imputer',\n",
       "                  Simple_Imputer(categorical_strategy='most frequent',\n",
       "                                 fill_value_categorical=None,\n",
       "                                 fill_value_numerical=Non...\n",
       "                 ('fix_perfect', 'passthrough'),\n",
       "                 ('clean_names', Clean_Colum_Names()),\n",
       "                 ('feature_select', 'passthrough'), ('fix_multi', 'passthrough'),\n",
       "                 ('dfs', 'passthrough'), ('pca', 'passthrough'),\n",
       "                 ['trained_model',\n",
       "                  IForest(behaviour='new', bootstrap=False, contamination=0.05,\n",
       "     max_features=1.0, max_samples='auto', n_estimators=100, n_jobs=-1,\n",
       "     random_state=3840, verbose=0)]],\n",
       "          verbose=False),\n",
       " 'iforest_model.pkl')"
      ]
     },
     "execution_count": 42,
     "metadata": {},
     "output_type": "execute_result"
    }
   ],
   "source": [
    "save_model(model = anom_model, model_name = 'iforest_model')\n"
   ]
  },
  {
   "cell_type": "markdown",
   "metadata": {},
   "source": [
    "#### load model"
   ]
  },
  {
   "cell_type": "code",
   "execution_count": 44,
   "metadata": {},
   "outputs": [
    {
     "name": "stdout",
     "output_type": "stream",
     "text": [
      "Transformation Pipeline and Model Successfully Loaded\n"
     ]
    },
    {
     "data": {
      "text/plain": [
       "sklearn.pipeline.Pipeline"
      ]
     },
     "execution_count": 44,
     "metadata": {},
     "output_type": "execute_result"
    }
   ],
   "source": [
    "loaded_model = load_model('iforest_model')\n",
    "type(loaded_model)"
   ]
  },
  {
   "cell_type": "markdown",
   "metadata": {},
   "source": [
    "#### predict unseen data"
   ]
  },
  {
   "cell_type": "code",
   "execution_count": 46,
   "metadata": {},
   "outputs": [
    {
     "data": {
      "text/plain": [
       "array([0, 0, 0, 1, 0, 0, 0, 0, 1, 0])"
      ]
     },
     "execution_count": 46,
     "metadata": {},
     "output_type": "execute_result"
    }
   ],
   "source": [
    "loaded_model.predict(df_unseen)"
   ]
  },
  {
   "cell_type": "markdown",
   "metadata": {},
   "source": [
    "#### predict probability of anomaly (0 or 1)"
   ]
  },
  {
   "cell_type": "code",
   "execution_count": 49,
   "metadata": {
    "scrolled": true
   },
   "outputs": [
    {
     "data": {
      "text/plain": [
       "array([[0.79132231, 0.20867769],\n",
       "       [0.86907046, 0.13092954],\n",
       "       [0.54452383, 0.45547617],\n",
       "       [0.4193876 , 0.5806124 ],\n",
       "       [0.49359522, 0.50640478],\n",
       "       [0.50416642, 0.49583358],\n",
       "       [0.653669  , 0.346331  ],\n",
       "       [0.81318812, 0.18681188],\n",
       "       [0.27875705, 0.72124295],\n",
       "       [0.56326028, 0.43673972]])"
      ]
     },
     "execution_count": 49,
     "metadata": {},
     "output_type": "execute_result"
    }
   ],
   "source": [
    "loaded_model.predict_proba(df_unseen)"
   ]
  },
  {
   "cell_type": "markdown",
   "metadata": {},
   "source": [
    "#### descission is as anomaly descission column negative is normal "
   ]
  },
  {
   "cell_type": "code",
   "execution_count": 50,
   "metadata": {},
   "outputs": [
    {
     "data": {
      "text/plain": [
       "array([-0.10886554, -0.13441155, -0.02777402,  0.01334246, -0.01104022,\n",
       "       -0.01451364, -0.06363627, -0.11605008,  0.05954998, -0.03393033])"
      ]
     },
     "execution_count": 50,
     "metadata": {},
     "output_type": "execute_result"
    }
   ],
   "source": [
    "loaded_model.decision_function(df_unseen)"
   ]
  }
 ],
 "metadata": {
  "kernelspec": {
   "display_name": "Python 3",
   "language": "python",
   "name": "python3"
  },
  "language_info": {
   "codemirror_mode": {
    "name": "ipython",
    "version": 3
   },
   "file_extension": ".py",
   "mimetype": "text/x-python",
   "name": "python",
   "nbconvert_exporter": "python",
   "pygments_lexer": "ipython3",
   "version": "3.7.9"
  }
 },
 "nbformat": 4,
 "nbformat_minor": 2
}
