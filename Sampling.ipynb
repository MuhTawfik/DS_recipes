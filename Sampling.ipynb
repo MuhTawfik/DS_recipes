{
 "cells": [
  {
   "cell_type": "code",
   "execution_count": 1,
   "metadata": {},
   "outputs": [],
   "source": [
    "import numpy as np\n",
    "import matplotlib.pyplot as plt\n",
    "import pandas as pd\n",
    "import seaborn as sns\n",
    "import psycopg2\n",
    "import sqlalchemy as sa\n",
    "import datetime\n",
    "from datetime import timedelta,datetime \n",
    "from dateutil.relativedelta import relativedelta\n",
    "from sklearn.cluster import KMeans\n",
    "import warnings \n",
    "\n",
    "from statsmodels.stats.diagnostic import lilliefors\n",
    "from scipy.stats import kstest, norm  ,shapiro \n",
    "\n",
    "# import sys\n",
    "# import os\n",
    "# sys.path.append(os.path.abspath(\"../\"))\n",
    "# #from recsys import *\n",
    "# #from generic_preprocessing import *\n",
    "# from IPython.display import HTML"
   ]
  },
  {
   "cell_type": "markdown",
   "metadata": {},
   "source": [
    "### Check normal distributed data "
   ]
  },
  {
   "cell_type": "code",
   "execution_count": 2,
   "metadata": {
    "scrolled": true
   },
   "outputs": [
    {
     "data": {
      "image/png": "[encoded data removed]",
      "text/plain": [
       "<Figure size 432x288 with 1 Axes>"
      ]
     },
     "metadata": {
      "needs_background": "light"
     },
     "output_type": "display_data"
    }
   ],
   "source": [
    "\n",
    "\n",
    "\n",
    "# Generate some data for this demonstration.\n",
    "data = norm.rvs(10.0, 2.5, size=500)\n",
    "\n",
    "# Fit a normal distribution to the data:\n",
    "mu, std = norm.fit(data)\n",
    "\n",
    "# Plot the histogram.\n",
    "plt.hist(data, bins=25, density=True, alpha=0.6, color='g')\n",
    "\n",
    "# Plot the PDF.\n",
    "xmin, xmax = plt.xlim()\n",
    "x = np.linspace(xmin, xmax, 100)\n",
    "p = norm.pdf(x, mu, std)\n",
    "plt.plot(x, p, 'k', linewidth=2)\n",
    "title = \"Fit results: mu = %.2f,  std = %.2f\" % (mu, std)\n",
    "plt.title(title)\n",
    "\n",
    "plt.show()"
   ]
  },
  {
   "cell_type": "markdown",
   "metadata": {},
   "source": [
    "## our  data"
   ]
  },
  {
   "cell_type": "code",
   "execution_count": 39,
   "metadata": {},
   "outputs": [],
   "source": [
    "df=pd.read_csv('GM battary service campaign2.csv')"
   ]
  },
  {
   "cell_type": "code",
   "execution_count": 40,
   "metadata": {},
   "outputs": [],
   "source": [
    "df['spending']=df['trx'] * 500"
   ]
  },
  {
   "cell_type": "code",
   "execution_count": 41,
   "metadata": {},
   "outputs": [
    {
     "data": {
      "text/plain": [
       "customer_magic     int64\n",
       "vehicle_magic      int64\n",
       "segment           object\n",
       "mobile             int64\n",
       "emailadd          object\n",
       "max_date          object\n",
       "trx                int64\n",
       "pref_lang         object\n",
       "spending           int64\n",
       "dtype: object"
      ]
     },
     "execution_count": 41,
     "metadata": {},
     "output_type": "execute_result"
    }
   ],
   "source": [
    "df.dtypes"
   ]
  },
  {
   "cell_type": "code",
   "execution_count": 45,
   "metadata": {},
   "outputs": [
    {
     "ename": "TypeError",
     "evalue": "'module' object is not callable",
     "output_type": "error",
     "traceback": [
      "\u001b[0;31m---------------------------------------------------------------------------\u001b[0m",
      "\u001b[0;31mTypeError\u001b[0m                                 Traceback (most recent call last)",
      "\u001b[0;32m<ipython-input-45-b49696cf497a>\u001b[0m in \u001b[0;36m<module>\u001b[0;34m\u001b[0m\n\u001b[1;32m      1\u001b[0m \u001b[0;31m#%debug\u001b[0m\u001b[0;34m\u001b[0m\u001b[0;34m\u001b[0m\u001b[0;34m\u001b[0m\u001b[0m\n\u001b[1;32m      2\u001b[0m \u001b[0mcrd\u001b[0m\u001b[0;34m=\u001b[0m\u001b[0mpd\u001b[0m\u001b[0;34m.\u001b[0m\u001b[0mread_csv\u001b[0m\u001b[0;34m(\u001b[0m\u001b[0;34m'../../credental.csv'\u001b[0m\u001b[0;34m)\u001b[0m\u001b[0;34m\u001b[0m\u001b[0;34m\u001b[0m\u001b[0m\n\u001b[0;32m----> 3\u001b[0;31m \u001b[0mrfm\u001b[0m\u001b[0;34m=\u001b[0m\u001b[0mRFM\u001b[0m\u001b[0;34m(\u001b[0m\u001b[0mcrd\u001b[0m\u001b[0;34m,\u001b[0m\u001b[0;36m1\u001b[0m\u001b[0;34m,\u001b[0m\u001b[0;34m'test.csv'\u001b[0m\u001b[0;34m,\u001b[0m\u001b[0;32mNone\u001b[0m\u001b[0;34m)\u001b[0m\u001b[0;34m\u001b[0m\u001b[0;34m\u001b[0m\u001b[0m\n\u001b[0m\u001b[1;32m      4\u001b[0m \u001b[0md\u001b[0m\u001b[0;34m=\u001b[0m\u001b[0mrfm\u001b[0m\u001b[0;34m.\u001b[0m\u001b[0mRFM_calc\u001b[0m\u001b[0;34m(\u001b[0m\u001b[0;34m)\u001b[0m\u001b[0;34m\u001b[0m\u001b[0;34m\u001b[0m\u001b[0m\n\u001b[1;32m      5\u001b[0m \u001b[0md\u001b[0m\u001b[0;34m\u001b[0m\u001b[0;34m\u001b[0m\u001b[0m\n",
      "\u001b[0;31mTypeError\u001b[0m: 'module' object is not callable"
     ]
    }
   ],
   "source": [
    "#%debug\n",
    "crd=pd.read_csv('../../credental.csv')\n",
    "rfm=RFM(crd,1,'test.csv',None)\n",
    "d=rfm.RFM_calc()\n",
    "d\n"
   ]
  },
  {
   "cell_type": "code",
   "execution_count": null,
   "metadata": {
    "scrolled": true
   },
   "outputs": [],
   "source": [
    "# Fit a normal distribution to the data:\n",
    "mu_df, std_df = norm.fit(df['trx'])\n",
    "\n",
    "# Plot the histogram.\n",
    "plt.hist(df['trx'], bins=25, density=True, alpha=0.6, color='g')\n",
    "\n",
    "# Plot the PDF.\n",
    "xmin, xmax = plt.xlim()\n",
    "x = np.linspace(xmin, xmax, 100)\n",
    "p = norm.pdf(x, mu_df, std_df)\n",
    "plt.plot(x, p, 'k', linewidth=2)\n",
    "title = \"Fit results: mu = %.2f,  std = %.2f\" % (mu_df, std_df)\n",
    "plt.title(title)\n",
    "\n",
    "plt.show()"
   ]
  },
  {
   "cell_type": "markdown",
   "metadata": {},
   "source": [
    "### Kolmogorov Smirnov test"
   ]
  },
  {
   "cell_type": "code",
   "execution_count": null,
   "metadata": {
    "scrolled": false
   },
   "outputs": [],
   "source": [
    "\n",
    "def Kolmogorov_test(df):\n",
    "    ks_statistic, p_value = kstest(df, 'norm')\n",
    "    print(ks_statistic, p_value)\n",
    "    if p_value <0.05:\n",
    "        print(\"reject H0 that distribution is normal\") #not normal\n",
    "    else:\n",
    "        print(\"can't reject H0 that distribution is normal\") # normal"
   ]
  },
  {
   "cell_type": "markdown",
   "metadata": {},
   "source": [
    "## Lilliefors test"
   ]
  },
  {
   "cell_type": "code",
   "execution_count": null,
   "metadata": {},
   "outputs": [],
   "source": [
    "#If the P-Value of the Lilliefors Test is larger than 0.05, we assume a normal distribution\n",
    "def Lilliefors_test(df):\n",
    "    ksstat,p=lilliefors(df)\n",
    "\n",
    "    if p <0.05:\n",
    "        print(\"reject H0 that distribution is normal\") #not normal\n",
    "    else:\n",
    "        print(\"can't reject H0 that distribution is normal\") # normal"
   ]
  },
  {
   "cell_type": "markdown",
   "metadata": {},
   "source": [
    "## Shapiro Wilk test"
   ]
  },
  {
   "cell_type": "code",
   "execution_count": null,
   "metadata": {
    "scrolled": true
   },
   "outputs": [],
   "source": [
    "#Shapiro Wilk normal distribution test\n",
    "#If the P-Value of the Shapiro Wilk Test is larger than 0.05, we assume a normal distribution p-value may not be accurate for N > 5000\n",
    "def shapiro_test(df):\n",
    "    stat, p=shapiro(df)\n",
    "    if p <0.05:\n",
    "            print(\"reject H0 that distribution is normal\") #not normal\n",
    "    else:\n",
    "        print(\"can't reject H0 that distribution is normal\") # normal\n"
   ]
  },
  {
   "cell_type": "code",
   "execution_count": null,
   "metadata": {},
   "outputs": [],
   "source": [
    "Kolmogorov_test(df.trx)"
   ]
  },
  {
   "cell_type": "code",
   "execution_count": null,
   "metadata": {},
   "outputs": [],
   "source": [
    "Kolmogorov_test(data)"
   ]
  },
  {
   "cell_type": "code",
   "execution_count": null,
   "metadata": {
    "scrolled": true
   },
   "outputs": [],
   "source": [
    "# !pip3 uninstall statsmodels --yes\n",
    "# !pip3 install numpy scipy patsy pandas\n",
    "# !pip3 install statsmodels"
   ]
  },
  {
   "cell_type": "code",
   "execution_count": null,
   "metadata": {},
   "outputs": [],
   "source": [
    "Lilliefors_test(df.trx)"
   ]
  },
  {
   "cell_type": "code",
   "execution_count": null,
   "metadata": {},
   "outputs": [],
   "source": [
    "Lilliefors_test(data)"
   ]
  },
  {
   "cell_type": "code",
   "execution_count": null,
   "metadata": {},
   "outputs": [],
   "source": [
    "shapiro_test(df.trx)"
   ]
  },
  {
   "cell_type": "code",
   "execution_count": null,
   "metadata": {},
   "outputs": [],
   "source": [
    "shapiro_test(data)"
   ]
  },
  {
   "cell_type": "markdown",
   "metadata": {},
   "source": [
    "# Sampling methods"
   ]
  },
  {
   "cell_type": "markdown",
   "metadata": {},
   "source": [
    "1- Random Sampling"
   ]
  },
  {
   "cell_type": "code",
   "execution_count": null,
   "metadata": {},
   "outputs": [],
   "source": [
    "def random_sampling(df,population_count):\n",
    "    sample_count=population_count*.1\n",
    "    random_sample=df.sample(int(sample_count))\n",
    "    return random_sample\n",
    "    "
   ]
  },
  {
   "cell_type": "markdown",
   "metadata": {},
   "source": [
    "2- systematic sampling"
   ]
  },
  {
   "cell_type": "code",
   "execution_count": null,
   "metadata": {},
   "outputs": [],
   "source": [
    "def systematic_sampling(df, step):\n",
    "    indexes = np.arange(0, len(df), step=step)\n",
    "    systematic_sample = df.iloc[indexes]\n",
    "    return systematic_sample"
   ]
  },
  {
   "cell_type": "markdown",
   "metadata": {},
   "source": [
    "### you can also use RFM to segment your customers then use starified sampling to get even sample from each cluster"
   ]
  },
  {
   "cell_type": "code",
   "execution_count": 42,
   "metadata": {},
   "outputs": [],
   "source": [
    "class RFM:\n",
    "    def __init__(self, crd,is_csv,csv_file=None,sql_query=None):\n",
    "        self.crd=crd\n",
    "        self.is_csv=is_csv\n",
    "        if is_csv==1:\n",
    "            self.csv_file=csv_file\n",
    "        else:\n",
    "            self.sql_query=sql_query\n",
    "    def connect(self):\n",
    "        redshift = psycopg2.connect(host=crd['server'][0],\n",
    "                                    database=crd['DB'][0], \n",
    "                                    user=crd['User'][0], \n",
    "                                    password=crd['Password'][0],\n",
    "                                    port=crd['Port'][0]\n",
    "                                   )\n",
    "        print('Connection successful')\n",
    "        return redshift\n",
    "    \n",
    "    def getdata(self,sqlText):\n",
    "        redshift=self.connect()\n",
    "        df=pd.read_sql_query(sqlText,redshift)\n",
    "        return df\n",
    "    \n",
    "    def data_processing(self):\n",
    "        #processing \n",
    "        if self.is_csv==1:\n",
    "            df=pd.read_csv(self.csv_file) \n",
    "        else:\n",
    "            df=self.getdata()\n",
    "        print( df['recency'].dtypes)\n",
    "        if df['recency'].dtypes=='object':            \n",
    "            df['recency'] = df['recency'].astype('timedelta64[D]')\n",
    "        df=df.replace(np.nan, 0)\n",
    "        df.to_csv('mm2.csv')\n",
    "        #remove_otliers\n",
    "        p99_spending=df['spending'].quantile([ .99])\n",
    "        p99_trx=df['trx'].quantile([ .99])\n",
    "        p99_rec=df['recency'].quantile([ .99])\n",
    "        df['recency']=df['recency'].astype(int)         \n",
    "        df['is_outlier']=df.apply(lambda row: self.outliers(row,p99_spending,p99_trx),axis=1) \n",
    "#         df=df[(df['spending']<p99_spending.item()) & (df['spending']>0) ]\n",
    "        \n",
    "#         df=df[ (df['recency']<=p99_rec.item())  & (df['recency']>0) ]  \n",
    "#         df=df[    df['trx']<p99_trx.item()]\n",
    "\n",
    "        return df\n",
    "    \n",
    "    \n",
    "    def outliers(self,df,p99_spending,p99_rec):\n",
    "        if df['spending']>p99_spending.item() or df['spending']<=0 or df['recency']>p99_rec.item() or df['recency']<=0.0:           \n",
    "            return  1\n",
    "        else:\n",
    "             return 0\n",
    "        \n",
    " #maximize the Bayesian Information Criterion  to get the right cluster number\n",
    "    def optimum_cluster(self,df,col): \n",
    "     \n",
    "        sse={}\n",
    "        tx  = rfm_table[[col ]]\n",
    "        for k in range(1, 10):\n",
    "            kmeans = KMeans(n_clusters=k, max_iter=1000).fit(tx )\n",
    "            tx [\"clusters\"] = kmeans.labels_\n",
    "            sse[k] = kmeans.inertia_ \n",
    "        plt.figure()\n",
    "        plt.plot(list(sse.keys()), list(sse.values()))\n",
    "        plt.xlabel(\"Number of cluster\")\n",
    "        plt.show()\n",
    "    #### Function for ordering clusters\n",
    "    def order_cluster(self,cluster_field_name, target_field_name, df, ascending):\n",
    "        new_cluster_field_name = 'new_'+cluster_field_name\n",
    "        df_new = df.groupby(cluster_field_name)[target_field_name].mean().reset_index()\n",
    "        df_new = df_new.sort_values(by=target_field_name, ascending = ascending).reset_index(drop=True)\n",
    "        df_new['index']=df_new.index\n",
    "        df_final = pd.merge(df, df_new[[cluster_field_name, 'index']], on=cluster_field_name)\n",
    "        df_final = df_final.drop([cluster_field_name], axis=1)\n",
    "        df_final = df_final.rename(columns={\"index\":cluster_field_name})\n",
    "        return df_final\n",
    "    \n",
    "    #Define a function to map the values \n",
    "    def set_value(self,row_number, assigned_value): \n",
    "        return assigned_value[row_number] \n",
    "    \n",
    "    def RFM_calc(self):\n",
    "        df=self.data_processing()\n",
    "        rfm_table = df.rename(columns = {'customer_code': 'Cap User ID', \n",
    "                                 'recency': 'Recency',\n",
    "                                 'trx':'Frequency',\n",
    "                                 'spending':'Monetary'}, inplace = False)\n",
    "\n",
    "        #Creating Recency Custer Tag Column\n",
    "       \n",
    "        #Frequency Clusters\n",
    "        kmeans = KMeans(n_clusters=5)\n",
    "        kmeans.fit(rfm_table[['Frequency']])\n",
    "        rfm_table['FrequencyCluster']=kmeans.predict(rfm_table[['Frequency']])\n",
    "        rfm_table = self.order_cluster('FrequencyCluster','Frequency', rfm_table, True)\n",
    "\n",
    "        #Monetary Clusters\n",
    "        kmeans = KMeans(n_clusters=5)\n",
    "        kmeans.fit(rfm_table[['Monetary']])\n",
    "        rfm_table['MonetaryCluster']=kmeans.predict(rfm_table[['Monetary']])\n",
    "        rfm_table = self.order_cluster('MonetaryCluster','Monetary', rfm_table, True)\n",
    "\n",
    "         #Recency Clusters\n",
    "        kmeans = KMeans(n_clusters=5)\n",
    "        kmeans.fit(rfm_table[['Recency']])\n",
    "        rfm_table['RecencyCluster']=kmeans.predict(rfm_table[['Recency']])\n",
    "        rfm_table = self.order_cluster('RecencyCluster','Recency', rfm_table, False)\n",
    "\n",
    "        M=rfm_table.groupby('MonetaryCluster')['Monetary'].agg(['min','max','mean']).reset_index()\n",
    "        F=rfm_table.groupby('FrequencyCluster')['Frequency'].agg(['min','max','mean']).reset_index()\n",
    "        R=rfm_table.groupby('RecencyCluster')['Recency'].agg(['min','max','mean']).reset_index()\n",
    "\n",
    "        M0='bw ' +str(M.iloc[0,1]) +' & ' +str(M.iloc[0,2]) \n",
    "        M1='bw ' +str(M.iloc[1,1]) +' & ' +str(M.iloc[1,2])\n",
    "        M2='bw ' +str(M.iloc[2,1]) +' & ' +str(M.iloc[2,2])\n",
    "        M3='bw ' +str(M.iloc[3,1]) +' & ' +str(M.iloc[3,2])\n",
    "        M4='bw ' +str(M.iloc[4,1]) +' & ' +str(M.iloc[4,2])\n",
    "\n",
    "        F0='bw ' +str(F.iloc[0,1]) +' & ' +str(F.iloc[0,2])\n",
    "        F1='bw ' +str(F.iloc[1,1]) +' & ' +str(F.iloc[1,2])\n",
    "        F2='bw ' +str(F.iloc[2,1]) +' & ' +str(F.iloc[2,2])\n",
    "        F3='bw ' +str(F.iloc[3,1]) +' & ' +str(F.iloc[3,2])\n",
    "        F4='bw ' +str(F.iloc[4,1]) +' & ' +str(F.iloc[4,2])\n",
    "\n",
    "        R0='bw ' +str(R.iloc[0,1]) +' & ' +str(R.iloc[0,2])\n",
    "        R1='bw ' +str(R.iloc[1,1]) +' & ' +str(R.iloc[1,2])\n",
    "        R2='bw ' +str(R.iloc[2,1]) +' & ' +str(R.iloc[2,2])\n",
    "        R3='bw ' +str(R.iloc[3,1]) +' & ' +str(R.iloc[3,2])\n",
    "        R4='bw ' +str(R.iloc[4,1]) +' & ' +str(R.iloc[4,2])\n",
    "\n",
    "\n",
    "        # Create the dictionary \n",
    "        m ={0 : M0, 1 : M1, 2 : M2, 3 : M3, 4 : M4} \n",
    "        rfm_table['MonetaryClusterTag']=rfm_table['MonetaryCluster'].apply(self.set_value, args =(m, )) \n",
    "\n",
    "        r ={0 : R0, 1 : R1, 2 : R2, 3 : R3, 4 : R4} \n",
    "        rfm_table['RecencyClusterTag']=rfm_table['RecencyCluster'].apply(self.set_value, args =(r, ))\n",
    "\n",
    "        f ={0 : F0, 1 : F1, 2 : F2, 3 : F3, 4 : F4} \n",
    "        rfm_table['FrequencyClusterTag']=rfm_table['FrequencyCluster'].apply(self.set_value, args =(f, ))\n",
    "        \n",
    "        rfm_table[\"FrequencyClusterTag\"] = rfm_table[\"FrequencyClusterTag\"].astype(pd.api.types.CategoricalDtype(categories=[F0,F1,F2,F3,F4]))\n",
    "        rfm_table[\"MonetaryClusterTag\"] = rfm_table[\"MonetaryClusterTag\"].astype(pd.api.types.CategoricalDtype(categories=[M0,M1,M2,M3,M4]))\n",
    "        rfm_table[\"RecencyClusterTag\"] = rfm_table[\"RecencyClusterTag\"].astype(pd.api.types.CategoricalDtype(categories=[R0,R1,R2,R3,R4]))\n",
    "        rfm_table[\"RFM_Score\"] =rfm_table[\"RecencyCluster\"].map(str)+rfm_table[\"FrequencyCluster\"].map(str)+rfm_table[\"MonetaryCluster\"].map(str)\n",
    "        return rfm_table\n"
   ]
  },
  {
   "cell_type": "markdown",
   "metadata": {},
   "source": [
    "3- satified sampling"
   ]
  },
  {
   "cell_type": "code",
   "execution_count": null,
   "metadata": {},
   "outputs": [],
   "source": [
    "def __smpl_size(population, size):\n",
    "    \n",
    "    if size is None:\n",
    "        cochran_n = round(((1.96)**2 * 0.5 * 0.5)/ 0.02**2)\n",
    "        n = round(cochran_n/(1+((cochran_n -1) /population)))\n",
    "    elif size >= 0 and size < 1:\n",
    "        n = round(population * size)\n",
    "    elif size < 0:\n",
    "        raise ValueError('Parameter \"size\" must be an integer or a proportion between 0 and 0.99.')\n",
    "    elif size >= 1:\n",
    "        n = size\n",
    "    return n\n"
   ]
  },
  {
   "cell_type": "code",
   "execution_count": null,
   "metadata": {},
   "outputs": [],
   "source": [
    "def stratified_sample(df, strata, size=None, seed=None, keep_index= True):\n",
    "    population = len(df)\n",
    "    size = __smpl_size(population, size)\n",
    "    tmp = df[strata]\n",
    "    tmp['size'] = 1\n",
    "    tmp_grpd = tmp.groupby(strata).count().reset_index()\n",
    "    tmp_grpd['samp_size'] = round(size/population * tmp_grpd['size']).astype(int)\n",
    " \n",
    "    first = True \n",
    "    for i in range(len(tmp_grpd)):\n",
    "        # query generator for each iteration\n",
    "        qry=''\n",
    "        for s in range(len(strata)):\n",
    "            stratum = strata[s]\n",
    "            value = tmp_grpd.iloc[i][stratum]\n",
    "            n = tmp_grpd.iloc[i]['samp_size']\n",
    "\n",
    "            if type(value) == str:\n",
    "                value = \"'\" + str(value) + \"'\"\n",
    "            \n",
    "            if s != len(strata)-1:\n",
    "                qry = qry + stratum + ' == ' + str(value) +' & '\n",
    "            else:\n",
    "                qry = qry + stratum + ' == ' + str(value)\n",
    "        \n",
    "        # final dataframe\n",
    "        if first:\n",
    "            stratified_df = df.query(qry).sample(n=n, random_state=seed).reset_index(drop=(not keep_index))\n",
    "            first = False\n",
    "        else:\n",
    "            tmp_df = df.query(qry).sample(n=n, random_state=seed).reset_index(drop=(not keep_index))\n",
    "            stratified_df = stratified_df.append(tmp_df, ignore_index=True)\n",
    "    \n",
    "    return stratified_df\n"
   ]
  },
  {
   "cell_type": "code",
   "execution_count": null,
   "metadata": {},
   "outputs": [],
   "source": [
    "random_sample=random_sampling(df,df['customer_magic'].nunique())"
   ]
  },
  {
   "cell_type": "code",
   "execution_count": null,
   "metadata": {},
   "outputs": [],
   "source": [
    "systematic_sample=systematic_sampling(df,100)"
   ]
  },
  {
   "cell_type": "code",
   "execution_count": null,
   "metadata": {
    "scrolled": false
   },
   "outputs": [],
   "source": [
    "Ssize=__smpl_size(df['customer_magic'].nunique(),df['customer_magic'].nunique()*.1)\n",
    "starified_sampling=stratified_sample(df,['trx','max_date'],Ssize)"
   ]
  },
  {
   "cell_type": "code",
   "execution_count": null,
   "metadata": {},
   "outputs": [],
   "source": [
    "### RFM starified\n",
    "rfm=RFM(crd,1,'file.csv',None)\n",
    "d=rfm.RFM_calc()\n",
    "d\n",
    "Ssize=__smpl_size(d['customer_magic'].nunique(),df['customer_magic'].nunique()*.1)\n",
    "starified_sampling=stratified_sample(df,['RFM_Score'],Ssize)"
   ]
  },
  {
   "cell_type": "markdown",
   "metadata": {},
   "source": [
    "### check sample size and population representation "
   ]
  },
  {
   "cell_type": "markdown",
   "metadata": {},
   "source": [
    "### t-test"
   ]
  },
  {
   "cell_type": "code",
   "execution_count": null,
   "metadata": {},
   "outputs": [],
   "source": [
    "from scipy import stats\n",
    "#stats.ttest_rel(df.trx,random_sample.trx) #paired t-test \n",
    "stats.ttest_ind(df.trx,random_sample.trx, equal_var = False)#two-tailed test. If you want \n",
    "#to know if one group mean is greater or less than the other, use a left-tailed or right-tailed one-tailed test.\n"
   ]
  },
  {
   "cell_type": "code",
   "execution_count": null,
   "metadata": {},
   "outputs": [],
   "source": [
    "from numpy import mean\n",
    "from numpy import std\n",
    "print('data1: mean=%.3f stdv=%.3f' % (mean(df.trx), std(df.trx)))\n",
    "print('data2: mean=%.3f stdv=%.3f' % (mean(random_sample.trx), std(random_sample.trx)))"
   ]
  },
  {
   "cell_type": "markdown",
   "metadata": {},
   "source": [
    "### u-test"
   ]
  },
  {
   "cell_type": "code",
   "execution_count": null,
   "metadata": {
    "scrolled": true
   },
   "outputs": [],
   "source": [
    "from scipy.stats import mannwhitneyu\n",
    "def utest(df,sample):\n",
    "    stat, p = mannwhitneyu(df,sample)\n",
    "    print('Statistics=%.3f, p=%.3f' % (stat, p))\n",
    "    # interpret\n",
    "    alpha = 0.05\n",
    "    if p > alpha:\n",
    "        print('Same distribution (fail to reject H0)')\n",
    "    else:\n",
    "        print('Different distribution (reject H0)')"
   ]
  },
  {
   "cell_type": "code",
   "execution_count": null,
   "metadata": {},
   "outputs": [],
   "source": [
    "utest(df.trx, random_sample.trx)"
   ]
  },
  {
   "cell_type": "code",
   "execution_count": null,
   "metadata": {},
   "outputs": [],
   "source": [
    "utest(df['trx','max_date'],stratified_df['trx','max_date'])"
   ]
  }
 ],
 "metadata": {
  "kernelspec": {
   "display_name": "Python 3",
   "language": "python",
   "name": "python3"
  },
  "language_info": {
   "codemirror_mode": {
    "name": "ipython",
    "version": 3
   },
   "file_extension": ".py",
   "mimetype": "text/x-python",
   "name": "python",
   "nbconvert_exporter": "python",
   "pygments_lexer": "ipython3",
   "version": "3.7.9"
  }
 },
 "nbformat": 4,
 "nbformat_minor": 2
}
